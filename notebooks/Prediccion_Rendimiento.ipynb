{
 "cells": [
  {
   "cell_type": "markdown",
   "id": "f436d4866c1c795",
   "metadata": {},
   "source": [
    "# Proyecto: Predicción del Rendimiento Académico de Estudiantes\n",
    "\n",
    "--- \n",
    "\n",
    "## Objetivo del Proyecto\n",
    "\n",
    "Desarrollar un modelo predictivo que estime las notas finales de los estudiantes utilizando datos como horas de estudio, asistencia y participación en clase. Aplicaremos técnicas de ciencia de datos para analizar el \"Student Performance Dataset\" y utilizaremos modelos de regresión lineal y árboles de decisión.\n",
    "\n",
    "https://archive.ics.uci.edu/dataset/320/student+performance"
   ]
  },
  {
   "cell_type": "markdown",
   "id": "edb63ea09eecff9",
   "metadata": {},
   "source": [
    "# Información del conjunto de datos\n",
    "\n",
    "Este estudio analiza el rendimiento de los estudiantes en la educación secundaria de dos escuelas portuguesas. Los atributos de los datos incluyen calificaciones de los estudiantes, características demográficas, sociales y relacionadas con la escuela) y se recopilaron mediante informes escolares y cuestionarios. Se proporcionan dos conjuntos de datos sobre el rendimiento en dos materias distintas: matemáticas (mat) y lengua portuguesa (por). En [Cortez y Silva, 2008], los dos conjuntos de datos se modelaron bajo tareas de clasificación y regresión binarias/de cinco niveles. Nota importante: el atributo objetivo G3 tiene una fuerte correlación con los atributos G2 y G1. Esto ocurre porque G3 es la calificación del último año (emitida en el tercer período), mientras que G1 y G2 corresponden a las calificaciones del primer y segundo período. Es más difícil predecir G3 sin G2 y G1, pero dicha predicción es mucho más útil."
   ]
  },
  {
   "cell_type": "code",
   "execution_count": 1,
   "id": "initial_id",
   "metadata": {
    "ExecuteTime": {
     "end_time": "2024-11-08T00:50:53.232261Z",
     "start_time": "2024-11-08T00:50:48.997685Z"
    },
    "collapsed": true
   },
   "outputs": [
    {
     "name": "stdout",
     "output_type": "stream",
     "text": [
      "Requirement already satisfied: pandas in /Users/Orvar/Library/Mobile Documents/com~apple~CloudDocs/Universidad/Inteligencia Artificial/Proyecto_Final/Prediccion_Rendimiento_Estudiantil/.venv/lib/python3.12/site-packages (2.2.3)\n",
      "Requirement already satisfied: numpy in /Users/Orvar/Library/Mobile Documents/com~apple~CloudDocs/Universidad/Inteligencia Artificial/Proyecto_Final/Prediccion_Rendimiento_Estudiantil/.venv/lib/python3.12/site-packages (2.1.3)\n",
      "Requirement already satisfied: matplotlib in /Users/Orvar/Library/Mobile Documents/com~apple~CloudDocs/Universidad/Inteligencia Artificial/Proyecto_Final/Prediccion_Rendimiento_Estudiantil/.venv/lib/python3.12/site-packages (3.9.2)\n",
      "Requirement already satisfied: seaborn in /Users/Orvar/Library/Mobile Documents/com~apple~CloudDocs/Universidad/Inteligencia Artificial/Proyecto_Final/Prediccion_Rendimiento_Estudiantil/.venv/lib/python3.12/site-packages (0.13.2)\n",
      "Requirement already satisfied: scikit-learn in /Users/Orvar/Library/Mobile Documents/com~apple~CloudDocs/Universidad/Inteligencia Artificial/Proyecto_Final/Prediccion_Rendimiento_Estudiantil/.venv/lib/python3.12/site-packages (1.5.2)\n",
      "Requirement already satisfied: jupyter in /Users/Orvar/Library/Mobile Documents/com~apple~CloudDocs/Universidad/Inteligencia Artificial/Proyecto_Final/Prediccion_Rendimiento_Estudiantil/.venv/lib/python3.12/site-packages (1.1.1)\n",
      "Requirement already satisfied: xgboost in /Users/Orvar/Library/Mobile Documents/com~apple~CloudDocs/Universidad/Inteligencia Artificial/Proyecto_Final/Prediccion_Rendimiento_Estudiantil/.venv/lib/python3.12/site-packages (2.1.2)\n",
      "Requirement already satisfied: python-dateutil>=2.8.2 in /Users/Orvar/Library/Mobile Documents/com~apple~CloudDocs/Universidad/Inteligencia Artificial/Proyecto_Final/Prediccion_Rendimiento_Estudiantil/.venv/lib/python3.12/site-packages (from pandas) (2.9.0.post0)\n",
      "Requirement already satisfied: pytz>=2020.1 in /Users/Orvar/Library/Mobile Documents/com~apple~CloudDocs/Universidad/Inteligencia Artificial/Proyecto_Final/Prediccion_Rendimiento_Estudiantil/.venv/lib/python3.12/site-packages (from pandas) (2024.2)\n",
      "Requirement already satisfied: tzdata>=2022.7 in /Users/Orvar/Library/Mobile Documents/com~apple~CloudDocs/Universidad/Inteligencia Artificial/Proyecto_Final/Prediccion_Rendimiento_Estudiantil/.venv/lib/python3.12/site-packages (from pandas) (2024.2)\n",
      "Requirement already satisfied: contourpy>=1.0.1 in /Users/Orvar/Library/Mobile Documents/com~apple~CloudDocs/Universidad/Inteligencia Artificial/Proyecto_Final/Prediccion_Rendimiento_Estudiantil/.venv/lib/python3.12/site-packages (from matplotlib) (1.3.0)\n",
      "Requirement already satisfied: cycler>=0.10 in /Users/Orvar/Library/Mobile Documents/com~apple~CloudDocs/Universidad/Inteligencia Artificial/Proyecto_Final/Prediccion_Rendimiento_Estudiantil/.venv/lib/python3.12/site-packages (from matplotlib) (0.12.1)\n",
      "Requirement already satisfied: fonttools>=4.22.0 in /Users/Orvar/Library/Mobile Documents/com~apple~CloudDocs/Universidad/Inteligencia Artificial/Proyecto_Final/Prediccion_Rendimiento_Estudiantil/.venv/lib/python3.12/site-packages (from matplotlib) (4.54.1)\n",
      "Requirement already satisfied: kiwisolver>=1.3.1 in /Users/Orvar/Library/Mobile Documents/com~apple~CloudDocs/Universidad/Inteligencia Artificial/Proyecto_Final/Prediccion_Rendimiento_Estudiantil/.venv/lib/python3.12/site-packages (from matplotlib) (1.4.7)\n",
      "Requirement already satisfied: packaging>=20.0 in /Users/Orvar/Library/Mobile Documents/com~apple~CloudDocs/Universidad/Inteligencia Artificial/Proyecto_Final/Prediccion_Rendimiento_Estudiantil/.venv/lib/python3.12/site-packages (from matplotlib) (24.1)\n",
      "Requirement already satisfied: pillow>=8 in /Users/Orvar/Library/Mobile Documents/com~apple~CloudDocs/Universidad/Inteligencia Artificial/Proyecto_Final/Prediccion_Rendimiento_Estudiantil/.venv/lib/python3.12/site-packages (from matplotlib) (11.0.0)\n",
      "Requirement already satisfied: pyparsing>=2.3.1 in /Users/Orvar/Library/Mobile Documents/com~apple~CloudDocs/Universidad/Inteligencia Artificial/Proyecto_Final/Prediccion_Rendimiento_Estudiantil/.venv/lib/python3.12/site-packages (from matplotlib) (3.2.0)\n",
      "Requirement already satisfied: scipy>=1.6.0 in /Users/Orvar/Library/Mobile Documents/com~apple~CloudDocs/Universidad/Inteligencia Artificial/Proyecto_Final/Prediccion_Rendimiento_Estudiantil/.venv/lib/python3.12/site-packages (from scikit-learn) (1.14.1)\n",
      "Requirement already satisfied: joblib>=1.2.0 in /Users/Orvar/Library/Mobile Documents/com~apple~CloudDocs/Universidad/Inteligencia Artificial/Proyecto_Final/Prediccion_Rendimiento_Estudiantil/.venv/lib/python3.12/site-packages (from scikit-learn) (1.4.2)\n",
      "Requirement already satisfied: threadpoolctl>=3.1.0 in /Users/Orvar/Library/Mobile Documents/com~apple~CloudDocs/Universidad/Inteligencia Artificial/Proyecto_Final/Prediccion_Rendimiento_Estudiantil/.venv/lib/python3.12/site-packages (from scikit-learn) (3.5.0)\n",
      "Requirement already satisfied: notebook in /Users/Orvar/Library/Mobile Documents/com~apple~CloudDocs/Universidad/Inteligencia Artificial/Proyecto_Final/Prediccion_Rendimiento_Estudiantil/.venv/lib/python3.12/site-packages (from jupyter) (7.2.2)\n",
      "Requirement already satisfied: jupyter-console in /Users/Orvar/Library/Mobile Documents/com~apple~CloudDocs/Universidad/Inteligencia Artificial/Proyecto_Final/Prediccion_Rendimiento_Estudiantil/.venv/lib/python3.12/site-packages (from jupyter) (6.6.3)\n",
      "Requirement already satisfied: nbconvert in /Users/Orvar/Library/Mobile Documents/com~apple~CloudDocs/Universidad/Inteligencia Artificial/Proyecto_Final/Prediccion_Rendimiento_Estudiantil/.venv/lib/python3.12/site-packages (from jupyter) (7.16.4)\n",
      "Requirement already satisfied: ipykernel in /Users/Orvar/Library/Mobile Documents/com~apple~CloudDocs/Universidad/Inteligencia Artificial/Proyecto_Final/Prediccion_Rendimiento_Estudiantil/.venv/lib/python3.12/site-packages (from jupyter) (6.29.5)\n",
      "Requirement already satisfied: ipywidgets in /Users/Orvar/Library/Mobile Documents/com~apple~CloudDocs/Universidad/Inteligencia Artificial/Proyecto_Final/Prediccion_Rendimiento_Estudiantil/.venv/lib/python3.12/site-packages (from jupyter) (8.1.5)\n",
      "Requirement already satisfied: jupyterlab in /Users/Orvar/Library/Mobile Documents/com~apple~CloudDocs/Universidad/Inteligencia Artificial/Proyecto_Final/Prediccion_Rendimiento_Estudiantil/.venv/lib/python3.12/site-packages (from jupyter) (4.2.5)\n",
      "Requirement already satisfied: six>=1.5 in /Users/Orvar/Library/Mobile Documents/com~apple~CloudDocs/Universidad/Inteligencia Artificial/Proyecto_Final/Prediccion_Rendimiento_Estudiantil/.venv/lib/python3.12/site-packages (from python-dateutil>=2.8.2->pandas) (1.16.0)\n",
      "Requirement already satisfied: appnope in /Users/Orvar/Library/Mobile Documents/com~apple~CloudDocs/Universidad/Inteligencia Artificial/Proyecto_Final/Prediccion_Rendimiento_Estudiantil/.venv/lib/python3.12/site-packages (from ipykernel->jupyter) (0.1.4)\n",
      "Requirement already satisfied: comm>=0.1.1 in /Users/Orvar/Library/Mobile Documents/com~apple~CloudDocs/Universidad/Inteligencia Artificial/Proyecto_Final/Prediccion_Rendimiento_Estudiantil/.venv/lib/python3.12/site-packages (from ipykernel->jupyter) (0.2.2)\n",
      "Requirement already satisfied: debugpy>=1.6.5 in /Users/Orvar/Library/Mobile Documents/com~apple~CloudDocs/Universidad/Inteligencia Artificial/Proyecto_Final/Prediccion_Rendimiento_Estudiantil/.venv/lib/python3.12/site-packages (from ipykernel->jupyter) (1.8.7)\n",
      "Requirement already satisfied: ipython>=7.23.1 in /Users/Orvar/Library/Mobile Documents/com~apple~CloudDocs/Universidad/Inteligencia Artificial/Proyecto_Final/Prediccion_Rendimiento_Estudiantil/.venv/lib/python3.12/site-packages (from ipykernel->jupyter) (8.29.0)\n",
      "Requirement already satisfied: jupyter-client>=6.1.12 in /Users/Orvar/Library/Mobile Documents/com~apple~CloudDocs/Universidad/Inteligencia Artificial/Proyecto_Final/Prediccion_Rendimiento_Estudiantil/.venv/lib/python3.12/site-packages (from ipykernel->jupyter) (8.6.3)\n",
      "Requirement already satisfied: jupyter-core!=5.0.*,>=4.12 in /Users/Orvar/Library/Mobile Documents/com~apple~CloudDocs/Universidad/Inteligencia Artificial/Proyecto_Final/Prediccion_Rendimiento_Estudiantil/.venv/lib/python3.12/site-packages (from ipykernel->jupyter) (5.7.2)\n",
      "Requirement already satisfied: matplotlib-inline>=0.1 in /Users/Orvar/Library/Mobile Documents/com~apple~CloudDocs/Universidad/Inteligencia Artificial/Proyecto_Final/Prediccion_Rendimiento_Estudiantil/.venv/lib/python3.12/site-packages (from ipykernel->jupyter) (0.1.7)\n",
      "Requirement already satisfied: nest-asyncio in /Users/Orvar/Library/Mobile Documents/com~apple~CloudDocs/Universidad/Inteligencia Artificial/Proyecto_Final/Prediccion_Rendimiento_Estudiantil/.venv/lib/python3.12/site-packages (from ipykernel->jupyter) (1.6.0)\n",
      "Requirement already satisfied: psutil in /Users/Orvar/Library/Mobile Documents/com~apple~CloudDocs/Universidad/Inteligencia Artificial/Proyecto_Final/Prediccion_Rendimiento_Estudiantil/.venv/lib/python3.12/site-packages (from ipykernel->jupyter) (6.1.0)\n",
      "Requirement already satisfied: pyzmq>=24 in /Users/Orvar/Library/Mobile Documents/com~apple~CloudDocs/Universidad/Inteligencia Artificial/Proyecto_Final/Prediccion_Rendimiento_Estudiantil/.venv/lib/python3.12/site-packages (from ipykernel->jupyter) (26.2.0)\n",
      "Requirement already satisfied: tornado>=6.1 in /Users/Orvar/Library/Mobile Documents/com~apple~CloudDocs/Universidad/Inteligencia Artificial/Proyecto_Final/Prediccion_Rendimiento_Estudiantil/.venv/lib/python3.12/site-packages (from ipykernel->jupyter) (6.4.1)\n",
      "Requirement already satisfied: traitlets>=5.4.0 in /Users/Orvar/Library/Mobile Documents/com~apple~CloudDocs/Universidad/Inteligencia Artificial/Proyecto_Final/Prediccion_Rendimiento_Estudiantil/.venv/lib/python3.12/site-packages (from ipykernel->jupyter) (5.14.3)\n",
      "Requirement already satisfied: widgetsnbextension~=4.0.12 in /Users/Orvar/Library/Mobile Documents/com~apple~CloudDocs/Universidad/Inteligencia Artificial/Proyecto_Final/Prediccion_Rendimiento_Estudiantil/.venv/lib/python3.12/site-packages (from ipywidgets->jupyter) (4.0.13)\n",
      "Requirement already satisfied: jupyterlab-widgets~=3.0.12 in /Users/Orvar/Library/Mobile Documents/com~apple~CloudDocs/Universidad/Inteligencia Artificial/Proyecto_Final/Prediccion_Rendimiento_Estudiantil/.venv/lib/python3.12/site-packages (from ipywidgets->jupyter) (3.0.13)\n",
      "Requirement already satisfied: prompt-toolkit>=3.0.30 in /Users/Orvar/Library/Mobile Documents/com~apple~CloudDocs/Universidad/Inteligencia Artificial/Proyecto_Final/Prediccion_Rendimiento_Estudiantil/.venv/lib/python3.12/site-packages (from jupyter-console->jupyter) (3.0.48)\n",
      "Requirement already satisfied: pygments in /Users/Orvar/Library/Mobile Documents/com~apple~CloudDocs/Universidad/Inteligencia Artificial/Proyecto_Final/Prediccion_Rendimiento_Estudiantil/.venv/lib/python3.12/site-packages (from jupyter-console->jupyter) (2.18.0)\n",
      "Requirement already satisfied: async-lru>=1.0.0 in /Users/Orvar/Library/Mobile Documents/com~apple~CloudDocs/Universidad/Inteligencia Artificial/Proyecto_Final/Prediccion_Rendimiento_Estudiantil/.venv/lib/python3.12/site-packages (from jupyterlab->jupyter) (2.0.4)\n",
      "Requirement already satisfied: httpx>=0.25.0 in /Users/Orvar/Library/Mobile Documents/com~apple~CloudDocs/Universidad/Inteligencia Artificial/Proyecto_Final/Prediccion_Rendimiento_Estudiantil/.venv/lib/python3.12/site-packages (from jupyterlab->jupyter) (0.27.2)\n",
      "Requirement already satisfied: jinja2>=3.0.3 in /Users/Orvar/Library/Mobile Documents/com~apple~CloudDocs/Universidad/Inteligencia Artificial/Proyecto_Final/Prediccion_Rendimiento_Estudiantil/.venv/lib/python3.12/site-packages (from jupyterlab->jupyter) (3.1.4)\n",
      "Requirement already satisfied: jupyter-lsp>=2.0.0 in /Users/Orvar/Library/Mobile Documents/com~apple~CloudDocs/Universidad/Inteligencia Artificial/Proyecto_Final/Prediccion_Rendimiento_Estudiantil/.venv/lib/python3.12/site-packages (from jupyterlab->jupyter) (2.2.5)\n",
      "Requirement already satisfied: jupyter-server<3,>=2.4.0 in /Users/Orvar/Library/Mobile Documents/com~apple~CloudDocs/Universidad/Inteligencia Artificial/Proyecto_Final/Prediccion_Rendimiento_Estudiantil/.venv/lib/python3.12/site-packages (from jupyterlab->jupyter) (2.14.2)\n",
      "Requirement already satisfied: jupyterlab-server<3,>=2.27.1 in /Users/Orvar/Library/Mobile Documents/com~apple~CloudDocs/Universidad/Inteligencia Artificial/Proyecto_Final/Prediccion_Rendimiento_Estudiantil/.venv/lib/python3.12/site-packages (from jupyterlab->jupyter) (2.27.3)\n",
      "Requirement already satisfied: notebook-shim>=0.2 in /Users/Orvar/Library/Mobile Documents/com~apple~CloudDocs/Universidad/Inteligencia Artificial/Proyecto_Final/Prediccion_Rendimiento_Estudiantil/.venv/lib/python3.12/site-packages (from jupyterlab->jupyter) (0.2.4)\n",
      "Requirement already satisfied: setuptools>=40.1.0 in /Users/Orvar/Library/Mobile Documents/com~apple~CloudDocs/Universidad/Inteligencia Artificial/Proyecto_Final/Prediccion_Rendimiento_Estudiantil/.venv/lib/python3.12/site-packages (from jupyterlab->jupyter) (75.3.0)\n",
      "Requirement already satisfied: beautifulsoup4 in /Users/Orvar/Library/Mobile Documents/com~apple~CloudDocs/Universidad/Inteligencia Artificial/Proyecto_Final/Prediccion_Rendimiento_Estudiantil/.venv/lib/python3.12/site-packages (from nbconvert->jupyter) (4.12.3)\n",
      "Requirement already satisfied: bleach!=5.0.0 in /Users/Orvar/Library/Mobile Documents/com~apple~CloudDocs/Universidad/Inteligencia Artificial/Proyecto_Final/Prediccion_Rendimiento_Estudiantil/.venv/lib/python3.12/site-packages (from nbconvert->jupyter) (6.2.0)\n",
      "Requirement already satisfied: defusedxml in /Users/Orvar/Library/Mobile Documents/com~apple~CloudDocs/Universidad/Inteligencia Artificial/Proyecto_Final/Prediccion_Rendimiento_Estudiantil/.venv/lib/python3.12/site-packages (from nbconvert->jupyter) (0.7.1)\n",
      "Requirement already satisfied: jupyterlab-pygments in /Users/Orvar/Library/Mobile Documents/com~apple~CloudDocs/Universidad/Inteligencia Artificial/Proyecto_Final/Prediccion_Rendimiento_Estudiantil/.venv/lib/python3.12/site-packages (from nbconvert->jupyter) (0.3.0)\n",
      "Requirement already satisfied: markupsafe>=2.0 in /Users/Orvar/Library/Mobile Documents/com~apple~CloudDocs/Universidad/Inteligencia Artificial/Proyecto_Final/Prediccion_Rendimiento_Estudiantil/.venv/lib/python3.12/site-packages (from nbconvert->jupyter) (3.0.2)\n",
      "Requirement already satisfied: mistune<4,>=2.0.3 in /Users/Orvar/Library/Mobile Documents/com~apple~CloudDocs/Universidad/Inteligencia Artificial/Proyecto_Final/Prediccion_Rendimiento_Estudiantil/.venv/lib/python3.12/site-packages (from nbconvert->jupyter) (3.0.2)\n",
      "Requirement already satisfied: nbclient>=0.5.0 in /Users/Orvar/Library/Mobile Documents/com~apple~CloudDocs/Universidad/Inteligencia Artificial/Proyecto_Final/Prediccion_Rendimiento_Estudiantil/.venv/lib/python3.12/site-packages (from nbconvert->jupyter) (0.10.0)\n",
      "Requirement already satisfied: nbformat>=5.7 in /Users/Orvar/Library/Mobile Documents/com~apple~CloudDocs/Universidad/Inteligencia Artificial/Proyecto_Final/Prediccion_Rendimiento_Estudiantil/.venv/lib/python3.12/site-packages (from nbconvert->jupyter) (5.10.4)\n",
      "Requirement already satisfied: pandocfilters>=1.4.1 in /Users/Orvar/Library/Mobile Documents/com~apple~CloudDocs/Universidad/Inteligencia Artificial/Proyecto_Final/Prediccion_Rendimiento_Estudiantil/.venv/lib/python3.12/site-packages (from nbconvert->jupyter) (1.5.1)\n",
      "Requirement already satisfied: tinycss2 in /Users/Orvar/Library/Mobile Documents/com~apple~CloudDocs/Universidad/Inteligencia Artificial/Proyecto_Final/Prediccion_Rendimiento_Estudiantil/.venv/lib/python3.12/site-packages (from nbconvert->jupyter) (1.4.0)\n",
      "Requirement already satisfied: webencodings in /Users/Orvar/Library/Mobile Documents/com~apple~CloudDocs/Universidad/Inteligencia Artificial/Proyecto_Final/Prediccion_Rendimiento_Estudiantil/.venv/lib/python3.12/site-packages (from bleach!=5.0.0->nbconvert->jupyter) (0.5.1)\n",
      "Requirement already satisfied: anyio in /Users/Orvar/Library/Mobile Documents/com~apple~CloudDocs/Universidad/Inteligencia Artificial/Proyecto_Final/Prediccion_Rendimiento_Estudiantil/.venv/lib/python3.12/site-packages (from httpx>=0.25.0->jupyterlab->jupyter) (4.6.2.post1)\n",
      "Requirement already satisfied: certifi in /Users/Orvar/Library/Mobile Documents/com~apple~CloudDocs/Universidad/Inteligencia Artificial/Proyecto_Final/Prediccion_Rendimiento_Estudiantil/.venv/lib/python3.12/site-packages (from httpx>=0.25.0->jupyterlab->jupyter) (2024.8.30)\n",
      "Requirement already satisfied: httpcore==1.* in /Users/Orvar/Library/Mobile Documents/com~apple~CloudDocs/Universidad/Inteligencia Artificial/Proyecto_Final/Prediccion_Rendimiento_Estudiantil/.venv/lib/python3.12/site-packages (from httpx>=0.25.0->jupyterlab->jupyter) (1.0.6)\n",
      "Requirement already satisfied: idna in /Users/Orvar/Library/Mobile Documents/com~apple~CloudDocs/Universidad/Inteligencia Artificial/Proyecto_Final/Prediccion_Rendimiento_Estudiantil/.venv/lib/python3.12/site-packages (from httpx>=0.25.0->jupyterlab->jupyter) (3.10)\n",
      "Requirement already satisfied: sniffio in /Users/Orvar/Library/Mobile Documents/com~apple~CloudDocs/Universidad/Inteligencia Artificial/Proyecto_Final/Prediccion_Rendimiento_Estudiantil/.venv/lib/python3.12/site-packages (from httpx>=0.25.0->jupyterlab->jupyter) (1.3.1)\n",
      "Requirement already satisfied: h11<0.15,>=0.13 in /Users/Orvar/Library/Mobile Documents/com~apple~CloudDocs/Universidad/Inteligencia Artificial/Proyecto_Final/Prediccion_Rendimiento_Estudiantil/.venv/lib/python3.12/site-packages (from httpcore==1.*->httpx>=0.25.0->jupyterlab->jupyter) (0.14.0)\n",
      "Requirement already satisfied: decorator in /Users/Orvar/Library/Mobile Documents/com~apple~CloudDocs/Universidad/Inteligencia Artificial/Proyecto_Final/Prediccion_Rendimiento_Estudiantil/.venv/lib/python3.12/site-packages (from ipython>=7.23.1->ipykernel->jupyter) (5.1.1)\n",
      "Requirement already satisfied: jedi>=0.16 in /Users/Orvar/Library/Mobile Documents/com~apple~CloudDocs/Universidad/Inteligencia Artificial/Proyecto_Final/Prediccion_Rendimiento_Estudiantil/.venv/lib/python3.12/site-packages (from ipython>=7.23.1->ipykernel->jupyter) (0.19.1)\n",
      "Requirement already satisfied: stack-data in /Users/Orvar/Library/Mobile Documents/com~apple~CloudDocs/Universidad/Inteligencia Artificial/Proyecto_Final/Prediccion_Rendimiento_Estudiantil/.venv/lib/python3.12/site-packages (from ipython>=7.23.1->ipykernel->jupyter) (0.6.3)\n",
      "Requirement already satisfied: pexpect>4.3 in /Users/Orvar/Library/Mobile Documents/com~apple~CloudDocs/Universidad/Inteligencia Artificial/Proyecto_Final/Prediccion_Rendimiento_Estudiantil/.venv/lib/python3.12/site-packages (from ipython>=7.23.1->ipykernel->jupyter) (4.9.0)\n",
      "Requirement already satisfied: platformdirs>=2.5 in /Users/Orvar/Library/Mobile Documents/com~apple~CloudDocs/Universidad/Inteligencia Artificial/Proyecto_Final/Prediccion_Rendimiento_Estudiantil/.venv/lib/python3.12/site-packages (from jupyter-core!=5.0.*,>=4.12->ipykernel->jupyter) (4.3.6)\n",
      "Requirement already satisfied: argon2-cffi>=21.1 in /Users/Orvar/Library/Mobile Documents/com~apple~CloudDocs/Universidad/Inteligencia Artificial/Proyecto_Final/Prediccion_Rendimiento_Estudiantil/.venv/lib/python3.12/site-packages (from jupyter-server<3,>=2.4.0->jupyterlab->jupyter) (23.1.0)\n",
      "Requirement already satisfied: jupyter-events>=0.9.0 in /Users/Orvar/Library/Mobile Documents/com~apple~CloudDocs/Universidad/Inteligencia Artificial/Proyecto_Final/Prediccion_Rendimiento_Estudiantil/.venv/lib/python3.12/site-packages (from jupyter-server<3,>=2.4.0->jupyterlab->jupyter) (0.10.0)\n",
      "Requirement already satisfied: jupyter-server-terminals>=0.4.4 in /Users/Orvar/Library/Mobile Documents/com~apple~CloudDocs/Universidad/Inteligencia Artificial/Proyecto_Final/Prediccion_Rendimiento_Estudiantil/.venv/lib/python3.12/site-packages (from jupyter-server<3,>=2.4.0->jupyterlab->jupyter) (0.5.3)\n",
      "Requirement already satisfied: overrides>=5.0 in /Users/Orvar/Library/Mobile Documents/com~apple~CloudDocs/Universidad/Inteligencia Artificial/Proyecto_Final/Prediccion_Rendimiento_Estudiantil/.venv/lib/python3.12/site-packages (from jupyter-server<3,>=2.4.0->jupyterlab->jupyter) (7.7.0)\n",
      "Requirement already satisfied: prometheus-client>=0.9 in /Users/Orvar/Library/Mobile Documents/com~apple~CloudDocs/Universidad/Inteligencia Artificial/Proyecto_Final/Prediccion_Rendimiento_Estudiantil/.venv/lib/python3.12/site-packages (from jupyter-server<3,>=2.4.0->jupyterlab->jupyter) (0.21.0)\n",
      "Requirement already satisfied: send2trash>=1.8.2 in /Users/Orvar/Library/Mobile Documents/com~apple~CloudDocs/Universidad/Inteligencia Artificial/Proyecto_Final/Prediccion_Rendimiento_Estudiantil/.venv/lib/python3.12/site-packages (from jupyter-server<3,>=2.4.0->jupyterlab->jupyter) (1.8.3)\n",
      "Requirement already satisfied: terminado>=0.8.3 in /Users/Orvar/Library/Mobile Documents/com~apple~CloudDocs/Universidad/Inteligencia Artificial/Proyecto_Final/Prediccion_Rendimiento_Estudiantil/.venv/lib/python3.12/site-packages (from jupyter-server<3,>=2.4.0->jupyterlab->jupyter) (0.18.1)\n",
      "Requirement already satisfied: websocket-client>=1.7 in /Users/Orvar/Library/Mobile Documents/com~apple~CloudDocs/Universidad/Inteligencia Artificial/Proyecto_Final/Prediccion_Rendimiento_Estudiantil/.venv/lib/python3.12/site-packages (from jupyter-server<3,>=2.4.0->jupyterlab->jupyter) (1.8.0)\n",
      "Requirement already satisfied: babel>=2.10 in /Users/Orvar/Library/Mobile Documents/com~apple~CloudDocs/Universidad/Inteligencia Artificial/Proyecto_Final/Prediccion_Rendimiento_Estudiantil/.venv/lib/python3.12/site-packages (from jupyterlab-server<3,>=2.27.1->jupyterlab->jupyter) (2.16.0)\n",
      "Requirement already satisfied: json5>=0.9.0 in /Users/Orvar/Library/Mobile Documents/com~apple~CloudDocs/Universidad/Inteligencia Artificial/Proyecto_Final/Prediccion_Rendimiento_Estudiantil/.venv/lib/python3.12/site-packages (from jupyterlab-server<3,>=2.27.1->jupyterlab->jupyter) (0.9.25)\n",
      "Requirement already satisfied: jsonschema>=4.18.0 in /Users/Orvar/Library/Mobile Documents/com~apple~CloudDocs/Universidad/Inteligencia Artificial/Proyecto_Final/Prediccion_Rendimiento_Estudiantil/.venv/lib/python3.12/site-packages (from jupyterlab-server<3,>=2.27.1->jupyterlab->jupyter) (4.23.0)\n",
      "Requirement already satisfied: requests>=2.31 in /Users/Orvar/Library/Mobile Documents/com~apple~CloudDocs/Universidad/Inteligencia Artificial/Proyecto_Final/Prediccion_Rendimiento_Estudiantil/.venv/lib/python3.12/site-packages (from jupyterlab-server<3,>=2.27.1->jupyterlab->jupyter) (2.32.3)\n",
      "Requirement already satisfied: fastjsonschema>=2.15 in /Users/Orvar/Library/Mobile Documents/com~apple~CloudDocs/Universidad/Inteligencia Artificial/Proyecto_Final/Prediccion_Rendimiento_Estudiantil/.venv/lib/python3.12/site-packages (from nbformat>=5.7->nbconvert->jupyter) (2.20.0)\n",
      "Requirement already satisfied: wcwidth in /Users/Orvar/Library/Mobile Documents/com~apple~CloudDocs/Universidad/Inteligencia Artificial/Proyecto_Final/Prediccion_Rendimiento_Estudiantil/.venv/lib/python3.12/site-packages (from prompt-toolkit>=3.0.30->jupyter-console->jupyter) (0.2.13)\n",
      "Requirement already satisfied: soupsieve>1.2 in /Users/Orvar/Library/Mobile Documents/com~apple~CloudDocs/Universidad/Inteligencia Artificial/Proyecto_Final/Prediccion_Rendimiento_Estudiantil/.venv/lib/python3.12/site-packages (from beautifulsoup4->nbconvert->jupyter) (2.6)\n",
      "Requirement already satisfied: argon2-cffi-bindings in /Users/Orvar/Library/Mobile Documents/com~apple~CloudDocs/Universidad/Inteligencia Artificial/Proyecto_Final/Prediccion_Rendimiento_Estudiantil/.venv/lib/python3.12/site-packages (from argon2-cffi>=21.1->jupyter-server<3,>=2.4.0->jupyterlab->jupyter) (21.2.0)\n",
      "Requirement already satisfied: parso<0.9.0,>=0.8.3 in /Users/Orvar/Library/Mobile Documents/com~apple~CloudDocs/Universidad/Inteligencia Artificial/Proyecto_Final/Prediccion_Rendimiento_Estudiantil/.venv/lib/python3.12/site-packages (from jedi>=0.16->ipython>=7.23.1->ipykernel->jupyter) (0.8.4)\n",
      "Requirement already satisfied: attrs>=22.2.0 in /Users/Orvar/Library/Mobile Documents/com~apple~CloudDocs/Universidad/Inteligencia Artificial/Proyecto_Final/Prediccion_Rendimiento_Estudiantil/.venv/lib/python3.12/site-packages (from jsonschema>=4.18.0->jupyterlab-server<3,>=2.27.1->jupyterlab->jupyter) (24.2.0)\n",
      "Requirement already satisfied: jsonschema-specifications>=2023.03.6 in /Users/Orvar/Library/Mobile Documents/com~apple~CloudDocs/Universidad/Inteligencia Artificial/Proyecto_Final/Prediccion_Rendimiento_Estudiantil/.venv/lib/python3.12/site-packages (from jsonschema>=4.18.0->jupyterlab-server<3,>=2.27.1->jupyterlab->jupyter) (2024.10.1)\n",
      "Requirement already satisfied: referencing>=0.28.4 in /Users/Orvar/Library/Mobile Documents/com~apple~CloudDocs/Universidad/Inteligencia Artificial/Proyecto_Final/Prediccion_Rendimiento_Estudiantil/.venv/lib/python3.12/site-packages (from jsonschema>=4.18.0->jupyterlab-server<3,>=2.27.1->jupyterlab->jupyter) (0.35.1)\n",
      "Requirement already satisfied: rpds-py>=0.7.1 in /Users/Orvar/Library/Mobile Documents/com~apple~CloudDocs/Universidad/Inteligencia Artificial/Proyecto_Final/Prediccion_Rendimiento_Estudiantil/.venv/lib/python3.12/site-packages (from jsonschema>=4.18.0->jupyterlab-server<3,>=2.27.1->jupyterlab->jupyter) (0.21.0)\n",
      "Requirement already satisfied: python-json-logger>=2.0.4 in /Users/Orvar/Library/Mobile Documents/com~apple~CloudDocs/Universidad/Inteligencia Artificial/Proyecto_Final/Prediccion_Rendimiento_Estudiantil/.venv/lib/python3.12/site-packages (from jupyter-events>=0.9.0->jupyter-server<3,>=2.4.0->jupyterlab->jupyter) (2.0.7)\n",
      "Requirement already satisfied: pyyaml>=5.3 in /Users/Orvar/Library/Mobile Documents/com~apple~CloudDocs/Universidad/Inteligencia Artificial/Proyecto_Final/Prediccion_Rendimiento_Estudiantil/.venv/lib/python3.12/site-packages (from jupyter-events>=0.9.0->jupyter-server<3,>=2.4.0->jupyterlab->jupyter) (6.0.2)\n",
      "Requirement already satisfied: rfc3339-validator in /Users/Orvar/Library/Mobile Documents/com~apple~CloudDocs/Universidad/Inteligencia Artificial/Proyecto_Final/Prediccion_Rendimiento_Estudiantil/.venv/lib/python3.12/site-packages (from jupyter-events>=0.9.0->jupyter-server<3,>=2.4.0->jupyterlab->jupyter) (0.1.4)\n",
      "Requirement already satisfied: rfc3986-validator>=0.1.1 in /Users/Orvar/Library/Mobile Documents/com~apple~CloudDocs/Universidad/Inteligencia Artificial/Proyecto_Final/Prediccion_Rendimiento_Estudiantil/.venv/lib/python3.12/site-packages (from jupyter-events>=0.9.0->jupyter-server<3,>=2.4.0->jupyterlab->jupyter) (0.1.1)\n",
      "Requirement already satisfied: ptyprocess>=0.5 in /Users/Orvar/Library/Mobile Documents/com~apple~CloudDocs/Universidad/Inteligencia Artificial/Proyecto_Final/Prediccion_Rendimiento_Estudiantil/.venv/lib/python3.12/site-packages (from pexpect>4.3->ipython>=7.23.1->ipykernel->jupyter) (0.7.0)\n",
      "Requirement already satisfied: charset-normalizer<4,>=2 in /Users/Orvar/Library/Mobile Documents/com~apple~CloudDocs/Universidad/Inteligencia Artificial/Proyecto_Final/Prediccion_Rendimiento_Estudiantil/.venv/lib/python3.12/site-packages (from requests>=2.31->jupyterlab-server<3,>=2.27.1->jupyterlab->jupyter) (3.4.0)\n",
      "Requirement already satisfied: urllib3<3,>=1.21.1 in /Users/Orvar/Library/Mobile Documents/com~apple~CloudDocs/Universidad/Inteligencia Artificial/Proyecto_Final/Prediccion_Rendimiento_Estudiantil/.venv/lib/python3.12/site-packages (from requests>=2.31->jupyterlab-server<3,>=2.27.1->jupyterlab->jupyter) (2.2.3)\n",
      "Requirement already satisfied: executing>=1.2.0 in /Users/Orvar/Library/Mobile Documents/com~apple~CloudDocs/Universidad/Inteligencia Artificial/Proyecto_Final/Prediccion_Rendimiento_Estudiantil/.venv/lib/python3.12/site-packages (from stack-data->ipython>=7.23.1->ipykernel->jupyter) (2.1.0)\n",
      "Requirement already satisfied: asttokens>=2.1.0 in /Users/Orvar/Library/Mobile Documents/com~apple~CloudDocs/Universidad/Inteligencia Artificial/Proyecto_Final/Prediccion_Rendimiento_Estudiantil/.venv/lib/python3.12/site-packages (from stack-data->ipython>=7.23.1->ipykernel->jupyter) (2.4.1)\n",
      "Requirement already satisfied: pure-eval in /Users/Orvar/Library/Mobile Documents/com~apple~CloudDocs/Universidad/Inteligencia Artificial/Proyecto_Final/Prediccion_Rendimiento_Estudiantil/.venv/lib/python3.12/site-packages (from stack-data->ipython>=7.23.1->ipykernel->jupyter) (0.2.3)\n",
      "Requirement already satisfied: fqdn in /Users/Orvar/Library/Mobile Documents/com~apple~CloudDocs/Universidad/Inteligencia Artificial/Proyecto_Final/Prediccion_Rendimiento_Estudiantil/.venv/lib/python3.12/site-packages (from jsonschema>=4.18.0->jupyterlab-server<3,>=2.27.1->jupyterlab->jupyter) (1.5.1)\n",
      "Requirement already satisfied: isoduration in /Users/Orvar/Library/Mobile Documents/com~apple~CloudDocs/Universidad/Inteligencia Artificial/Proyecto_Final/Prediccion_Rendimiento_Estudiantil/.venv/lib/python3.12/site-packages (from jsonschema>=4.18.0->jupyterlab-server<3,>=2.27.1->jupyterlab->jupyter) (20.11.0)\n",
      "Requirement already satisfied: jsonpointer>1.13 in /Users/Orvar/Library/Mobile Documents/com~apple~CloudDocs/Universidad/Inteligencia Artificial/Proyecto_Final/Prediccion_Rendimiento_Estudiantil/.venv/lib/python3.12/site-packages (from jsonschema>=4.18.0->jupyterlab-server<3,>=2.27.1->jupyterlab->jupyter) (3.0.0)\n",
      "Requirement already satisfied: uri-template in /Users/Orvar/Library/Mobile Documents/com~apple~CloudDocs/Universidad/Inteligencia Artificial/Proyecto_Final/Prediccion_Rendimiento_Estudiantil/.venv/lib/python3.12/site-packages (from jsonschema>=4.18.0->jupyterlab-server<3,>=2.27.1->jupyterlab->jupyter) (1.3.0)\n",
      "Requirement already satisfied: webcolors>=24.6.0 in /Users/Orvar/Library/Mobile Documents/com~apple~CloudDocs/Universidad/Inteligencia Artificial/Proyecto_Final/Prediccion_Rendimiento_Estudiantil/.venv/lib/python3.12/site-packages (from jsonschema>=4.18.0->jupyterlab-server<3,>=2.27.1->jupyterlab->jupyter) (24.8.0)\n",
      "Requirement already satisfied: cffi>=1.0.1 in /Users/Orvar/Library/Mobile Documents/com~apple~CloudDocs/Universidad/Inteligencia Artificial/Proyecto_Final/Prediccion_Rendimiento_Estudiantil/.venv/lib/python3.12/site-packages (from argon2-cffi-bindings->argon2-cffi>=21.1->jupyter-server<3,>=2.4.0->jupyterlab->jupyter) (1.17.1)\n",
      "Requirement already satisfied: pycparser in /Users/Orvar/Library/Mobile Documents/com~apple~CloudDocs/Universidad/Inteligencia Artificial/Proyecto_Final/Prediccion_Rendimiento_Estudiantil/.venv/lib/python3.12/site-packages (from cffi>=1.0.1->argon2-cffi-bindings->argon2-cffi>=21.1->jupyter-server<3,>=2.4.0->jupyterlab->jupyter) (2.22)\n",
      "Requirement already satisfied: arrow>=0.15.0 in /Users/Orvar/Library/Mobile Documents/com~apple~CloudDocs/Universidad/Inteligencia Artificial/Proyecto_Final/Prediccion_Rendimiento_Estudiantil/.venv/lib/python3.12/site-packages (from isoduration->jsonschema>=4.18.0->jupyterlab-server<3,>=2.27.1->jupyterlab->jupyter) (1.3.0)\n",
      "Requirement already satisfied: types-python-dateutil>=2.8.10 in /Users/Orvar/Library/Mobile Documents/com~apple~CloudDocs/Universidad/Inteligencia Artificial/Proyecto_Final/Prediccion_Rendimiento_Estudiantil/.venv/lib/python3.12/site-packages (from arrow>=0.15.0->isoduration->jsonschema>=4.18.0->jupyterlab-server<3,>=2.27.1->jupyterlab->jupyter) (2.9.0.20241003)\n",
      "\n",
      "\u001b[1m[\u001b[0m\u001b[34;49mnotice\u001b[0m\u001b[1;39;49m]\u001b[0m\u001b[39;49m A new release of pip is available: \u001b[0m\u001b[31;49m23.2.1\u001b[0m\u001b[39;49m -> \u001b[0m\u001b[32;49m24.3.1\u001b[0m\n",
      "\u001b[1m[\u001b[0m\u001b[34;49mnotice\u001b[0m\u001b[1;39;49m]\u001b[0m\u001b[39;49m To update, run: \u001b[0m\u001b[32;49mpip install --upgrade pip\u001b[0m\n",
      "Note: you may need to restart the kernel to use updated packages.\n"
     ]
    }
   ],
   "source": [
    "%pip install pandas numpy matplotlib seaborn scikit-learn jupyter xgboost"
   ]
  },
  {
   "cell_type": "markdown",
   "id": "f79335df744e0827",
   "metadata": {},
   "source": [
    "# 1. Importación de Bibliotecas y Carga de Datos\n",
    "\n",
    "---"
   ]
  },
  {
   "cell_type": "code",
   "execution_count": 2,
   "id": "43e97583a1e0f7b3",
   "metadata": {
    "ExecuteTime": {
     "end_time": "2024-11-08T00:50:53.330085Z",
     "start_time": "2024-11-08T00:50:53.270089Z"
    }
   },
   "outputs": [],
   "source": [
    "# Importar bibliotecas\n",
    "import pandas as pd\n",
    "import numpy as np\n",
    "import matplotlib.pyplot as plt\n",
    "import seaborn as sns\n",
    "\n",
    "# Configurar las visualizaciones\n",
    "%matplotlib inline\n",
    "sns.set(style='whitegrid', palette='deep')\n",
    "\n",
    "# Cargar los datos\n",
    "data_mat = pd.read_csv('../data/student-mat.csv', sep=';')\n",
    "data_por = pd.read_csv('../data/student-por.csv', sep=';')\n",
    "\n",
    "# Combinar los datasets si es necesario\n",
    "data = pd.concat([data_mat, data_por], ignore_index=True)"
   ]
  },
  {
   "cell_type": "markdown",
   "id": "5c4f99bffcab16a6",
   "metadata": {},
   "source": [
    "# 2. Análisis Exploratorio de Datos (EDA)\n",
    "\n",
    "---\n",
    "## 2.1. Exploración Inicial\n",
    "\n",
    "### 2.1.1. Visualizar las primeras filas del conjunto de datos\n",
    "Vamos a ver las primeras filas para tener una idea general de cómo están organizados los datos.\n"
   ]
  },
  {
   "cell_type": "code",
   "execution_count": 3,
   "id": "3c962d99d93519cc",
   "metadata": {
    "ExecuteTime": {
     "end_time": "2024-11-08T00:50:53.356911Z",
     "start_time": "2024-11-08T00:50:53.331432Z"
    }
   },
   "outputs": [
    {
     "data": {
      "text/html": [
       "<div>\n",
       "<style scoped>\n",
       "    .dataframe tbody tr th:only-of-type {\n",
       "        vertical-align: middle;\n",
       "    }\n",
       "\n",
       "    .dataframe tbody tr th {\n",
       "        vertical-align: top;\n",
       "    }\n",
       "\n",
       "    .dataframe thead th {\n",
       "        text-align: right;\n",
       "    }\n",
       "</style>\n",
       "<table border=\"1\" class=\"dataframe\">\n",
       "  <thead>\n",
       "    <tr style=\"text-align: right;\">\n",
       "      <th></th>\n",
       "      <th>school</th>\n",
       "      <th>sex</th>\n",
       "      <th>age</th>\n",
       "      <th>address</th>\n",
       "      <th>famsize</th>\n",
       "      <th>Pstatus</th>\n",
       "      <th>Medu</th>\n",
       "      <th>Fedu</th>\n",
       "      <th>Mjob</th>\n",
       "      <th>Fjob</th>\n",
       "      <th>...</th>\n",
       "      <th>famrel</th>\n",
       "      <th>freetime</th>\n",
       "      <th>goout</th>\n",
       "      <th>Dalc</th>\n",
       "      <th>Walc</th>\n",
       "      <th>health</th>\n",
       "      <th>absences</th>\n",
       "      <th>G1</th>\n",
       "      <th>G2</th>\n",
       "      <th>G3</th>\n",
       "    </tr>\n",
       "  </thead>\n",
       "  <tbody>\n",
       "    <tr>\n",
       "      <th>0</th>\n",
       "      <td>GP</td>\n",
       "      <td>F</td>\n",
       "      <td>18</td>\n",
       "      <td>U</td>\n",
       "      <td>GT3</td>\n",
       "      <td>A</td>\n",
       "      <td>4</td>\n",
       "      <td>4</td>\n",
       "      <td>at_home</td>\n",
       "      <td>teacher</td>\n",
       "      <td>...</td>\n",
       "      <td>4</td>\n",
       "      <td>3</td>\n",
       "      <td>4</td>\n",
       "      <td>1</td>\n",
       "      <td>1</td>\n",
       "      <td>3</td>\n",
       "      <td>6</td>\n",
       "      <td>5</td>\n",
       "      <td>6</td>\n",
       "      <td>6</td>\n",
       "    </tr>\n",
       "    <tr>\n",
       "      <th>1</th>\n",
       "      <td>GP</td>\n",
       "      <td>F</td>\n",
       "      <td>17</td>\n",
       "      <td>U</td>\n",
       "      <td>GT3</td>\n",
       "      <td>T</td>\n",
       "      <td>1</td>\n",
       "      <td>1</td>\n",
       "      <td>at_home</td>\n",
       "      <td>other</td>\n",
       "      <td>...</td>\n",
       "      <td>5</td>\n",
       "      <td>3</td>\n",
       "      <td>3</td>\n",
       "      <td>1</td>\n",
       "      <td>1</td>\n",
       "      <td>3</td>\n",
       "      <td>4</td>\n",
       "      <td>5</td>\n",
       "      <td>5</td>\n",
       "      <td>6</td>\n",
       "    </tr>\n",
       "    <tr>\n",
       "      <th>2</th>\n",
       "      <td>GP</td>\n",
       "      <td>F</td>\n",
       "      <td>15</td>\n",
       "      <td>U</td>\n",
       "      <td>LE3</td>\n",
       "      <td>T</td>\n",
       "      <td>1</td>\n",
       "      <td>1</td>\n",
       "      <td>at_home</td>\n",
       "      <td>other</td>\n",
       "      <td>...</td>\n",
       "      <td>4</td>\n",
       "      <td>3</td>\n",
       "      <td>2</td>\n",
       "      <td>2</td>\n",
       "      <td>3</td>\n",
       "      <td>3</td>\n",
       "      <td>10</td>\n",
       "      <td>7</td>\n",
       "      <td>8</td>\n",
       "      <td>10</td>\n",
       "    </tr>\n",
       "    <tr>\n",
       "      <th>3</th>\n",
       "      <td>GP</td>\n",
       "      <td>F</td>\n",
       "      <td>15</td>\n",
       "      <td>U</td>\n",
       "      <td>GT3</td>\n",
       "      <td>T</td>\n",
       "      <td>4</td>\n",
       "      <td>2</td>\n",
       "      <td>health</td>\n",
       "      <td>services</td>\n",
       "      <td>...</td>\n",
       "      <td>3</td>\n",
       "      <td>2</td>\n",
       "      <td>2</td>\n",
       "      <td>1</td>\n",
       "      <td>1</td>\n",
       "      <td>5</td>\n",
       "      <td>2</td>\n",
       "      <td>15</td>\n",
       "      <td>14</td>\n",
       "      <td>15</td>\n",
       "    </tr>\n",
       "    <tr>\n",
       "      <th>4</th>\n",
       "      <td>GP</td>\n",
       "      <td>F</td>\n",
       "      <td>16</td>\n",
       "      <td>U</td>\n",
       "      <td>GT3</td>\n",
       "      <td>T</td>\n",
       "      <td>3</td>\n",
       "      <td>3</td>\n",
       "      <td>other</td>\n",
       "      <td>other</td>\n",
       "      <td>...</td>\n",
       "      <td>4</td>\n",
       "      <td>3</td>\n",
       "      <td>2</td>\n",
       "      <td>1</td>\n",
       "      <td>2</td>\n",
       "      <td>5</td>\n",
       "      <td>4</td>\n",
       "      <td>6</td>\n",
       "      <td>10</td>\n",
       "      <td>10</td>\n",
       "    </tr>\n",
       "    <tr>\n",
       "      <th>5</th>\n",
       "      <td>GP</td>\n",
       "      <td>M</td>\n",
       "      <td>16</td>\n",
       "      <td>U</td>\n",
       "      <td>LE3</td>\n",
       "      <td>T</td>\n",
       "      <td>4</td>\n",
       "      <td>3</td>\n",
       "      <td>services</td>\n",
       "      <td>other</td>\n",
       "      <td>...</td>\n",
       "      <td>5</td>\n",
       "      <td>4</td>\n",
       "      <td>2</td>\n",
       "      <td>1</td>\n",
       "      <td>2</td>\n",
       "      <td>5</td>\n",
       "      <td>10</td>\n",
       "      <td>15</td>\n",
       "      <td>15</td>\n",
       "      <td>15</td>\n",
       "    </tr>\n",
       "    <tr>\n",
       "      <th>6</th>\n",
       "      <td>GP</td>\n",
       "      <td>M</td>\n",
       "      <td>16</td>\n",
       "      <td>U</td>\n",
       "      <td>LE3</td>\n",
       "      <td>T</td>\n",
       "      <td>2</td>\n",
       "      <td>2</td>\n",
       "      <td>other</td>\n",
       "      <td>other</td>\n",
       "      <td>...</td>\n",
       "      <td>4</td>\n",
       "      <td>4</td>\n",
       "      <td>4</td>\n",
       "      <td>1</td>\n",
       "      <td>1</td>\n",
       "      <td>3</td>\n",
       "      <td>0</td>\n",
       "      <td>12</td>\n",
       "      <td>12</td>\n",
       "      <td>11</td>\n",
       "    </tr>\n",
       "    <tr>\n",
       "      <th>7</th>\n",
       "      <td>GP</td>\n",
       "      <td>F</td>\n",
       "      <td>17</td>\n",
       "      <td>U</td>\n",
       "      <td>GT3</td>\n",
       "      <td>A</td>\n",
       "      <td>4</td>\n",
       "      <td>4</td>\n",
       "      <td>other</td>\n",
       "      <td>teacher</td>\n",
       "      <td>...</td>\n",
       "      <td>4</td>\n",
       "      <td>1</td>\n",
       "      <td>4</td>\n",
       "      <td>1</td>\n",
       "      <td>1</td>\n",
       "      <td>1</td>\n",
       "      <td>6</td>\n",
       "      <td>6</td>\n",
       "      <td>5</td>\n",
       "      <td>6</td>\n",
       "    </tr>\n",
       "    <tr>\n",
       "      <th>8</th>\n",
       "      <td>GP</td>\n",
       "      <td>M</td>\n",
       "      <td>15</td>\n",
       "      <td>U</td>\n",
       "      <td>LE3</td>\n",
       "      <td>A</td>\n",
       "      <td>3</td>\n",
       "      <td>2</td>\n",
       "      <td>services</td>\n",
       "      <td>other</td>\n",
       "      <td>...</td>\n",
       "      <td>4</td>\n",
       "      <td>2</td>\n",
       "      <td>2</td>\n",
       "      <td>1</td>\n",
       "      <td>1</td>\n",
       "      <td>1</td>\n",
       "      <td>0</td>\n",
       "      <td>16</td>\n",
       "      <td>18</td>\n",
       "      <td>19</td>\n",
       "    </tr>\n",
       "    <tr>\n",
       "      <th>9</th>\n",
       "      <td>GP</td>\n",
       "      <td>M</td>\n",
       "      <td>15</td>\n",
       "      <td>U</td>\n",
       "      <td>GT3</td>\n",
       "      <td>T</td>\n",
       "      <td>3</td>\n",
       "      <td>4</td>\n",
       "      <td>other</td>\n",
       "      <td>other</td>\n",
       "      <td>...</td>\n",
       "      <td>5</td>\n",
       "      <td>5</td>\n",
       "      <td>1</td>\n",
       "      <td>1</td>\n",
       "      <td>1</td>\n",
       "      <td>5</td>\n",
       "      <td>0</td>\n",
       "      <td>14</td>\n",
       "      <td>15</td>\n",
       "      <td>15</td>\n",
       "    </tr>\n",
       "  </tbody>\n",
       "</table>\n",
       "<p>10 rows × 33 columns</p>\n",
       "</div>"
      ],
      "text/plain": [
       "  school sex  age address famsize Pstatus  Medu  Fedu      Mjob      Fjob  \\\n",
       "0     GP   F   18       U     GT3       A     4     4   at_home   teacher   \n",
       "1     GP   F   17       U     GT3       T     1     1   at_home     other   \n",
       "2     GP   F   15       U     LE3       T     1     1   at_home     other   \n",
       "3     GP   F   15       U     GT3       T     4     2    health  services   \n",
       "4     GP   F   16       U     GT3       T     3     3     other     other   \n",
       "5     GP   M   16       U     LE3       T     4     3  services     other   \n",
       "6     GP   M   16       U     LE3       T     2     2     other     other   \n",
       "7     GP   F   17       U     GT3       A     4     4     other   teacher   \n",
       "8     GP   M   15       U     LE3       A     3     2  services     other   \n",
       "9     GP   M   15       U     GT3       T     3     4     other     other   \n",
       "\n",
       "   ... famrel freetime  goout  Dalc  Walc health absences  G1  G2  G3  \n",
       "0  ...      4        3      4     1     1      3        6   5   6   6  \n",
       "1  ...      5        3      3     1     1      3        4   5   5   6  \n",
       "2  ...      4        3      2     2     3      3       10   7   8  10  \n",
       "3  ...      3        2      2     1     1      5        2  15  14  15  \n",
       "4  ...      4        3      2     1     2      5        4   6  10  10  \n",
       "5  ...      5        4      2     1     2      5       10  15  15  15  \n",
       "6  ...      4        4      4     1     1      3        0  12  12  11  \n",
       "7  ...      4        1      4     1     1      1        6   6   5   6  \n",
       "8  ...      4        2      2     1     1      1        0  16  18  19  \n",
       "9  ...      5        5      1     1     1      5        0  14  15  15  \n",
       "\n",
       "[10 rows x 33 columns]"
      ]
     },
     "execution_count": 3,
     "metadata": {},
     "output_type": "execute_result"
    }
   ],
   "source": [
    "data.head(10)"
   ]
  },
  {
   "cell_type": "markdown",
   "id": "92acfceda37ceda6",
   "metadata": {},
   "source": [
    "***Explicación:***\n",
    "\n",
    "`data.head()` muestra las primeras 5 filas del DataFrame `data`. Se puede pasar un número dentro de los paréntesis para mostrar más o menos filas, por ejemplo, `data.head(10)`.\n",
    "\n",
    "***Resultado esperado:***\n",
    "\n",
    "Muestra una tabla con las primeras filas y todas las columnas, lo que te permitirá ver los nombres de las columnas y algunos valores de ejemplo."
   ]
  },
  {
   "cell_type": "markdown",
   "id": "77b3ce801d261e3c",
   "metadata": {},
   "source": [
    "### 2.1.2. Obtener información general del conjunto de datos\n"
   ]
  },
  {
   "cell_type": "code",
   "execution_count": 4,
   "id": "7d6a3b0139a7509f",
   "metadata": {
    "ExecuteTime": {
     "end_time": "2024-11-08T00:50:53.372296Z",
     "start_time": "2024-11-08T00:50:53.358720Z"
    }
   },
   "outputs": [
    {
     "name": "stdout",
     "output_type": "stream",
     "text": [
      "<class 'pandas.core.frame.DataFrame'>\n",
      "RangeIndex: 1044 entries, 0 to 1043\n",
      "Data columns (total 33 columns):\n",
      " #   Column      Non-Null Count  Dtype \n",
      "---  ------      --------------  ----- \n",
      " 0   school      1044 non-null   object\n",
      " 1   sex         1044 non-null   object\n",
      " 2   age         1044 non-null   int64 \n",
      " 3   address     1044 non-null   object\n",
      " 4   famsize     1044 non-null   object\n",
      " 5   Pstatus     1044 non-null   object\n",
      " 6   Medu        1044 non-null   int64 \n",
      " 7   Fedu        1044 non-null   int64 \n",
      " 8   Mjob        1044 non-null   object\n",
      " 9   Fjob        1044 non-null   object\n",
      " 10  reason      1044 non-null   object\n",
      " 11  guardian    1044 non-null   object\n",
      " 12  traveltime  1044 non-null   int64 \n",
      " 13  studytime   1044 non-null   int64 \n",
      " 14  failures    1044 non-null   int64 \n",
      " 15  schoolsup   1044 non-null   object\n",
      " 16  famsup      1044 non-null   object\n",
      " 17  paid        1044 non-null   object\n",
      " 18  activities  1044 non-null   object\n",
      " 19  nursery     1044 non-null   object\n",
      " 20  higher      1044 non-null   object\n",
      " 21  internet    1044 non-null   object\n",
      " 22  romantic    1044 non-null   object\n",
      " 23  famrel      1044 non-null   int64 \n",
      " 24  freetime    1044 non-null   int64 \n",
      " 25  goout       1044 non-null   int64 \n",
      " 26  Dalc        1044 non-null   int64 \n",
      " 27  Walc        1044 non-null   int64 \n",
      " 28  health      1044 non-null   int64 \n",
      " 29  absences    1044 non-null   int64 \n",
      " 30  G1          1044 non-null   int64 \n",
      " 31  G2          1044 non-null   int64 \n",
      " 32  G3          1044 non-null   int64 \n",
      "dtypes: int64(16), object(17)\n",
      "memory usage: 269.3+ KB\n"
     ]
    }
   ],
   "source": [
    "data.info()"
   ]
  },
  {
   "cell_type": "markdown",
   "id": "8189f2d8eaa33d78",
   "metadata": {},
   "source": [
    "***Explicación:***\n",
    "\n",
    "`data.info()` proporciona información sobre el número de entradas (filas), el número de columnas, los nombres de las columnas, el tipo de datos de cada columna y el número de valores no nulos.\n",
    "\n",
    "***Resultado esperado:***\n",
    "\n",
    "Se verá una salida que indica cuántas filas y columnas hay, y para cada columna, su nombre, cuántos valores no nulos tiene y su tipo de datos."
   ]
  },
  {
   "cell_type": "markdown",
   "id": "6b9396cf31a67094",
   "metadata": {},
   "source": [
    "### 2.1.3. Obtener estadísticas descriptivas"
   ]
  },
  {
   "cell_type": "code",
   "execution_count": 5,
   "id": "f280bff012ac5d9a",
   "metadata": {
    "ExecuteTime": {
     "end_time": "2024-11-08T00:50:53.406970Z",
     "start_time": "2024-11-08T00:50:53.373303Z"
    }
   },
   "outputs": [
    {
     "data": {
      "text/html": [
       "<div>\n",
       "<style scoped>\n",
       "    .dataframe tbody tr th:only-of-type {\n",
       "        vertical-align: middle;\n",
       "    }\n",
       "\n",
       "    .dataframe tbody tr th {\n",
       "        vertical-align: top;\n",
       "    }\n",
       "\n",
       "    .dataframe thead th {\n",
       "        text-align: right;\n",
       "    }\n",
       "</style>\n",
       "<table border=\"1\" class=\"dataframe\">\n",
       "  <thead>\n",
       "    <tr style=\"text-align: right;\">\n",
       "      <th></th>\n",
       "      <th>age</th>\n",
       "      <th>Medu</th>\n",
       "      <th>Fedu</th>\n",
       "      <th>traveltime</th>\n",
       "      <th>studytime</th>\n",
       "      <th>failures</th>\n",
       "      <th>famrel</th>\n",
       "      <th>freetime</th>\n",
       "      <th>goout</th>\n",
       "      <th>Dalc</th>\n",
       "      <th>Walc</th>\n",
       "      <th>health</th>\n",
       "      <th>absences</th>\n",
       "      <th>G1</th>\n",
       "      <th>G2</th>\n",
       "      <th>G3</th>\n",
       "    </tr>\n",
       "  </thead>\n",
       "  <tbody>\n",
       "    <tr>\n",
       "      <th>count</th>\n",
       "      <td>1044.000000</td>\n",
       "      <td>1044.000000</td>\n",
       "      <td>1044.000000</td>\n",
       "      <td>1044.000000</td>\n",
       "      <td>1044.000000</td>\n",
       "      <td>1044.000000</td>\n",
       "      <td>1044.000000</td>\n",
       "      <td>1044.000000</td>\n",
       "      <td>1044.000000</td>\n",
       "      <td>1044.000000</td>\n",
       "      <td>1044.000000</td>\n",
       "      <td>1044.000000</td>\n",
       "      <td>1044.000000</td>\n",
       "      <td>1044.000000</td>\n",
       "      <td>1044.000000</td>\n",
       "      <td>1044.000000</td>\n",
       "    </tr>\n",
       "    <tr>\n",
       "      <th>mean</th>\n",
       "      <td>16.726054</td>\n",
       "      <td>2.603448</td>\n",
       "      <td>2.387931</td>\n",
       "      <td>1.522989</td>\n",
       "      <td>1.970307</td>\n",
       "      <td>0.264368</td>\n",
       "      <td>3.935824</td>\n",
       "      <td>3.201149</td>\n",
       "      <td>3.156130</td>\n",
       "      <td>1.494253</td>\n",
       "      <td>2.284483</td>\n",
       "      <td>3.543103</td>\n",
       "      <td>4.434866</td>\n",
       "      <td>11.213602</td>\n",
       "      <td>11.246169</td>\n",
       "      <td>11.341954</td>\n",
       "    </tr>\n",
       "    <tr>\n",
       "      <th>std</th>\n",
       "      <td>1.239975</td>\n",
       "      <td>1.124907</td>\n",
       "      <td>1.099938</td>\n",
       "      <td>0.731727</td>\n",
       "      <td>0.834353</td>\n",
       "      <td>0.656142</td>\n",
       "      <td>0.933401</td>\n",
       "      <td>1.031507</td>\n",
       "      <td>1.152575</td>\n",
       "      <td>0.911714</td>\n",
       "      <td>1.285105</td>\n",
       "      <td>1.424703</td>\n",
       "      <td>6.210017</td>\n",
       "      <td>2.983394</td>\n",
       "      <td>3.285071</td>\n",
       "      <td>3.864796</td>\n",
       "    </tr>\n",
       "    <tr>\n",
       "      <th>min</th>\n",
       "      <td>15.000000</td>\n",
       "      <td>0.000000</td>\n",
       "      <td>0.000000</td>\n",
       "      <td>1.000000</td>\n",
       "      <td>1.000000</td>\n",
       "      <td>0.000000</td>\n",
       "      <td>1.000000</td>\n",
       "      <td>1.000000</td>\n",
       "      <td>1.000000</td>\n",
       "      <td>1.000000</td>\n",
       "      <td>1.000000</td>\n",
       "      <td>1.000000</td>\n",
       "      <td>0.000000</td>\n",
       "      <td>0.000000</td>\n",
       "      <td>0.000000</td>\n",
       "      <td>0.000000</td>\n",
       "    </tr>\n",
       "    <tr>\n",
       "      <th>25%</th>\n",
       "      <td>16.000000</td>\n",
       "      <td>2.000000</td>\n",
       "      <td>1.000000</td>\n",
       "      <td>1.000000</td>\n",
       "      <td>1.000000</td>\n",
       "      <td>0.000000</td>\n",
       "      <td>4.000000</td>\n",
       "      <td>3.000000</td>\n",
       "      <td>2.000000</td>\n",
       "      <td>1.000000</td>\n",
       "      <td>1.000000</td>\n",
       "      <td>3.000000</td>\n",
       "      <td>0.000000</td>\n",
       "      <td>9.000000</td>\n",
       "      <td>9.000000</td>\n",
       "      <td>10.000000</td>\n",
       "    </tr>\n",
       "    <tr>\n",
       "      <th>50%</th>\n",
       "      <td>17.000000</td>\n",
       "      <td>3.000000</td>\n",
       "      <td>2.000000</td>\n",
       "      <td>1.000000</td>\n",
       "      <td>2.000000</td>\n",
       "      <td>0.000000</td>\n",
       "      <td>4.000000</td>\n",
       "      <td>3.000000</td>\n",
       "      <td>3.000000</td>\n",
       "      <td>1.000000</td>\n",
       "      <td>2.000000</td>\n",
       "      <td>4.000000</td>\n",
       "      <td>2.000000</td>\n",
       "      <td>11.000000</td>\n",
       "      <td>11.000000</td>\n",
       "      <td>11.000000</td>\n",
       "    </tr>\n",
       "    <tr>\n",
       "      <th>75%</th>\n",
       "      <td>18.000000</td>\n",
       "      <td>4.000000</td>\n",
       "      <td>3.000000</td>\n",
       "      <td>2.000000</td>\n",
       "      <td>2.000000</td>\n",
       "      <td>0.000000</td>\n",
       "      <td>5.000000</td>\n",
       "      <td>4.000000</td>\n",
       "      <td>4.000000</td>\n",
       "      <td>2.000000</td>\n",
       "      <td>3.000000</td>\n",
       "      <td>5.000000</td>\n",
       "      <td>6.000000</td>\n",
       "      <td>13.000000</td>\n",
       "      <td>13.000000</td>\n",
       "      <td>14.000000</td>\n",
       "    </tr>\n",
       "    <tr>\n",
       "      <th>max</th>\n",
       "      <td>22.000000</td>\n",
       "      <td>4.000000</td>\n",
       "      <td>4.000000</td>\n",
       "      <td>4.000000</td>\n",
       "      <td>4.000000</td>\n",
       "      <td>3.000000</td>\n",
       "      <td>5.000000</td>\n",
       "      <td>5.000000</td>\n",
       "      <td>5.000000</td>\n",
       "      <td>5.000000</td>\n",
       "      <td>5.000000</td>\n",
       "      <td>5.000000</td>\n",
       "      <td>75.000000</td>\n",
       "      <td>19.000000</td>\n",
       "      <td>19.000000</td>\n",
       "      <td>20.000000</td>\n",
       "    </tr>\n",
       "  </tbody>\n",
       "</table>\n",
       "</div>"
      ],
      "text/plain": [
       "               age         Medu         Fedu   traveltime    studytime  \\\n",
       "count  1044.000000  1044.000000  1044.000000  1044.000000  1044.000000   \n",
       "mean     16.726054     2.603448     2.387931     1.522989     1.970307   \n",
       "std       1.239975     1.124907     1.099938     0.731727     0.834353   \n",
       "min      15.000000     0.000000     0.000000     1.000000     1.000000   \n",
       "25%      16.000000     2.000000     1.000000     1.000000     1.000000   \n",
       "50%      17.000000     3.000000     2.000000     1.000000     2.000000   \n",
       "75%      18.000000     4.000000     3.000000     2.000000     2.000000   \n",
       "max      22.000000     4.000000     4.000000     4.000000     4.000000   \n",
       "\n",
       "          failures       famrel     freetime        goout         Dalc  \\\n",
       "count  1044.000000  1044.000000  1044.000000  1044.000000  1044.000000   \n",
       "mean      0.264368     3.935824     3.201149     3.156130     1.494253   \n",
       "std       0.656142     0.933401     1.031507     1.152575     0.911714   \n",
       "min       0.000000     1.000000     1.000000     1.000000     1.000000   \n",
       "25%       0.000000     4.000000     3.000000     2.000000     1.000000   \n",
       "50%       0.000000     4.000000     3.000000     3.000000     1.000000   \n",
       "75%       0.000000     5.000000     4.000000     4.000000     2.000000   \n",
       "max       3.000000     5.000000     5.000000     5.000000     5.000000   \n",
       "\n",
       "              Walc       health     absences           G1           G2  \\\n",
       "count  1044.000000  1044.000000  1044.000000  1044.000000  1044.000000   \n",
       "mean      2.284483     3.543103     4.434866    11.213602    11.246169   \n",
       "std       1.285105     1.424703     6.210017     2.983394     3.285071   \n",
       "min       1.000000     1.000000     0.000000     0.000000     0.000000   \n",
       "25%       1.000000     3.000000     0.000000     9.000000     9.000000   \n",
       "50%       2.000000     4.000000     2.000000    11.000000    11.000000   \n",
       "75%       3.000000     5.000000     6.000000    13.000000    13.000000   \n",
       "max       5.000000     5.000000    75.000000    19.000000    19.000000   \n",
       "\n",
       "                G3  \n",
       "count  1044.000000  \n",
       "mean     11.341954  \n",
       "std       3.864796  \n",
       "min       0.000000  \n",
       "25%      10.000000  \n",
       "50%      11.000000  \n",
       "75%      14.000000  \n",
       "max      20.000000  "
      ]
     },
     "execution_count": 5,
     "metadata": {},
     "output_type": "execute_result"
    }
   ],
   "source": [
    "data.describe()"
   ]
  },
  {
   "cell_type": "markdown",
   "id": "7135b5ff7e4e2477",
   "metadata": {},
   "source": [
    "***Explicación:***\n",
    "\n",
    "`data.describe()` muestra estadísticas como la media, desviación estándar, valores mínimos, máximos y cuartiles para las columnas numéricas.\n",
    "\n",
    "***Resultado esperado:***\n",
    "\n",
    "Una tabla con estadísticas descriptivas de las columnas numéricas.\n",
    "\n",
    "***Análisis:***\n",
    "\n",
    "Al revisar las estadísticas descriptivas:\n",
    "\n",
    "- ***Edad (`age):*** Varía de 15 a 22 años, con una media de aproximadamente 16.7 años.\n",
    "- ***Ausencias (`absences):*** Varían de 0 a 385, con una media de 5.86. El valor máximo de 385 es significativamente más alto que el percentil 75 (8 ausencias), lo que indica la presencia de outliers.\n",
    "\n",
    "***Notas:***\n",
    "- ***G1*** (nota primer periodo): Media de 11.4, rango de 0 a 20.\n",
    "- ***G2*** (nota segundo periodo): Media de 11.5, rango de 0 a 20.\n",
    "- ***G3*** (nota final): Media de 11.3, rango de 0 a 20.\n",
    "\n",
    "Observamos que las notas tienen una distribución similar y que algunos estudiantes tienen notas muy bajas (0), lo que podría indicar que abandonaron o reprobaron."
   ]
  },
  {
   "cell_type": "markdown",
   "id": "62ef525ac4cf127",
   "metadata": {},
   "source": [
    "## 2.2. Comprobación de Valores Nulos\n",
    "Es importante verificar si hay valores faltantes en el conjunto de datos."
   ]
  },
  {
   "cell_type": "code",
   "execution_count": 6,
   "id": "50e5556002762259",
   "metadata": {
    "ExecuteTime": {
     "end_time": "2024-11-08T00:50:53.420900Z",
     "start_time": "2024-11-08T00:50:53.408468Z"
    }
   },
   "outputs": [
    {
     "data": {
      "text/plain": [
       "school        0\n",
       "sex           0\n",
       "age           0\n",
       "address       0\n",
       "famsize       0\n",
       "Pstatus       0\n",
       "Medu          0\n",
       "Fedu          0\n",
       "Mjob          0\n",
       "Fjob          0\n",
       "reason        0\n",
       "guardian      0\n",
       "traveltime    0\n",
       "studytime     0\n",
       "failures      0\n",
       "schoolsup     0\n",
       "famsup        0\n",
       "paid          0\n",
       "activities    0\n",
       "nursery       0\n",
       "higher        0\n",
       "internet      0\n",
       "romantic      0\n",
       "famrel        0\n",
       "freetime      0\n",
       "goout         0\n",
       "Dalc          0\n",
       "Walc          0\n",
       "health        0\n",
       "absences      0\n",
       "G1            0\n",
       "G2            0\n",
       "G3            0\n",
       "dtype: int64"
      ]
     },
     "execution_count": 6,
     "metadata": {},
     "output_type": "execute_result"
    }
   ],
   "source": [
    "data.isnull().sum()"
   ]
  },
  {
   "cell_type": "markdown",
   "id": "1e5d6d0bea1e7c45",
   "metadata": {},
   "source": [
    "***Explicación:***\n",
    "\n",
    "- `data.isnull()` devuelve un DataFrame del mismo tamaño que `data`, con valores `True` donde hay valores nulos y `False donde no los hay.\n",
    "- `sum()` suma los valores `True` por columna, lo que nos da el número de valores nulos en cada columna.\n",
    "\n",
    "***Resultado esperado:***\n",
    "\n",
    "Una serie que muestra, para cada columna, el número de valores nulos. Si todas las columnas muestran 0, significa que no hay valores nulos.\n",
    "\n",
    "***Nota:***\n",
    "\n",
    "En el caso del \"Student Performance Dataset\", generalmente no hay valores nulos, pero es una buena práctica verificarlo.\n",
    "\n",
    "La salida confirma que no hay valores nulos en ninguna columna. Esto simplifica el preprocesamiento, ya que no necesitamos imputar o eliminar registros."
   ]
  },
  {
   "cell_type": "markdown",
   "id": "24289ec92ed50599",
   "metadata": {},
   "source": [
    "## 5.3. Análisis de las Variables\n",
    "### 5.3.1. Identificar Variables Categóricas y Numéricas\n",
    "Se separará las variables categóricas de las numéricas para analizarlas adecuadamente."
   ]
  },
  {
   "cell_type": "code",
   "execution_count": 7,
   "id": "29b87f9047310087",
   "metadata": {
    "ExecuteTime": {
     "end_time": "2024-11-08T00:50:53.438496Z",
     "start_time": "2024-11-08T00:50:53.426937Z"
    }
   },
   "outputs": [
    {
     "name": "stdout",
     "output_type": "stream",
     "text": [
      "Variables Categóricas:\n",
      "['school', 'sex', 'address', 'famsize', 'Pstatus', 'Mjob', 'Fjob', 'reason', 'guardian', 'schoolsup', 'famsup', 'paid', 'activities', 'nursery', 'higher', 'internet', 'romantic']\n"
     ]
    }
   ],
   "source": [
    "categorical_cols = data.select_dtypes(include=['object']).columns\n",
    "print(\"Variables Categóricas:\")\n",
    "print(list(categorical_cols))"
   ]
  },
  {
   "cell_type": "code",
   "execution_count": 8,
   "id": "cc8d0b08bbdf61dc",
   "metadata": {
    "ExecuteTime": {
     "end_time": "2024-11-08T00:50:54.351427Z",
     "start_time": "2024-11-08T00:50:54.344796Z"
    }
   },
   "outputs": [
    {
     "name": "stdout",
     "output_type": "stream",
     "text": [
      "Variables Numéricas:\n",
      "['age', 'Medu', 'Fedu', 'traveltime', 'studytime', 'failures', 'famrel', 'freetime', 'goout', 'Dalc', 'Walc', 'health', 'absences', 'G1', 'G2', 'G3']\n"
     ]
    }
   ],
   "source": [
    "numeric_cols = data.select_dtypes(include=[np.number]).columns\n",
    "print(\"Variables Numéricas:\")\n",
    "print(list(numeric_cols))"
   ]
  },
  {
   "cell_type": "markdown",
   "id": "dc0f774c657d6b38",
   "metadata": {},
   "source": [
    "***Explicación:***\n",
    "\n",
    "- `data.select_dtypes(include=['object'])` selecciona las columnas con tipo de datos `object`, que en pandas suelen ser variables categóricas (strings).\n",
    "- `data.select_dtypes(include=[np.number])` selecciona las columnas numéricas.\n",
    "\n",
    "***Resultado esperado:***\n",
    "Listados de los nombres de las variables categóricas y numéricas.\n",
    "\n",
    "Al separar las variables de esta manera, podemos aplicar técnicas de preprocesamiento adecuadas para cada tipo de dato."
   ]
  },
  {
   "cell_type": "markdown",
   "id": "dcac8d59b71952f9",
   "metadata": {},
   "source": [
    "## 5.4. Análisis Univariado\n",
    "### 5.4.1. Distribución de la variable objetivo `G3`\n",
    "Distribución de las notas finales."
   ]
  },
  {
   "cell_type": "code",
   "execution_count": 9,
   "id": "a40e9c0eadf0c50",
   "metadata": {
    "ExecuteTime": {
     "end_time": "2024-11-08T00:50:55.676585Z",
     "start_time": "2024-11-08T00:50:55.272030Z"
    }
   },
   "outputs": [
    {
     "data": {
      "image/png": "[encoded data removed]",
      "text/plain": [
       "<Figure size 1000x600 with 1 Axes>"
      ]
     },
     "metadata": {},
     "output_type": "display_data"
    }
   ],
   "source": [
    "# Histograma de las notas finales (G3)\n",
    "plt.figure(figsize=(10,6))\n",
    "sns.histplot(data['G3'], bins=20, kde=True)\n",
    "plt.title('Distribución de las Notas Finales (G3)')\n",
    "plt.xlabel('Nota Final')\n",
    "plt.ylabel('Frecuencia')\n",
    "plt.show()"
   ]
  },
  {
   "cell_type": "markdown",
   "id": "f2732d8d853a1d08",
   "metadata": {},
   "source": [
    "***Análisis:***\n",
    "\n",
    "- La distribución de las notas finales muestra una concentración en el rango de ***10 a 15 puntos***.\n",
    "\n",
    "- Hay picos notables en las notas ***0***, ***10***, ***15***, y ***20***.\n",
    "\n",
    "- Existe una cantidad significativa de estudiantes con nota ***0***, lo que podría indicar que abandonaron el curso o reprobaron.\n",
    "\n",
    "- La distribución es ***bimodal***, con un pico en notas bajas y otro en notas medias-altas.\n",
    "\n",
    "\n",
    "Esto sugiere que hay una polarización en el rendimiento académico, con grupos de estudiantes que tienen bajo rendimiento y otros con rendimiento medio a alto."
   ]
  },
  {
   "cell_type": "markdown",
   "id": "4442b9d5772aadff",
   "metadata": {},
   "source": [
    "## 5.5. Análisis Bivariado\n",
    "### 5.5.1. Relación entre `G3` y `G1`"
   ]
  },
  {
   "cell_type": "code",
   "execution_count": 10,
   "id": "f6e46d10896cafef",
   "metadata": {
    "ExecuteTime": {
     "end_time": "2024-11-08T00:50:57.019133Z",
     "start_time": "2024-11-08T00:50:56.781543Z"
    }
   },
   "outputs": [
    {
     "data": {
      "image/png": "[encoded data removed]",
      "text/plain": [
       "<Figure size 800x600 with 1 Axes>"
      ]
     },
     "metadata": {},
     "output_type": "display_data"
    }
   ],
   "source": [
    "# Gráfico de dispersión entre G1 y G3\n",
    "plt.figure(figsize=(8,6))\n",
    "sns.scatterplot(x='G1', y='G3', data=data)\n",
    "plt.title('Relación entre G1 y G3')\n",
    "plt.xlabel('Nota Primer Periodo (G1)')\n",
    "plt.ylabel('Nota Final (G3)')\n",
    "plt.show()\n"
   ]
  },
  {
   "cell_type": "markdown",
   "id": "e174b9ec9e79f828",
   "metadata": {},
   "source": [
    "***Análisis:***\n",
    "\n",
    "- Existe una fuerte correlación positiva entre ***G1*** y ***G3***.\n",
    "- Los estudiantes con altas notas en el primer periodo suelen mantener altas notas en el resultado final.\n",
    "- Hay algunos casos donde estudiantes con notas altas en G1 terminan con notas bajas en G3, lo que podría deberse a circunstancias personales o académicas.\n",
    "\n",
    "Esto indica que el desempeño inicial es un buen predictor del rendimiento final, pero no es el único factor."
   ]
  },
  {
   "cell_type": "markdown",
   "id": "bafc2fd8c737468b",
   "metadata": {},
   "source": [
    "### 5.5.2. Relación entre `G3` y `G2`"
   ]
  },
  {
   "cell_type": "code",
   "execution_count": 11,
   "id": "30efe70e5a515018",
   "metadata": {
    "ExecuteTime": {
     "end_time": "2024-11-08T00:50:57.538271Z",
     "start_time": "2024-11-08T00:50:57.338236Z"
    }
   },
   "outputs": [
    {
     "data": {
      "image/png": "[encoded data removed]",
      "text/plain": [
       "<Figure size 800x600 with 1 Axes>"
      ]
     },
     "metadata": {},
     "output_type": "display_data"
    }
   ],
   "source": [
    "# Gráfico de dispersión entre G2 y G3\n",
    "plt.figure(figsize=(8,6))\n",
    "sns.scatterplot(x='G2', y='G3', data=data)\n",
    "plt.title('Relación entre G2 y G3')\n",
    "plt.xlabel('Nota Segundo Periodo (G2)')\n",
    "plt.ylabel('Nota Final (G3)')\n",
    "plt.show()"
   ]
  },
  {
   "cell_type": "markdown",
   "id": "b6b3a7545553f824",
   "metadata": {},
   "source": [
    "***Análisis:***\n",
    "\n",
    "- La correlación entre `G2` y `G3` es aún más fuerte que entre `G1` y `G3`.\n",
    "- Los estudiantes que mejoran o mantienen su rendimiento en el segundo periodo tienden a tener mejores notas finales.\n",
    "- La mayoría de los puntos están cerca de la línea de identidad (`G2` = `G3`), lo que sugiere que las notas del segundo periodo son un excelente predictor de las notas finales."
   ]
  },
  {
   "cell_type": "markdown",
   "id": "a2b27dc0f42a9504",
   "metadata": {},
   "source": [
    "### 5.5.3. Relación entre studytime y G3"
   ]
  },
  {
   "cell_type": "code",
   "execution_count": 12,
   "id": "bc75972b61aa1e72",
   "metadata": {
    "ExecuteTime": {
     "end_time": "2024-11-08T00:50:58.065892Z",
     "start_time": "2024-11-08T00:50:57.836546Z"
    }
   },
   "outputs": [
    {
     "data": {
      "image/png": "[encoded data removed]",
      "text/plain": [
       "<Figure size 800x600 with 1 Axes>"
      ]
     },
     "metadata": {},
     "output_type": "display_data"
    }
   ],
   "source": [
    "# Gráfico de caja de studytime vs G3\n",
    "plt.figure(figsize=(8,6))\n",
    "sns.boxplot(x='studytime', y='G3', data=data)\n",
    "plt.title('Notas Finales según Tiempo de Estudio')\n",
    "plt.xlabel('Tiempo de Estudio Semanal')\n",
    "plt.ylabel('Nota Final (G3)')\n",
    "plt.show()"
   ]
  },
  {
   "cell_type": "markdown",
   "id": "a1ec84c7b6b1c33f",
   "metadata": {},
   "source": [
    "***Análisis:***\n",
    "\n",
    "- A medida que aumenta el tiempo de estudio semanal (`studytime`), la mediana de las notas finales también aumenta.\n",
    "- Los estudiantes que estudian más de 10 horas semanales (`studytime = 4) tienen las notas finales más altas.\n",
    "- Hay menos variabilidad en las notas de los estudiantes que dedican más tiempo al estudio.\n",
    "- Esto confirma que el tiempo dedicado al estudio tiene un impacto positivo en el rendimiento académico."
   ]
  },
  {
   "cell_type": "markdown",
   "id": "935474c70f279c97",
   "metadata": {},
   "source": [
    "## 5.6. Análisis de Valores Atípicos y Distribuciones\n",
    "### 5.6.1. Distribución y Outliers en `absences`"
   ]
  },
  {
   "cell_type": "code",
   "execution_count": 13,
   "id": "96773250a0868d36",
   "metadata": {
    "ExecuteTime": {
     "end_time": "2024-11-08T00:50:58.819057Z",
     "start_time": "2024-11-08T00:50:58.553526Z"
    }
   },
   "outputs": [
    {
     "data": {
      "image/png": "[encoded data removed]",
      "text/plain": [
       "<Figure size 1000x600 with 1 Axes>"
      ]
     },
     "metadata": {},
     "output_type": "display_data"
    }
   ],
   "source": [
    "# Histograma de absences\n",
    "plt.figure(figsize=(10,6))\n",
    "sns.histplot(data['absences'], bins=20, kde=True)\n",
    "plt.title('Distribución de Ausencias')\n",
    "plt.xlabel('Número de Ausencias')\n",
    "plt.ylabel('Frecuencia')\n",
    "plt.show()"
   ]
  },
  {
   "cell_type": "markdown",
   "id": "fae986dcc41a56be",
   "metadata": {},
   "source": [
    "***Análisis:***\n",
    "\n",
    "- La mayoría de los estudiantes tienen entre ***0 y 10 ausencias.***\n",
    "- Hay una ***cola larga*** hacia la derecha, indicando la presencia de estudiantes con un número muy alto de ausencias.\n",
    "- El valor máximo de 75 ausencias es muy alto y es probable que sea un outlier o error en los datos."
   ]
  },
  {
   "cell_type": "code",
   "execution_count": 14,
   "id": "4787017dfc7ec9b8",
   "metadata": {
    "ExecuteTime": {
     "end_time": "2024-11-08T00:50:58.955948Z",
     "start_time": "2024-11-08T00:50:58.821037Z"
    }
   },
   "outputs": [
    {
     "data": {
      "image/png": "[encoded data removed]",
      "text/plain": [
       "<Figure size 800x600 with 1 Axes>"
      ]
     },
     "metadata": {},
     "output_type": "display_data"
    }
   ],
   "source": [
    "# Gráfico de caja de absences\n",
    "plt.figure(figsize=(8,6))\n",
    "sns.boxplot(x=data['absences'])\n",
    "plt.title('Boxplot de Ausencias')\n",
    "plt.xlabel('Número de Ausencias')\n",
    "plt.show()\n"
   ]
  },
  {
   "cell_type": "markdown",
   "id": "8fce5492432478a4",
   "metadata": {},
   "source": [
    "***Análisis:***\n",
    "\n",
    "- El boxplot muestra varios outliers por encima del límite superior.\n",
    "- Estos outliers podrían distorsionar el análisis y los modelos predictivos.\n",
    "- Se podría considerar limitar los valores máximos de `absences` o transformarlos para reducir su impacto."
   ]
  },
  {
   "cell_type": "markdown",
   "id": "2a5eadfdc5c33bef",
   "metadata": {},
   "source": [
    "## 5.7. Matriz de Correlación\n",
    "### 5.7.1. Seleccionar Variables Numéricas"
   ]
  },
  {
   "cell_type": "code",
   "execution_count": 15,
   "id": "f3b95e0fc6365d2",
   "metadata": {
    "ExecuteTime": {
     "end_time": "2024-11-08T00:50:59.135475Z",
     "start_time": "2024-11-08T00:50:59.131489Z"
    }
   },
   "outputs": [],
   "source": [
    "# Ya hemos identificado las variables numéricas en numeric_cols\n",
    "numeric_data = data[numeric_cols]"
   ]
  },
  {
   "cell_type": "markdown",
   "id": "3e671579940b5463",
   "metadata": {},
   "source": [
    "### 5.7.2. Calcular la Matriz de Correlación"
   ]
  },
  {
   "cell_type": "code",
   "execution_count": 16,
   "id": "bdb7847155c95680",
   "metadata": {
    "ExecuteTime": {
     "end_time": "2024-11-08T00:50:59.276005Z",
     "start_time": "2024-11-08T00:50:59.271885Z"
    }
   },
   "outputs": [],
   "source": [
    "corr_matrix = numeric_data.corr()"
   ]
  },
  {
   "cell_type": "markdown",
   "id": "a0d31252eb8f9f2",
   "metadata": {},
   "source": [
    "### 5.7.3. Visualizar la Matriz de Correlación"
   ]
  },
  {
   "cell_type": "code",
   "execution_count": 17,
   "id": "f89d36bb46f92705",
   "metadata": {
    "ExecuteTime": {
     "end_time": "2024-11-08T00:51:00.832434Z",
     "start_time": "2024-11-08T00:50:59.744291Z"
    }
   },
   "outputs": [
    {
     "data": {
      "image/png": "[encoded data removed]",
      "text/plain": [
       "<Figure size 1600x1200 with 2 Axes>"
      ]
     },
     "metadata": {},
     "output_type": "display_data"
    }
   ],
   "source": [
    "plt.figure(figsize=(16,12))\n",
    "sns.heatmap(corr_matrix, annot=True, fmt='.2f', cmap='coolwarm')\n",
    "plt.title('Matriz de Correlación de Variables Numéricas')\n",
    "plt.show()"
   ]
  },
  {
   "cell_type": "markdown",
   "id": "ecb0f11706c7e633",
   "metadata": {},
   "source": [
    "***Análisis:***\n",
    "\n",
    "- Altas correlaciones positivas:\n",
    "    - `G1` y `G3`: 0.81\n",
    "    - `G2` y `G3`: 0.91\n",
    "    - `G1` y `G2`: 0.86\n",
    "\n",
    "- Correlaciones negativas:\n",
    "    - `failures` y `G3`: -0.38, indicando que un mayor número de fracasos anteriores se asocia con notas finales más bajas.\n",
    "\n",
    "- Bajas correlaciones:\n",
    "    - `absences` y `G3: -0.06, sugiere que las ausencias no tienen una fuerte relación con las notas finales.\n",
    "    - `studytime` y `G3: 0.16, una correlación positiva pero moderada.\n",
    "- Consumo de alcohol:\n",
    "    - `Dalc` y `G3`: -0.05\n",
    "    - `Walc` y `G3`: -0.05\n",
    "    - Estas correlaciones son bajas, indicando que el consumo de alcohol no está fuertemente relacionado con el rendimiento académico en este conjunto de datos.\n",
    "        \n",
    "***Conclusiones:***\n",
    "\n",
    "- Las notas de los periodos anteriores (`G1`, `G2`) son los mejores predictores de la nota final (`G3`).\n",
    "- La ***multicolinealidad*** entre `G1` y `G2` debe ser considerada al construir modelos, ya que pueden influir en los coeficientes y la interpretación.\n",
    "- Variables como `failures` y `studytime` también aportan información valiosa y deben ser consideradas en el modelo.\n",
    "- Otras variables numéricas muestran correlaciones bajas con `G3`, pero podrían interactuar con variables categóricas o tener efectos no lineales."
   ]
  },
  {
   "cell_type": "markdown",
   "id": "5c66b7490ef3a255",
   "metadata": {},
   "source": [
    "# Paso 6: Preprocesamiento de Datos\n",
    "\n",
    "---\n",
    "\n",
    "En este paso, prepararemos los datos para el modelado. Esto incluye la selección de características relevantes, el manejo de valores atípicos (outliers), la codificación de variables categóricas y el escalado de variables numéricas.\n",
    "\n",
    "## 6.1. Selección de Características (Features)\n",
    "Basándonos en el análisis exploratorio y la matriz de correlación que realizamos en el paso anterior, identificaremos las variables más relevantes para predecir la nota final `G3`.\n",
    "\n",
    "***Variables numéricas relevantes:***\n",
    "\n",
    "- `G1` y `G2`: Notas de los periodos anteriores, altamente correlacionadas con `G3`.\n",
    "- `failures`: Número de fallos académicos anteriores, correlación negativa con `G3`.\n",
    "- `studytime`: Tiempo de estudio semanal, correlación positiva moderada con `G3`.\n",
    "- `absences`: Número de ausencias, aunque con baja correlación, podría ser relevante.\n",
    "- `age`: Edad del estudiante, para ver si influye en el rendimiento.\n",
    "\n",
    "***Variables categóricas relevantes:***\n",
    "\n",
    "- `sex`: Sexo del estudiante.\n",
    "- `address`: Tipo de residencia (urbana o rural).\n",
    "- `famsize`: Tamaño de la familia.\n",
    "- `Pstatus`: Estatus de convivencia de los padres.\n",
    "- `schoolsup`: Apoyo educativo extra en la escuela.\n",
    "- `famsup`: Apoyo educativo familiar.\n",
    "- `paid`: Clases extras pagadas.\n",
    "- `activities`: Participación en actividades extracurriculares.\n",
    "- `internet`: Acceso a internet en casa.\n",
    "- `romantic`: Si el estudiante está en una relación romántica.\n",
    "\n",
    "### 6.1.1. Crear un DataFrame con las variables seleccionadas"
   ]
  },
  {
   "cell_type": "code",
   "execution_count": 18,
   "id": "2088bc5fd18cf0ca",
   "metadata": {
    "ExecuteTime": {
     "end_time": "2024-11-08T00:51:00.840788Z",
     "start_time": "2024-11-08T00:51:00.834503Z"
    }
   },
   "outputs": [],
   "source": [
    "# Lista de variables seleccionadas\n",
    "selected_cols = ['G1', 'G2', 'failures', 'studytime', 'absences', 'age',\n",
    "                 'sex', 'address', 'famsize', 'Pstatus', 'schoolsup',\n",
    "                 'famsup', 'paid', 'activities', 'internet', 'romantic']\n",
    "\n",
    "# Crear un nuevo DataFrame con las variables seleccionadas y 'G3', haciendo una copia\n",
    "data_selected = data[selected_cols + ['G3']].copy()\n"
   ]
  },
  {
   "cell_type": "markdown",
   "id": "78db3d1a8bafa1cb",
   "metadata": {},
   "source": [
    "Nota: Usamos `.copy()` para crear una copia independiente del DataFrame original y evitar el `SettingWithCopyWarning."
   ]
  },
  {
   "cell_type": "markdown",
   "id": "d9ab3d8299387f72",
   "metadata": {},
   "source": [
    "\n",
    "## 6.2. Manejo de Valores Atípicos (Outliers)\n",
    "\n",
    "Observamos que la variable `absences` tiene valores atípicos que podrían afectar al modelo. Vamos a tratar estos valores para minimizar su impacto."
   ]
  },
  {
   "cell_type": "code",
   "execution_count": 19,
   "id": "f2cc43837f8ae4ed",
   "metadata": {
    "ExecuteTime": {
     "end_time": "2024-11-08T00:51:00.849831Z",
     "start_time": "2024-11-08T00:51:00.842975Z"
    }
   },
   "outputs": [
    {
     "name": "stdout",
     "output_type": "stream",
     "text": [
      "count    1044.000000\n",
      "mean        4.434866\n",
      "std         6.210017\n",
      "min         0.000000\n",
      "25%         0.000000\n",
      "50%         2.000000\n",
      "75%         6.000000\n",
      "max        75.000000\n",
      "Name: absences, dtype: float64\n"
     ]
    }
   ],
   "source": [
    "# Descripción estadística de 'absences'\n",
    "print(data_selected['absences'].describe())"
   ]
  },
  {
   "cell_type": "markdown",
   "id": "d265b9c28f9b0df7",
   "metadata": {},
   "source": [
    "***Análisis:***\n",
    "\n",
    "- Media: 4.43 ausencias.\n",
    "- Mediana: 2 ausencias.\n",
    "- Percentil 75: 6 ausencias.\n",
    "- Máximo: 75 ausencias.\n",
    "\n",
    "El valor máximo de 75 es significativamente mayor que el percentil 75 (6), indicando la presencia de valores atípicos."
   ]
  },
  {
   "cell_type": "markdown",
   "id": "9617b9bf8ac9fce0",
   "metadata": {},
   "source": [
    "### 6.2.2. Limitar los Valores Atípicos\n",
    "Para mitigar el efecto de los valores atípicos, limitaremos los valores de absences al percentil 95."
   ]
  },
  {
   "cell_type": "code",
   "execution_count": 20,
   "id": "50cd1f00b49d125f",
   "metadata": {
    "ExecuteTime": {
     "end_time": "2024-11-08T00:51:01.004203Z",
     "start_time": "2024-11-08T00:51:01.000002Z"
    }
   },
   "outputs": [
    {
     "name": "stdout",
     "output_type": "stream",
     "text": [
      "Percentil 95 de 'absences': 16.0\n"
     ]
    }
   ],
   "source": [
    "# Calcular el percentil 95 de 'absences'\n",
    "absences_95 = data_selected['absences'].quantile(0.95)\n",
    "print(f\"Percentil 95 de 'absences': {absences_95}\")\n"
   ]
  },
  {
   "cell_type": "markdown",
   "id": "32ec23221aeb718f",
   "metadata": {},
   "source": [
    "Ahora, limitamos los valores de absences al percentil 95 utilizando .loc:"
   ]
  },
  {
   "cell_type": "code",
   "execution_count": 21,
   "id": "a090b1685370b7aa",
   "metadata": {
    "ExecuteTime": {
     "end_time": "2024-11-08T00:51:01.218024Z",
     "start_time": "2024-11-08T00:51:01.213579Z"
    }
   },
   "outputs": [],
   "source": [
    "# Limitar los valores de 'absences' al percentil 95\n",
    "data_selected.loc[data_selected['absences'] > absences_95, 'absences'] = absences_95"
   ]
  },
  {
   "cell_type": "markdown",
   "id": "6d9dba314ff16d80",
   "metadata": {},
   "source": [
    "### 6.2.3. Verificar la Distribución Después de Limitar"
   ]
  },
  {
   "cell_type": "code",
   "execution_count": 22,
   "id": "64734951177c92f7",
   "metadata": {
    "ExecuteTime": {
     "end_time": "2024-11-08T00:51:02.058042Z",
     "start_time": "2024-11-08T00:51:02.054331Z"
    }
   },
   "outputs": [
    {
     "name": "stdout",
     "output_type": "stream",
     "text": [
      "Máximo de 'absences' después de limitar: 16\n"
     ]
    }
   ],
   "source": [
    "# Verificar que el máximo ahora es el percentil 95\n",
    "print(f\"Máximo de 'absences' después de limitar: {data_selected['absences'].max()}\")"
   ]
  },
  {
   "cell_type": "markdown",
   "id": "43133bd613e62bfd",
   "metadata": {},
   "source": [
    "## 6.3. Codificación de Variables Categóricas\n",
    "Las variables categóricas deben ser convertidas a variables numéricas para ser utilizadas en los modelos.\n",
    "\n",
    "### 6.3.1. Identificar Variables Categóricas"
   ]
  },
  {
   "cell_type": "code",
   "execution_count": 23,
   "id": "8a91e26d1218fcbb",
   "metadata": {
    "ExecuteTime": {
     "end_time": "2024-11-08T00:51:03.195248Z",
     "start_time": "2024-11-08T00:51:03.192577Z"
    }
   },
   "outputs": [],
   "source": [
    "categorical_vars = ['sex', 'address', 'famsize', 'Pstatus', 'schoolsup',\n",
    "                    'famsup', 'paid', 'activities', 'internet', 'romantic']\n"
   ]
  },
  {
   "cell_type": "markdown",
   "id": "a3b41d5dcf37338f",
   "metadata": {},
   "source": [
    "### 6.3.2. Asegurar que las Variables Categóricas son de Tipo String y Normalizar\n",
    "Antes de aplicar cualquier transformación, debemos asegurarnos de que las variables categóricas son de tipo string y no contienen valores nulos.\n",
    "\n",
    "#### 6.3.2.1. Convertir Variables Categóricas a Tipo String"
   ]
  },
  {
   "cell_type": "code",
   "execution_count": 24,
   "id": "6a1b5e41157234ef",
   "metadata": {
    "ExecuteTime": {
     "end_time": "2024-11-08T00:51:03.723145Z",
     "start_time": "2024-11-08T00:51:03.717369Z"
    }
   },
   "outputs": [],
   "source": [
    "# Convertir las variables categóricas a tipo string\n",
    "for var in categorical_vars:\n",
    "    data_selected[var] = data_selected[var].astype(str)"
   ]
  },
  {
   "cell_type": "markdown",
   "id": "79a0b0471970e671",
   "metadata": {},
   "source": [
    "#### 6.3.2.2. Normalizar las Cadenas en Variables Categóricas"
   ]
  },
  {
   "cell_type": "code",
   "execution_count": 25,
   "id": "a367882d7d0dd3db",
   "metadata": {
    "ExecuteTime": {
     "end_time": "2024-11-08T00:51:04.238166Z",
     "start_time": "2024-11-08T00:51:04.228821Z"
    }
   },
   "outputs": [],
   "source": [
    "# Normalizar las cadenas en variables categóricas\n",
    "for var in categorical_vars:\n",
    "    data_selected[var] = data_selected[var].str.strip().str.lower()"
   ]
  },
  {
   "cell_type": "markdown",
   "id": "f2d0f59efaba2f68",
   "metadata": {},
   "source": [
    "### 6.3.3. Verificar las Categorías Únicas"
   ]
  },
  {
   "cell_type": "code",
   "execution_count": 26,
   "id": "347ca7782e4001fa",
   "metadata": {
    "ExecuteTime": {
     "end_time": "2024-11-08T00:51:04.443599Z",
     "start_time": "2024-11-08T00:51:04.436680Z"
    }
   },
   "outputs": [
    {
     "name": "stdout",
     "output_type": "stream",
     "text": [
      "sex: ['f' 'm']\n",
      "address: ['u' 'r']\n",
      "famsize: ['gt3' 'le3']\n",
      "Pstatus: ['a' 't']\n",
      "schoolsup: ['yes' 'no']\n",
      "famsup: ['no' 'yes']\n",
      "paid: ['no' 'yes']\n",
      "activities: ['no' 'yes']\n",
      "internet: ['no' 'yes']\n",
      "romantic: ['no' 'yes']\n"
     ]
    }
   ],
   "source": [
    "# Verificar las categorías únicas después de normalizar\n",
    "for var in categorical_vars:\n",
    "    print(f\"{var}: {data_selected[var].unique()}\")"
   ]
  },
  {
   "cell_type": "markdown",
   "id": "cf9d142eec763cc0",
   "metadata": {},
   "source": []
  },
  {
   "cell_type": "markdown",
   "id": "ef43c379e0868d23",
   "metadata": {},
   "source": [
    "### 6.3.4. Crear el Diccionario de Mapeo"
   ]
  },
  {
   "cell_type": "code",
   "execution_count": 27,
   "id": "12ec770bb0e002d7",
   "metadata": {
    "ExecuteTime": {
     "end_time": "2024-11-08T00:51:04.531147Z",
     "start_time": "2024-11-08T00:51:04.527381Z"
    }
   },
   "outputs": [],
   "source": [
    "binary_mapping = {\n",
    "    'f': 0, 'm': 1,\n",
    "    'u': 1, 'r': 0,\n",
    "    'le3': 0, 'gt3': 1,\n",
    "    'a': 0, 't': 1,\n",
    "    'yes': 1, 'no': 0\n",
    "}"
   ]
  },
  {
   "cell_type": "markdown",
   "id": "e7b74b7d1fc8a154",
   "metadata": {},
   "source": [
    "### 6.3.5. Aplicar el Mapeo a las Variables Categóricas"
   ]
  },
  {
   "cell_type": "code",
   "execution_count": 28,
   "id": "ab077a6b8c628a27",
   "metadata": {
    "ExecuteTime": {
     "end_time": "2024-11-08T00:51:04.707451Z",
     "start_time": "2024-11-08T00:51:04.700333Z"
    }
   },
   "outputs": [],
   "source": [
    "for var in categorical_vars:\n",
    "    data_selected[var] = data_selected[var].map(binary_mapping)"
   ]
  },
  {
   "cell_type": "markdown",
   "id": "75ffc11f470c09e",
   "metadata": {},
   "source": [
    "### 6.3.6. Verificar Valores Nulos Después del Mapeo"
   ]
  },
  {
   "cell_type": "code",
   "execution_count": 29,
   "id": "ff566daf21d8bfa1",
   "metadata": {
    "ExecuteTime": {
     "end_time": "2024-11-08T00:51:04.862063Z",
     "start_time": "2024-11-08T00:51:04.856635Z"
    }
   },
   "outputs": [
    {
     "name": "stdout",
     "output_type": "stream",
     "text": [
      "sex           0\n",
      "address       0\n",
      "famsize       0\n",
      "Pstatus       0\n",
      "schoolsup     0\n",
      "famsup        0\n",
      "paid          0\n",
      "activities    0\n",
      "internet      0\n",
      "romantic      0\n",
      "dtype: int64\n"
     ]
    }
   ],
   "source": [
    "print(data_selected[categorical_vars].isnull().sum())"
   ]
  },
  {
   "cell_type": "markdown",
   "id": "39ae2726fc63772f",
   "metadata": {},
   "source": [
    "### 6.3.7. Manejar Valores Nulos en Variables Categóricas\n",
    "#### 6.3.7.1. Identificar Filas con Valores Nulos"
   ]
  },
  {
   "cell_type": "code",
   "execution_count": 30,
   "id": "9a8ea8198a7b4d7",
   "metadata": {
    "ExecuteTime": {
     "end_time": "2024-11-08T00:51:05.015375Z",
     "start_time": "2024-11-08T00:51:05.010348Z"
    }
   },
   "outputs": [
    {
     "name": "stdout",
     "output_type": "stream",
     "text": [
      "Número de filas con valores nulos: 0\n"
     ]
    }
   ],
   "source": [
    "rows_with_nan = data_selected[categorical_vars].isnull().any(axis=1)\n",
    "print(f\"Número de filas con valores nulos: {rows_with_nan.sum()}\")"
   ]
  },
  {
   "cell_type": "markdown",
   "id": "16f195b9e448a484",
   "metadata": {},
   "source": [
    "#### 6.3.7.2. Examinar las Filas con Valores Nulos"
   ]
  },
  {
   "cell_type": "code",
   "execution_count": 31,
   "id": "8f33a335f1daf86f",
   "metadata": {
    "ExecuteTime": {
     "end_time": "2024-11-08T00:51:05.133839Z",
     "start_time": "2024-11-08T00:51:05.128003Z"
    }
   },
   "outputs": [
    {
     "name": "stdout",
     "output_type": "stream",
     "text": [
      "Empty DataFrame\n",
      "Columns: [sex, address, famsize, Pstatus, schoolsup, famsup, paid, activities, internet, romantic]\n",
      "Index: []\n"
     ]
    }
   ],
   "source": [
    "print(data_selected.loc[rows_with_nan, categorical_vars])"
   ]
  },
  {
   "cell_type": "markdown",
   "id": "2e8551adb788eb0a",
   "metadata": {},
   "source": [
    "#### 6.3.7.3. Decidir Cómo Manejar los Valores Nulos\n",
    "Opción 1: Eliminar las filas con valores nulos en variables categóricas."
   ]
  },
  {
   "cell_type": "code",
   "execution_count": 32,
   "id": "840b7917d3547af7",
   "metadata": {
    "ExecuteTime": {
     "end_time": "2024-11-08T00:51:05.437961Z",
     "start_time": "2024-11-08T00:51:05.431562Z"
    }
   },
   "outputs": [],
   "source": [
    "data_selected = data_selected.dropna(subset=categorical_vars)"
   ]
  },
  {
   "cell_type": "markdown",
   "id": "d8caaff447e25d4d",
   "metadata": {},
   "source": [
    "Opción 2: Imputar los valores nulos con el valor más frecuente (la moda)."
   ]
  },
  {
   "cell_type": "code",
   "execution_count": 33,
   "id": "13fb3879f69e142d",
   "metadata": {
    "ExecuteTime": {
     "end_time": "2024-11-08T00:51:05.762716Z",
     "start_time": "2024-11-08T00:51:05.754335Z"
    }
   },
   "outputs": [
    {
     "name": "stderr",
     "output_type": "stream",
     "text": [
      "/var/folders/tm/mmfcvs7d7d15m9_lcl8l01hc0000gp/T/ipykernel_15324/3371307276.py:2: FutureWarning: A value is trying to be set on a copy of a DataFrame or Series through chained assignment using an inplace method.\n",
      "The behavior will change in pandas 3.0. This inplace method will never work because the intermediate object on which we are setting values always behaves as a copy.\n",
      "\n",
      "For example, when doing 'df[col].method(value, inplace=True)', try using 'df.method({col: value}, inplace=True)' or df[col] = df[col].method(value) instead, to perform the operation inplace on the original object.\n",
      "\n",
      "\n",
      "  data_selected[var].fillna(data_selected[var].mode()[0], inplace=True)\n",
      "/var/folders/tm/mmfcvs7d7d15m9_lcl8l01hc0000gp/T/ipykernel_15324/3371307276.py:2: FutureWarning: A value is trying to be set on a copy of a DataFrame or Series through chained assignment using an inplace method.\n",
      "The behavior will change in pandas 3.0. This inplace method will never work because the intermediate object on which we are setting values always behaves as a copy.\n",
      "\n",
      "For example, when doing 'df[col].method(value, inplace=True)', try using 'df.method({col: value}, inplace=True)' or df[col] = df[col].method(value) instead, to perform the operation inplace on the original object.\n",
      "\n",
      "\n",
      "  data_selected[var].fillna(data_selected[var].mode()[0], inplace=True)\n",
      "/var/folders/tm/mmfcvs7d7d15m9_lcl8l01hc0000gp/T/ipykernel_15324/3371307276.py:2: FutureWarning: A value is trying to be set on a copy of a DataFrame or Series through chained assignment using an inplace method.\n",
      "The behavior will change in pandas 3.0. This inplace method will never work because the intermediate object on which we are setting values always behaves as a copy.\n",
      "\n",
      "For example, when doing 'df[col].method(value, inplace=True)', try using 'df.method({col: value}, inplace=True)' or df[col] = df[col].method(value) instead, to perform the operation inplace on the original object.\n",
      "\n",
      "\n",
      "  data_selected[var].fillna(data_selected[var].mode()[0], inplace=True)\n",
      "/var/folders/tm/mmfcvs7d7d15m9_lcl8l01hc0000gp/T/ipykernel_15324/3371307276.py:2: FutureWarning: A value is trying to be set on a copy of a DataFrame or Series through chained assignment using an inplace method.\n",
      "The behavior will change in pandas 3.0. This inplace method will never work because the intermediate object on which we are setting values always behaves as a copy.\n",
      "\n",
      "For example, when doing 'df[col].method(value, inplace=True)', try using 'df.method({col: value}, inplace=True)' or df[col] = df[col].method(value) instead, to perform the operation inplace on the original object.\n",
      "\n",
      "\n",
      "  data_selected[var].fillna(data_selected[var].mode()[0], inplace=True)\n",
      "/var/folders/tm/mmfcvs7d7d15m9_lcl8l01hc0000gp/T/ipykernel_15324/3371307276.py:2: FutureWarning: A value is trying to be set on a copy of a DataFrame or Series through chained assignment using an inplace method.\n",
      "The behavior will change in pandas 3.0. This inplace method will never work because the intermediate object on which we are setting values always behaves as a copy.\n",
      "\n",
      "For example, when doing 'df[col].method(value, inplace=True)', try using 'df.method({col: value}, inplace=True)' or df[col] = df[col].method(value) instead, to perform the operation inplace on the original object.\n",
      "\n",
      "\n",
      "  data_selected[var].fillna(data_selected[var].mode()[0], inplace=True)\n",
      "/var/folders/tm/mmfcvs7d7d15m9_lcl8l01hc0000gp/T/ipykernel_15324/3371307276.py:2: FutureWarning: A value is trying to be set on a copy of a DataFrame or Series through chained assignment using an inplace method.\n",
      "The behavior will change in pandas 3.0. This inplace method will never work because the intermediate object on which we are setting values always behaves as a copy.\n",
      "\n",
      "For example, when doing 'df[col].method(value, inplace=True)', try using 'df.method({col: value}, inplace=True)' or df[col] = df[col].method(value) instead, to perform the operation inplace on the original object.\n",
      "\n",
      "\n",
      "  data_selected[var].fillna(data_selected[var].mode()[0], inplace=True)\n",
      "/var/folders/tm/mmfcvs7d7d15m9_lcl8l01hc0000gp/T/ipykernel_15324/3371307276.py:2: FutureWarning: A value is trying to be set on a copy of a DataFrame or Series through chained assignment using an inplace method.\n",
      "The behavior will change in pandas 3.0. This inplace method will never work because the intermediate object on which we are setting values always behaves as a copy.\n",
      "\n",
      "For example, when doing 'df[col].method(value, inplace=True)', try using 'df.method({col: value}, inplace=True)' or df[col] = df[col].method(value) instead, to perform the operation inplace on the original object.\n",
      "\n",
      "\n",
      "  data_selected[var].fillna(data_selected[var].mode()[0], inplace=True)\n",
      "/var/folders/tm/mmfcvs7d7d15m9_lcl8l01hc0000gp/T/ipykernel_15324/3371307276.py:2: FutureWarning: A value is trying to be set on a copy of a DataFrame or Series through chained assignment using an inplace method.\n",
      "The behavior will change in pandas 3.0. This inplace method will never work because the intermediate object on which we are setting values always behaves as a copy.\n",
      "\n",
      "For example, when doing 'df[col].method(value, inplace=True)', try using 'df.method({col: value}, inplace=True)' or df[col] = df[col].method(value) instead, to perform the operation inplace on the original object.\n",
      "\n",
      "\n",
      "  data_selected[var].fillna(data_selected[var].mode()[0], inplace=True)\n",
      "/var/folders/tm/mmfcvs7d7d15m9_lcl8l01hc0000gp/T/ipykernel_15324/3371307276.py:2: FutureWarning: A value is trying to be set on a copy of a DataFrame or Series through chained assignment using an inplace method.\n",
      "The behavior will change in pandas 3.0. This inplace method will never work because the intermediate object on which we are setting values always behaves as a copy.\n",
      "\n",
      "For example, when doing 'df[col].method(value, inplace=True)', try using 'df.method({col: value}, inplace=True)' or df[col] = df[col].method(value) instead, to perform the operation inplace on the original object.\n",
      "\n",
      "\n",
      "  data_selected[var].fillna(data_selected[var].mode()[0], inplace=True)\n",
      "/var/folders/tm/mmfcvs7d7d15m9_lcl8l01hc0000gp/T/ipykernel_15324/3371307276.py:2: FutureWarning: A value is trying to be set on a copy of a DataFrame or Series through chained assignment using an inplace method.\n",
      "The behavior will change in pandas 3.0. This inplace method will never work because the intermediate object on which we are setting values always behaves as a copy.\n",
      "\n",
      "For example, when doing 'df[col].method(value, inplace=True)', try using 'df.method({col: value}, inplace=True)' or df[col] = df[col].method(value) instead, to perform the operation inplace on the original object.\n",
      "\n",
      "\n",
      "  data_selected[var].fillna(data_selected[var].mode()[0], inplace=True)\n"
     ]
    }
   ],
   "source": [
    "for var in categorical_vars:\n",
    "    data_selected[var].fillna(data_selected[var].mode()[0], inplace=True)"
   ]
  },
  {
   "cell_type": "markdown",
   "id": "ecb799252d7ea122",
   "metadata": {},
   "source": [
    "### 6.3.8. Verificar Nuevamente los Valores Nulos"
   ]
  },
  {
   "cell_type": "code",
   "execution_count": 34,
   "id": "f688669c314cc337",
   "metadata": {
    "ExecuteTime": {
     "end_time": "2024-11-08T00:51:06.096910Z",
     "start_time": "2024-11-08T00:51:06.092171Z"
    }
   },
   "outputs": [
    {
     "name": "stdout",
     "output_type": "stream",
     "text": [
      "sex           0\n",
      "address       0\n",
      "famsize       0\n",
      "Pstatus       0\n",
      "schoolsup     0\n",
      "famsup        0\n",
      "paid          0\n",
      "activities    0\n",
      "internet      0\n",
      "romantic      0\n",
      "dtype: int64\n"
     ]
    }
   ],
   "source": [
    "print(data_selected[categorical_vars].isnull().sum())"
   ]
  },
  {
   "cell_type": "markdown",
   "id": "fbbff9baa66415a4",
   "metadata": {},
   "source": [
    "## 6.4. División del Conjunto de Datos\n",
    "Dividimos los datos en conjuntos de entrenamiento y prueba antes de escalar las variables numéricas.\n",
    "\n",
    "### 6.4.1. Separar Variables Independientes y Dependiente"
   ]
  },
  {
   "cell_type": "code",
   "execution_count": 35,
   "id": "b2840cc690ff907c",
   "metadata": {
    "ExecuteTime": {
     "end_time": "2024-11-08T00:51:06.250366Z",
     "start_time": "2024-11-08T00:51:06.246536Z"
    }
   },
   "outputs": [],
   "source": [
    "# Variables independientes\n",
    "X = data_selected.drop('G3', axis=1)\n",
    "\n",
    "# Variable dependiente\n",
    "y = data_selected['G3']"
   ]
  },
  {
   "cell_type": "markdown",
   "id": "70300aa7e9b29a81",
   "metadata": {},
   "source": [
    "### 6.4.2. Dividir en Conjuntos de Entrenamiento y Prueba"
   ]
  },
  {
   "cell_type": "code",
   "execution_count": 36,
   "id": "46ebe6737d6542e2",
   "metadata": {
    "ExecuteTime": {
     "end_time": "2024-11-08T00:51:06.836261Z",
     "start_time": "2024-11-08T00:51:06.574545Z"
    }
   },
   "outputs": [],
   "source": [
    "from sklearn.model_selection import train_test_split\n",
    "\n",
    "# División de los datos\n",
    "X_train, X_test, y_train, y_test = train_test_split(X, y, test_size=0.2, random_state=42)"
   ]
  },
  {
   "cell_type": "markdown",
   "id": "c6732daf29a50cb0",
   "metadata": {},
   "source": [
    "## 6.5. Escalado de Variables Numéricas\n",
    "Escalaremos las variables numéricas para que tengan media 0 y desviación estándar 1."
   ]
  },
  {
   "cell_type": "markdown",
   "id": "4d4fa803a2d6a473",
   "metadata": {},
   "source": [
    "### 6.5.1. Identificar Variables Numéricas"
   ]
  },
  {
   "cell_type": "code",
   "execution_count": 37,
   "id": "644e2ab28c7d2758",
   "metadata": {
    "ExecuteTime": {
     "end_time": "2024-11-08T00:51:08.961024Z",
     "start_time": "2024-11-08T00:51:08.956956Z"
    }
   },
   "outputs": [],
   "source": [
    "numeric_vars = ['G1', 'G2', 'failures', 'studytime', 'absences', 'age']"
   ]
  },
  {
   "cell_type": "markdown",
   "id": "bf500c4c6c9439d6",
   "metadata": {},
   "source": [
    "### 6.5.2. Convertir Variables Numéricas a Tipo Float\n",
    "Esto es necesario para evitar errores al asignar valores escalados (que son floats) a columnas de tipo int."
   ]
  },
  {
   "cell_type": "code",
   "execution_count": 38,
   "id": "da73f0c07a2113ed",
   "metadata": {
    "ExecuteTime": {
     "end_time": "2024-11-08T00:51:09.400339Z",
     "start_time": "2024-11-08T00:51:09.394406Z"
    }
   },
   "outputs": [],
   "source": [
    "X_train[numeric_vars] = X_train[numeric_vars].astype(float)\n",
    "X_test[numeric_vars] = X_test[numeric_vars].astype(float)"
   ]
  },
  {
   "cell_type": "markdown",
   "id": "5e39d58fa31ffe29",
   "metadata": {},
   "source": [
    "### 6.5.3. Escalar las Variables Numéricas"
   ]
  },
  {
   "cell_type": "code",
   "execution_count": 39,
   "id": "2531ccca98b912d5",
   "metadata": {
    "ExecuteTime": {
     "end_time": "2024-11-08T00:51:09.688511Z",
     "start_time": "2024-11-08T00:51:09.678434Z"
    }
   },
   "outputs": [],
   "source": [
    "from sklearn.preprocessing import StandardScaler\n",
    "\n",
    "# Crear una instancia del escalador\n",
    "scaler = StandardScaler()\n",
    "\n",
    "# Ajustar el escalador con los datos de entrenamiento y transformar\n",
    "X_train[numeric_vars] = scaler.fit_transform(X_train[numeric_vars])\n",
    "\n",
    "# Transformar el conjunto de prueba\n",
    "X_test[numeric_vars] = scaler.transform(X_test[numeric_vars])\n"
   ]
  },
  {
   "cell_type": "markdown",
   "id": "3037520ffd8f9678",
   "metadata": {},
   "source": []
  },
  {
   "cell_type": "markdown",
   "id": "f297fb5179117036",
   "metadata": {},
   "source": [
    "## 6.6. Verificación Final del Preprocesamiento\n",
    "### 6.6.1. Verificar los Tipos de Datos"
   ]
  },
  {
   "cell_type": "code",
   "execution_count": 40,
   "id": "be8e678433d126de",
   "metadata": {
    "ExecuteTime": {
     "end_time": "2024-11-08T00:51:10.397319Z",
     "start_time": "2024-11-08T00:51:10.393535Z"
    }
   },
   "outputs": [
    {
     "name": "stdout",
     "output_type": "stream",
     "text": [
      "G1            float64\n",
      "G2            float64\n",
      "failures      float64\n",
      "studytime     float64\n",
      "absences      float64\n",
      "age           float64\n",
      "sex             int64\n",
      "address         int64\n",
      "famsize         int64\n",
      "Pstatus         int64\n",
      "schoolsup       int64\n",
      "famsup          int64\n",
      "paid            int64\n",
      "activities      int64\n",
      "internet        int64\n",
      "romantic        int64\n",
      "dtype: object\n"
     ]
    }
   ],
   "source": [
    "print(X_train.dtypes)"
   ]
  },
  {
   "cell_type": "markdown",
   "id": "f3ab470d57217e49",
   "metadata": {},
   "source": [
    "Se debería ver que las variables numéricas son de tipo `float64` y las variables categóricas son de tipo `float64` o `int64`."
   ]
  },
  {
   "cell_type": "markdown",
   "id": "c5fb38017c73b9ca",
   "metadata": {},
   "source": [
    "### 6.6.2. Verificar que No Hay Valores Nulos"
   ]
  },
  {
   "cell_type": "code",
   "execution_count": 41,
   "id": "8f59c5a630259fd3",
   "metadata": {
    "ExecuteTime": {
     "end_time": "2024-11-08T00:51:10.672696Z",
     "start_time": "2024-11-08T00:51:10.666904Z"
    }
   },
   "outputs": [
    {
     "name": "stdout",
     "output_type": "stream",
     "text": [
      "Valores nulos en X_train:\n",
      "G1            0\n",
      "G2            0\n",
      "failures      0\n",
      "studytime     0\n",
      "absences      0\n",
      "age           0\n",
      "sex           0\n",
      "address       0\n",
      "famsize       0\n",
      "Pstatus       0\n",
      "schoolsup     0\n",
      "famsup        0\n",
      "paid          0\n",
      "activities    0\n",
      "internet      0\n",
      "romantic      0\n",
      "dtype: int64\n",
      "\n",
      "Valores nulos en X_test:\n",
      "G1            0\n",
      "G2            0\n",
      "failures      0\n",
      "studytime     0\n",
      "absences      0\n",
      "age           0\n",
      "sex           0\n",
      "address       0\n",
      "famsize       0\n",
      "Pstatus       0\n",
      "schoolsup     0\n",
      "famsup        0\n",
      "paid          0\n",
      "activities    0\n",
      "internet      0\n",
      "romantic      0\n",
      "dtype: int64\n"
     ]
    }
   ],
   "source": [
    "# Verificar valores nulos en X_train\n",
    "print(\"Valores nulos en X_train:\")\n",
    "print(X_train.isnull().sum())\n",
    "\n",
    "# Verificar valores nulos en X_test\n",
    "print(\"\\nValores nulos en X_test:\")\n",
    "print(X_test.isnull().sum())"
   ]
  },
  {
   "cell_type": "markdown",
   "id": "1d739657e2b1eafb",
   "metadata": {},
   "source": [
    "### 6.6.3. Mostrar las Primeras Filas de X_train"
   ]
  },
  {
   "cell_type": "code",
   "execution_count": 42,
   "id": "4a11d876a4c03aee",
   "metadata": {
    "ExecuteTime": {
     "end_time": "2024-11-08T00:51:11.080779Z",
     "start_time": "2024-11-08T00:51:11.073319Z"
    }
   },
   "outputs": [
    {
     "name": "stdout",
     "output_type": "stream",
     "text": [
      "           G1        G2  failures  studytime  absences       age  sex  \\\n",
      "531 -0.750328 -0.702440 -0.378483  -1.146393 -0.016595 -0.585112    1   \n",
      "256  0.923974  0.212119 -0.378483   2.416529  0.416421  0.234634    0   \n",
      "350 -1.085188 -1.312146  4.315080   0.041247  0.849437  1.874125    1   \n",
      "60  -0.415467 -0.092734 -0.378483   0.041247  0.416421 -0.585112    0   \n",
      "930 -0.750328 -0.092734 -0.378483   0.041247  1.498960 -1.404857    1   \n",
      "\n",
      "     address  famsize  Pstatus  schoolsup  famsup  paid  activities  internet  \\\n",
      "531        1        1        1          0       0     0           0         0   \n",
      "256        1        0        1          0       1     1           1         1   \n",
      "350        0        1        1          0       0     0           0         1   \n",
      "60         0        1        1          0       1     0           1         0   \n",
      "930        0        1        1          0       1     0           1         0   \n",
      "\n",
      "     romantic  \n",
      "531         0  \n",
      "256         0  \n",
      "350         0  \n",
      "60          0  \n",
      "930         0  \n"
     ]
    }
   ],
   "source": [
    "print(X_train.head())"
   ]
  },
  {
   "cell_type": "markdown",
   "id": "10f8264436eb4cd3",
   "metadata": {},
   "source": [
    "# 3. Entrenamiento y Evaluación del Modelo\n",
    "En este paso, utilizaremos los datos preprocesados para entrenar modelos de aprendizaje automático que puedan predecir la nota final `G3 de los estudiantes. También evaluaremos el desempeño de los modelos utilizando métricas apropiadas.\n",
    "\n",
    "## 3.1. Definir el Problema de Aprendizaje\n",
    "Nuestro objetivo es predecir una variable numérica continua (`G3), por lo que estamos ante un problema de regresión.\n",
    "\n",
    "## 3.2. Seleccionar Modelos a Utilizar\n",
    "Probaremos varios algoritmos de regresión para determinar cuál ofrece el mejor desempeño:\n",
    "\n",
    "- Regresión Lineal\n",
    "- Árboles de Decisión\n",
    "- Bosques Aleatorios (Random Forest)\n",
    "- Gradient Boosting (XGBoost)\n",
    "- Máquinas de Soporte Vectorial (SVR)\n",
    "\n",
    "## 3.3. Entrenar y Evaluar Modelos\n",
    "Para cada modelo, seguiremos estos pasos:\n",
    "\n",
    "1. Entrenar el modelo utilizando el conjunto de entrenamiento (`X_train`, `y_train`).\n",
    "2. Realizar predicciones en el conjunto de prueba (`X_test).\n",
    "3. Evaluar el desempeño del modelo utilizando métricas como el Error Absoluto Medio (MAE), el Error Cuadrático Medio (MSE) y el Coeficiente de Determinación (R²).\n",
    "\n",
    "### 3.3.1. Importar Librerías Necesarias"
   ]
  },
  {
   "cell_type": "code",
   "execution_count": 43,
   "id": "8cd051eaa04b7846",
   "metadata": {
    "ExecuteTime": {
     "end_time": "2024-11-08T00:51:11.751082Z",
     "start_time": "2024-11-08T00:51:11.420455Z"
    }
   },
   "outputs": [],
   "source": [
    "from sklearn.linear_model import LinearRegression\n",
    "from sklearn.tree import DecisionTreeRegressor\n",
    "from sklearn.ensemble import RandomForestRegressor\n",
    "from sklearn.svm import SVR\n",
    "from sklearn.metrics import mean_absolute_error, mean_squared_error, r2_score, root_mean_squared_error"
   ]
  },
  {
   "cell_type": "markdown",
   "id": "7d670bb2b382c558",
   "metadata": {},
   "source": [
    "### 3.3.2. Definir una Función para Evaluar Modelos\n",
    "Para simplificar el proceso, crearemos una función que entrene y evalúe un modelo dado."
   ]
  },
  {
   "cell_type": "code",
   "execution_count": 44,
   "id": "122d3f895cda394e",
   "metadata": {
    "ExecuteTime": {
     "end_time": "2024-11-08T00:51:26.096280Z",
     "start_time": "2024-11-08T00:51:26.091146Z"
    }
   },
   "outputs": [],
   "source": [
    "def train_and_evaluate(model, X_train, y_train, X_test, y_test):\n",
    "    # Entrenar el modelo\n",
    "    model.fit(X_train, y_train)\n",
    "    \n",
    "    # Realizar predicciones en el conjunto de prueba\n",
    "    y_pred = model.predict(X_test)\n",
    "    \n",
    "    # Calcular métricas de desempeño\n",
    "    mae = mean_absolute_error(y_test, y_pred)\n",
    "    mse = mean_squared_error(y_test, y_pred)\n",
    "    rmse = root_mean_squared_error(y_test, y_pred)\n",
    "    r2 = r2_score(y_test, y_pred)\n",
    "    \n",
    "    # Imprimir los resultados\n",
    "    print(f\"MAE: {mae:.2f}\")\n",
    "    print(f\"MSE: {mse:.2f}\")\n",
    "    print(f\"RMSE: {rmse:.2f}\")\n",
    "    print(f\"R^2: {r2:.2f}\")\n",
    "    \n",
    "    # Retornar las predicciones para análisis adicional si es necesario\n",
    "    return y_pred"
   ]
  },
  {
   "cell_type": "markdown",
   "id": "b243c60b6a00a327",
   "metadata": {},
   "source": [
    "### 3.3.3. Regresión Lineal\n",
    "#### 3.3.3.1. Entrenar y Evaluar el Modelo"
   ]
  },
  {
   "cell_type": "code",
   "execution_count": 45,
   "id": "2a57c153c023b401",
   "metadata": {
    "ExecuteTime": {
     "end_time": "2024-11-08T00:51:26.665128Z",
     "start_time": "2024-11-08T00:51:26.655008Z"
    }
   },
   "outputs": [
    {
     "name": "stdout",
     "output_type": "stream",
     "text": [
      "Resultados de Regresión Lineal:\n",
      "MAE: 0.98\n",
      "MSE: 2.94\n",
      "RMSE: 1.72\n",
      "R^2: 0.81\n"
     ]
    }
   ],
   "source": [
    "# Crear una instancia del modelo\n",
    "linear_model = LinearRegression()\n",
    "\n",
    "# Entrenar y evaluar\n",
    "print(\"Resultados de Regresión Lineal:\")\n",
    "y_pred_lr = train_and_evaluate(linear_model, X_train, y_train, X_test, y_test)"
   ]
  },
  {
   "cell_type": "markdown",
   "id": "b9681b8775798a8e",
   "metadata": {},
   "source": [
    "***Análisis:***\n",
    "- MAE (Error Absoluto Medio): Indica en promedio cuánto difieren las predicciones de los valores reales.\n",
    "- MSE (Error Cuadrático Medio): Penaliza más los errores grandes.\n",
    "- RMSE (Raíz del Error Cuadrático Medio): Es interpretable en las mismas unidades que la variable objetivo.\n",
    "- R² (Coeficiente de Determinación): Indica qué proporción de la variabilidad en la variable objetivo es explicada por el modelo.\n",
    "\n",
    "Estos resultados sugieren que el modelo tiene un desempeño razonable con un error moderado y una capacidad decente para explicar la variabilidad de los datos."
   ]
  },
  {
   "cell_type": "markdown",
   "id": "5f4e90e50a03159f",
   "metadata": {},
   "source": [
    "### 3.3.4. Árbol de Decisión\n",
    "#### 3.3.4.1. Entrenar y Evaluar el Modelo"
   ]
  },
  {
   "cell_type": "code",
   "execution_count": 46,
   "id": "56b397642be07ccd",
   "metadata": {
    "ExecuteTime": {
     "end_time": "2024-11-08T00:51:27.674094Z",
     "start_time": "2024-11-08T00:51:27.660818Z"
    }
   },
   "outputs": [
    {
     "name": "stdout",
     "output_type": "stream",
     "text": [
      "\n",
      "Resultados de Árbol de Decisión:\n",
      "MAE: 1.16\n",
      "MSE: 5.12\n",
      "RMSE: 2.26\n",
      "R^2: 0.67\n"
     ]
    }
   ],
   "source": [
    "# Crear una instancia del modelo\n",
    "tree_model = DecisionTreeRegressor(random_state=42)\n",
    "\n",
    "# Entrenar y evaluar\n",
    "print(\"\\nResultados de Árbol de Decisión:\")\n",
    "y_pred_tree = train_and_evaluate(tree_model, X_train, y_train, X_test, y_test)"
   ]
  },
  {
   "cell_type": "markdown",
   "id": "8b35d0ae92dc3f38",
   "metadata": {},
   "source": [
    "***Análisis:***\n",
    "- Compara las métricas con las obtenidas por la regresión lineal.\n",
    "- Los árboles de decisión pueden capturar relaciones no lineales entre las variables."
   ]
  },
  {
   "cell_type": "markdown",
   "id": "386829336d68247c",
   "metadata": {},
   "source": [
    "### 3.3.5. Bosques Aleatorios (Random Forest)\n",
    "#### 3.3.5.1. Entrenar y Evaluar el Modelo"
   ]
  },
  {
   "cell_type": "code",
   "execution_count": 47,
   "id": "d6fbebaba9e88219",
   "metadata": {
    "ExecuteTime": {
     "end_time": "2024-11-08T00:51:28.260321Z",
     "start_time": "2024-11-08T00:51:27.916523Z"
    }
   },
   "outputs": [
    {
     "name": "stdout",
     "output_type": "stream",
     "text": [
      "\n",
      "Resultados de Bosque Aleatorio:\n",
      "MAE: 1.02\n",
      "MSE: 3.12\n",
      "RMSE: 1.77\n",
      "R^2: 0.80\n"
     ]
    }
   ],
   "source": [
    "# Crear una instancia del modelo\n",
    "rf_model = RandomForestRegressor(n_estimators=100, random_state=42)\n",
    "\n",
    "# Entrenar y evaluar\n",
    "print(\"\\nResultados de Bosque Aleatorio:\")\n",
    "y_pred_rf = train_and_evaluate(rf_model, X_train, y_train, X_test, y_test)\n"
   ]
  },
  {
   "cell_type": "markdown",
   "id": "6ae425b47ccc99e9",
   "metadata": {},
   "source": [
    "***Análisis:***\n",
    "\n",
    "Los bosques aleatorios suelen mejorar el desempeño al reducir el sobreajuste de los árboles individuales."
   ]
  },
  {
   "cell_type": "markdown",
   "id": "9dc3560c8620ae1d",
   "metadata": {},
   "source": [
    "### 3.3.6. Gradient Boosting (XGBoost)\n",
    "#### 3.3.6.1. Entrenar y Evaluar el Modelo"
   ]
  },
  {
   "cell_type": "code",
   "execution_count": 48,
   "id": "1e391065a16f8847",
   "metadata": {
    "ExecuteTime": {
     "end_time": "2024-11-08T00:51:28.687574Z",
     "start_time": "2024-11-08T00:51:28.262495Z"
    }
   },
   "outputs": [
    {
     "name": "stdout",
     "output_type": "stream",
     "text": [
      "\n",
      "Resultados de XGBoost:\n",
      "MAE: 1.09\n",
      "MSE: 3.06\n",
      "RMSE: 1.75\n",
      "R^2: 0.80\n"
     ]
    }
   ],
   "source": [
    "import xgboost as xgb\n",
    "# Crear una instancia del modelo\n",
    "xgb_model = xgb.XGBRegressor(n_estimators=100, random_state=42)\n",
    "\n",
    "# Entrenar y evaluar\n",
    "print(\"\\nResultados de XGBoost:\")\n",
    "y_pred_xgb = train_and_evaluate(xgb_model, X_train, y_train, X_test, y_test)\n"
   ]
  },
  {
   "cell_type": "markdown",
   "id": "d9f4934cb4c7530d",
   "metadata": {},
   "source": [
    "***Análisis:***\n",
    "\n",
    "- XGBoost es potente para capturar relaciones complejas.\n",
    "- Compara las métricas con los modelos anteriores."
   ]
  },
  {
   "cell_type": "markdown",
   "id": "ff17c8b59903fdca",
   "metadata": {},
   "source": [
    "### 3.3.7. Máquina de Soporte Vectorial (SVR)\n",
    "### 3.3.7.1. Entrenar y Evaluar el Modelo"
   ]
  },
  {
   "cell_type": "code",
   "execution_count": 49,
   "id": "d2cd262de92fa71a",
   "metadata": {
    "ExecuteTime": {
     "end_time": "2024-11-08T00:51:29.013625Z",
     "start_time": "2024-11-08T00:51:28.953385Z"
    }
   },
   "outputs": [
    {
     "name": "stdout",
     "output_type": "stream",
     "text": [
      "\n",
      "Resultados de SVR:\n",
      "MAE: 1.09\n",
      "MSE: 3.63\n",
      "RMSE: 1.90\n",
      "R^2: 0.77\n"
     ]
    }
   ],
   "source": [
    "# Crear una instancia del modelo\n",
    "svr_model = SVR(kernel='rbf')\n",
    "\n",
    "# Entrenar y evaluar\n",
    "print(\"\\nResultados de SVR:\")\n",
    "y_pred_svr = train_and_evaluate(svr_model, X_train, y_train, X_test, y_test)"
   ]
  },
  {
   "cell_type": "markdown",
   "id": "113d95056e133dd4",
   "metadata": {},
   "source": [
    "***Análisis:***\n",
    "\n",
    "Las SVR pueden ser efectivas, pero también son sensibles a la escala de los datos."
   ]
  },
  {
   "cell_type": "markdown",
   "id": "bec031fe903dcda7",
   "metadata": {},
   "source": [
    "## 7.4. Comparación de Modelos\n",
    "Recopilar las métricas de desempeño de todos los modelos para compararlos directamente."
   ]
  },
  {
   "cell_type": "code",
   "execution_count": 50,
   "id": "5b52271b07274a10",
   "metadata": {
    "ExecuteTime": {
     "end_time": "2024-11-08T00:51:29.500710Z",
     "start_time": "2024-11-08T00:51:29.486805Z"
    }
   },
   "outputs": [
    {
     "name": "stdout",
     "output_type": "stream",
     "text": [
      "\n",
      "Comparación de Modelos:\n",
      "              Modelo       MAE      RMSE        R2\n",
      "0   Regresión Lineal  0.980145  1.715018  0.809759\n",
      "1  Árbol de Decisión  1.162679  2.263714  0.668556\n",
      "2   Bosque Aleatorio  1.021460  1.765974  0.798286\n",
      "3            XGBoost  1.090844  1.749810  0.801962\n",
      "4                SVR  1.091092  1.904361  0.765433\n"
     ]
    }
   ],
   "source": [
    "from sklearn.metrics import root_mean_squared_error\n",
    "\n",
    "# Crear un DataFrame con las métricas\n",
    "results = pd.DataFrame({\n",
    "    'Modelo': ['Regresión Lineal', 'Árbol de Decisión', 'Bosque Aleatorio', 'XGBoost', 'SVR'],\n",
    "    'MAE': [mean_absolute_error(y_test, y_pred_lr),\n",
    "            mean_absolute_error(y_test, y_pred_tree),\n",
    "            mean_absolute_error(y_test, y_pred_rf),\n",
    "            mean_absolute_error(y_test, y_pred_xgb),\n",
    "            mean_absolute_error(y_test, y_pred_svr)],\n",
    "    'RMSE': [root_mean_squared_error(y_test, y_pred_lr),\n",
    "             root_mean_squared_error(y_test, y_pred_tree),\n",
    "             root_mean_squared_error(y_test, y_pred_rf),\n",
    "             root_mean_squared_error(y_test, y_pred_xgb),\n",
    "             root_mean_squared_error(y_test, y_pred_svr)],\n",
    "    'R2': [r2_score(y_test, y_pred_lr),\n",
    "           r2_score(y_test, y_pred_tree),\n",
    "           r2_score(y_test, y_pred_rf),\n",
    "           r2_score(y_test, y_pred_xgb),\n",
    "           r2_score(y_test, y_pred_svr)]\n",
    "})\n",
    "print(\"\\nComparación de Modelos:\")\n",
    "print(results)"
   ]
  },
  {
   "cell_type": "markdown",
   "id": "444bbdb227f252ae",
   "metadata": {},
   "source": [
    "***Análisis:***\n",
    "\n",
    "- Modelo con menor MAE y RMSE: Indica mejor precisión en las predicciones.\n",
    "- Modelo con mayor R²: Explica mejor la variabilidad de la variable objetivo."
   ]
  },
  {
   "cell_type": "markdown",
   "id": "4fb2462c3152b282",
   "metadata": {},
   "source": [
    "## 3.5. Interpretación y Análisis de Resultados\n",
    "### 3.5.1. Importancia de las Variables\n",
    "Para modelos basados en árboles (como Random Forest y XGBoost), podemos extraer la importancia de las variables.\n",
    "\n",
    "#### 3.5.1.1. Importancia en el Bosque Aleatorio"
   ]
  },
  {
   "cell_type": "code",
   "execution_count": 51,
   "id": "e6372e33fd35c3c3",
   "metadata": {
    "ExecuteTime": {
     "end_time": "2024-11-08T00:51:29.941020Z",
     "start_time": "2024-11-08T00:51:29.927457Z"
    }
   },
   "outputs": [
    {
     "name": "stdout",
     "output_type": "stream",
     "text": [
      "\n",
      "Importancia de las Variables (Random Forest):\n",
      "      Variable  Importancia\n",
      "1           G2     0.828417\n",
      "4     absences     0.064898\n",
      "0           G1     0.018747\n",
      "3    studytime     0.016935\n",
      "5          age     0.014981\n",
      "6          sex     0.008000\n",
      "2     failures     0.006784\n",
      "10   schoolsup     0.006039\n",
      "13  activities     0.005802\n",
      "12        paid     0.005639\n",
      "11      famsup     0.005184\n",
      "8      famsize     0.004790\n",
      "15    romantic     0.004506\n",
      "7      address     0.004198\n",
      "14    internet     0.003137\n",
      "9      Pstatus     0.001945\n"
     ]
    }
   ],
   "source": [
    "# Obtener importancias\n",
    "importances = rf_model.feature_importances_\n",
    "feature_names = X_train.columns\n",
    "\n",
    "# Crear un DataFrame\n",
    "feat_importance = pd.DataFrame({'Variable': feature_names, 'Importancia': importances})\n",
    "\n",
    "# Ordenar por importancia\n",
    "feat_importance = feat_importance.sort_values(by='Importancia', ascending=False)\n",
    "\n",
    "# Mostrar las importancias\n",
    "print(\"\\nImportancia de las Variables (Random Forest):\")\n",
    "print(feat_importance)"
   ]
  },
  {
   "cell_type": "markdown",
   "id": "a339b194a5396648",
   "metadata": {},
   "source": [
    "#### 3.5.1.2. Visualizar la Importancia"
   ]
  },
  {
   "cell_type": "code",
   "execution_count": 52,
   "id": "2f93b61303310234",
   "metadata": {
    "ExecuteTime": {
     "end_time": "2024-11-08T00:51:30.652975Z",
     "start_time": "2024-11-08T00:51:30.382531Z"
    }
   },
   "outputs": [
    {
     "data": {
      "image/png": "[encoded data removed]",
      "text/plain": [
       "<Figure size 1000x600 with 1 Axes>"
      ]
     },
     "metadata": {},
     "output_type": "display_data"
    }
   ],
   "source": [
    "# Gráfico de barras\n",
    "plt.figure(figsize=(10,6))\n",
    "sns.barplot(x='Importancia', y='Variable', data=feat_importance)\n",
    "plt.title('Importancia de las Variables según Random Forest')\n",
    "plt.show()"
   ]
  },
  {
   "cell_type": "markdown",
   "id": "a0f827651621a3bc",
   "metadata": {},
   "source": [
    "from sklearn.model_selection import GridSearchCV\n",
    "## 3.6. Ajuste de Hiperparámetros\n",
    "Para mejorar el desempeño del modelo, podemos ajustar los hiperparámetros utilizando técnicas como Grid Search o Random Search.\n",
    "\n",
    "### 3.6.1. Grid Search con Random Forest"
   ]
  },
  {
   "cell_type": "markdown",
   "id": "4e9d48c100c04c0f",
   "metadata": {},
   "source": [
    "#### 3.6.1.1. Importar GridSearchCV"
   ]
  },
  {
   "cell_type": "code",
   "execution_count": 53,
   "id": "8c1eee29aa566599",
   "metadata": {
    "ExecuteTime": {
     "end_time": "2024-11-08T00:51:30.926265Z",
     "start_time": "2024-11-08T00:51:30.922862Z"
    }
   },
   "outputs": [],
   "source": [
    "from sklearn.model_selection import GridSearchCV"
   ]
  },
  {
   "cell_type": "markdown",
   "id": "4913df93d20d2113",
   "metadata": {},
   "source": [
    "#### 3.6.1.2. Definir el Espacio de Búsqueda"
   ]
  },
  {
   "cell_type": "code",
   "execution_count": 54,
   "id": "ba0c373d4c954861",
   "metadata": {
    "ExecuteTime": {
     "end_time": "2024-11-08T00:51:31.219681Z",
     "start_time": "2024-11-08T00:51:31.213740Z"
    }
   },
   "outputs": [],
   "source": [
    "# Definir los parámetros a probar\n",
    "param_grid = {\n",
    "    'n_estimators': [100, 200, 500],\n",
    "    'max_depth': [None, 5, 10],\n",
    "    'min_samples_split': [2, 5],\n",
    "    'min_samples_leaf': [1, 2]\n",
    "}"
   ]
  },
  {
   "cell_type": "markdown",
   "id": "8daed7fee1f21927",
   "metadata": {},
   "source": [
    "#### 3.6.1.3. Configurar GridSearchCV"
   ]
  },
  {
   "cell_type": "code",
   "execution_count": 55,
   "id": "80868a89e3d1b509",
   "metadata": {
    "ExecuteTime": {
     "end_time": "2024-11-08T00:51:31.849076Z",
     "start_time": "2024-11-08T00:51:31.843050Z"
    }
   },
   "outputs": [],
   "source": [
    "# Crear una instancia de RandomForestRegressor\n",
    "rf = RandomForestRegressor(random_state=42)\n",
    "\n",
    "# Configurar GridSearchCV\n",
    "grid_search = GridSearchCV(estimator=rf, param_grid=param_grid,\n",
    "                           cv=5, n_jobs=-1, scoring='neg_mean_squared_error')"
   ]
  },
  {
   "cell_type": "markdown",
   "id": "b9b20d5614fd2430",
   "metadata": {},
   "source": [
    "#### 3.6.1.4. Ejecutar Grid Search"
   ]
  },
  {
   "cell_type": "code",
   "execution_count": 56,
   "id": "463e252d9353dcc4",
   "metadata": {
    "ExecuteTime": {
     "end_time": "2024-11-08T00:52:10.605696Z",
     "start_time": "2024-11-08T00:51:31.948039Z"
    }
   },
   "outputs": [
    {
     "data": {
      "text/html": [
       "<style>#sk-container-id-1 {\n",
       "  /* Definition of color scheme common for light and dark mode */\n",
       "  --sklearn-color-text: black;\n",
       "  --sklearn-color-line: gray;\n",
       "  /* Definition of color scheme for unfitted estimators */\n",
       "  --sklearn-color-unfitted-level-0: #fff5e6;\n",
       "  --sklearn-color-unfitted-level-1: #f6e4d2;\n",
       "  --sklearn-color-unfitted-level-2: #ffe0b3;\n",
       "  --sklearn-color-unfitted-level-3: chocolate;\n",
       "  /* Definition of color scheme for fitted estimators */\n",
       "  --sklearn-color-fitted-level-0: #f0f8ff;\n",
       "  --sklearn-color-fitted-level-1: #d4ebff;\n",
       "  --sklearn-color-fitted-level-2: #b3dbfd;\n",
       "  --sklearn-color-fitted-level-3: cornflowerblue;\n",
       "\n",
       "  /* Specific color for light theme */\n",
       "  --sklearn-color-text-on-default-background: var(--sg-text-color, var(--theme-code-foreground, var(--jp-content-font-color1, black)));\n",
       "  --sklearn-color-background: var(--sg-background-color, var(--theme-background, var(--jp-layout-color0, white)));\n",
       "  --sklearn-color-border-box: var(--sg-text-color, var(--theme-code-foreground, var(--jp-content-font-color1, black)));\n",
       "  --sklearn-color-icon: #696969;\n",
       "\n",
       "  @media (prefers-color-scheme: dark) {\n",
       "    /* Redefinition of color scheme for dark theme */\n",
       "    --sklearn-color-text-on-default-background: var(--sg-text-color, var(--theme-code-foreground, var(--jp-content-font-color1, white)));\n",
       "    --sklearn-color-background: var(--sg-background-color, var(--theme-background, var(--jp-layout-color0, #111)));\n",
       "    --sklearn-color-border-box: var(--sg-text-color, var(--theme-code-foreground, var(--jp-content-font-color1, white)));\n",
       "    --sklearn-color-icon: #878787;\n",
       "  }\n",
       "}\n",
       "\n",
       "#sk-container-id-1 {\n",
       "  color: var(--sklearn-color-text);\n",
       "}\n",
       "\n",
       "#sk-container-id-1 pre {\n",
       "  padding: 0;\n",
       "}\n",
       "\n",
       "#sk-container-id-1 input.sk-hidden--visually {\n",
       "  border: 0;\n",
       "  clip: rect(1px 1px 1px 1px);\n",
       "  clip: rect(1px, 1px, 1px, 1px);\n",
       "  height: 1px;\n",
       "  margin: -1px;\n",
       "  overflow: hidden;\n",
       "  padding: 0;\n",
       "  position: absolute;\n",
       "  width: 1px;\n",
       "}\n",
       "\n",
       "#sk-container-id-1 div.sk-dashed-wrapped {\n",
       "  border: 1px dashed var(--sklearn-color-line);\n",
       "  margin: 0 0.4em 0.5em 0.4em;\n",
       "  box-sizing: border-box;\n",
       "  padding-bottom: 0.4em;\n",
       "  background-color: var(--sklearn-color-background);\n",
       "}\n",
       "\n",
       "#sk-container-id-1 div.sk-container {\n",
       "  /* jupyter's `normalize.less` sets `[hidden] { display: none; }`\n",
       "     but bootstrap.min.css set `[hidden] { display: none !important; }`\n",
       "     so we also need the `!important` here to be able to override the\n",
       "     default hidden behavior on the sphinx rendered scikit-learn.org.\n",
       "     See: https://github.com/scikit-learn/scikit-learn/issues/21755 */\n",
       "  display: inline-block !important;\n",
       "  position: relative;\n",
       "}\n",
       "\n",
       "#sk-container-id-1 div.sk-text-repr-fallback {\n",
       "  display: none;\n",
       "}\n",
       "\n",
       "div.sk-parallel-item,\n",
       "div.sk-serial,\n",
       "div.sk-item {\n",
       "  /* draw centered vertical line to link estimators */\n",
       "  background-image: linear-gradient(var(--sklearn-color-text-on-default-background), var(--sklearn-color-text-on-default-background));\n",
       "  background-size: 2px 100%;\n",
       "  background-repeat: no-repeat;\n",
       "  background-position: center center;\n",
       "}\n",
       "\n",
       "/* Parallel-specific style estimator block */\n",
       "\n",
       "#sk-container-id-1 div.sk-parallel-item::after {\n",
       "  content: \"\";\n",
       "  width: 100%;\n",
       "  border-bottom: 2px solid var(--sklearn-color-text-on-default-background);\n",
       "  flex-grow: 1;\n",
       "}\n",
       "\n",
       "#sk-container-id-1 div.sk-parallel {\n",
       "  display: flex;\n",
       "  align-items: stretch;\n",
       "  justify-content: center;\n",
       "  background-color: var(--sklearn-color-background);\n",
       "  position: relative;\n",
       "}\n",
       "\n",
       "#sk-container-id-1 div.sk-parallel-item {\n",
       "  display: flex;\n",
       "  flex-direction: column;\n",
       "}\n",
       "\n",
       "#sk-container-id-1 div.sk-parallel-item:first-child::after {\n",
       "  align-self: flex-end;\n",
       "  width: 50%;\n",
       "}\n",
       "\n",
       "#sk-container-id-1 div.sk-parallel-item:last-child::after {\n",
       "  align-self: flex-start;\n",
       "  width: 50%;\n",
       "}\n",
       "\n",
       "#sk-container-id-1 div.sk-parallel-item:only-child::after {\n",
       "  width: 0;\n",
       "}\n",
       "\n",
       "/* Serial-specific style estimator block */\n",
       "\n",
       "#sk-container-id-1 div.sk-serial {\n",
       "  display: flex;\n",
       "  flex-direction: column;\n",
       "  align-items: center;\n",
       "  background-color: var(--sklearn-color-background);\n",
       "  padding-right: 1em;\n",
       "  padding-left: 1em;\n",
       "}\n",
       "\n",
       "\n",
       "/* Toggleable style: style used for estimator/Pipeline/ColumnTransformer box that is\n",
       "clickable and can be expanded/collapsed.\n",
       "- Pipeline and ColumnTransformer use this feature and define the default style\n",
       "- Estimators will overwrite some part of the style using the `sk-estimator` class\n",
       "*/\n",
       "\n",
       "/* Pipeline and ColumnTransformer style (default) */\n",
       "\n",
       "#sk-container-id-1 div.sk-toggleable {\n",
       "  /* Default theme specific background. It is overwritten whether we have a\n",
       "  specific estimator or a Pipeline/ColumnTransformer */\n",
       "  background-color: var(--sklearn-color-background);\n",
       "}\n",
       "\n",
       "/* Toggleable label */\n",
       "#sk-container-id-1 label.sk-toggleable__label {\n",
       "  cursor: pointer;\n",
       "  display: block;\n",
       "  width: 100%;\n",
       "  margin-bottom: 0;\n",
       "  padding: 0.5em;\n",
       "  box-sizing: border-box;\n",
       "  text-align: center;\n",
       "}\n",
       "\n",
       "#sk-container-id-1 label.sk-toggleable__label-arrow:before {\n",
       "  /* Arrow on the left of the label */\n",
       "  content: \"▸\";\n",
       "  float: left;\n",
       "  margin-right: 0.25em;\n",
       "  color: var(--sklearn-color-icon);\n",
       "}\n",
       "\n",
       "#sk-container-id-1 label.sk-toggleable__label-arrow:hover:before {\n",
       "  color: var(--sklearn-color-text);\n",
       "}\n",
       "\n",
       "/* Toggleable content - dropdown */\n",
       "\n",
       "#sk-container-id-1 div.sk-toggleable__content {\n",
       "  max-height: 0;\n",
       "  max-width: 0;\n",
       "  overflow: hidden;\n",
       "  text-align: left;\n",
       "  /* unfitted */\n",
       "  background-color: var(--sklearn-color-unfitted-level-0);\n",
       "}\n",
       "\n",
       "#sk-container-id-1 div.sk-toggleable__content.fitted {\n",
       "  /* fitted */\n",
       "  background-color: var(--sklearn-color-fitted-level-0);\n",
       "}\n",
       "\n",
       "#sk-container-id-1 div.sk-toggleable__content pre {\n",
       "  margin: 0.2em;\n",
       "  border-radius: 0.25em;\n",
       "  color: var(--sklearn-color-text);\n",
       "  /* unfitted */\n",
       "  background-color: var(--sklearn-color-unfitted-level-0);\n",
       "}\n",
       "\n",
       "#sk-container-id-1 div.sk-toggleable__content.fitted pre {\n",
       "  /* unfitted */\n",
       "  background-color: var(--sklearn-color-fitted-level-0);\n",
       "}\n",
       "\n",
       "#sk-container-id-1 input.sk-toggleable__control:checked~div.sk-toggleable__content {\n",
       "  /* Expand drop-down */\n",
       "  max-height: 200px;\n",
       "  max-width: 100%;\n",
       "  overflow: auto;\n",
       "}\n",
       "\n",
       "#sk-container-id-1 input.sk-toggleable__control:checked~label.sk-toggleable__label-arrow:before {\n",
       "  content: \"▾\";\n",
       "}\n",
       "\n",
       "/* Pipeline/ColumnTransformer-specific style */\n",
       "\n",
       "#sk-container-id-1 div.sk-label input.sk-toggleable__control:checked~label.sk-toggleable__label {\n",
       "  color: var(--sklearn-color-text);\n",
       "  background-color: var(--sklearn-color-unfitted-level-2);\n",
       "}\n",
       "\n",
       "#sk-container-id-1 div.sk-label.fitted input.sk-toggleable__control:checked~label.sk-toggleable__label {\n",
       "  background-color: var(--sklearn-color-fitted-level-2);\n",
       "}\n",
       "\n",
       "/* Estimator-specific style */\n",
       "\n",
       "/* Colorize estimator box */\n",
       "#sk-container-id-1 div.sk-estimator input.sk-toggleable__control:checked~label.sk-toggleable__label {\n",
       "  /* unfitted */\n",
       "  background-color: var(--sklearn-color-unfitted-level-2);\n",
       "}\n",
       "\n",
       "#sk-container-id-1 div.sk-estimator.fitted input.sk-toggleable__control:checked~label.sk-toggleable__label {\n",
       "  /* fitted */\n",
       "  background-color: var(--sklearn-color-fitted-level-2);\n",
       "}\n",
       "\n",
       "#sk-container-id-1 div.sk-label label.sk-toggleable__label,\n",
       "#sk-container-id-1 div.sk-label label {\n",
       "  /* The background is the default theme color */\n",
       "  color: var(--sklearn-color-text-on-default-background);\n",
       "}\n",
       "\n",
       "/* On hover, darken the color of the background */\n",
       "#sk-container-id-1 div.sk-label:hover label.sk-toggleable__label {\n",
       "  color: var(--sklearn-color-text);\n",
       "  background-color: var(--sklearn-color-unfitted-level-2);\n",
       "}\n",
       "\n",
       "/* Label box, darken color on hover, fitted */\n",
       "#sk-container-id-1 div.sk-label.fitted:hover label.sk-toggleable__label.fitted {\n",
       "  color: var(--sklearn-color-text);\n",
       "  background-color: var(--sklearn-color-fitted-level-2);\n",
       "}\n",
       "\n",
       "/* Estimator label */\n",
       "\n",
       "#sk-container-id-1 div.sk-label label {\n",
       "  font-family: monospace;\n",
       "  font-weight: bold;\n",
       "  display: inline-block;\n",
       "  line-height: 1.2em;\n",
       "}\n",
       "\n",
       "#sk-container-id-1 div.sk-label-container {\n",
       "  text-align: center;\n",
       "}\n",
       "\n",
       "/* Estimator-specific */\n",
       "#sk-container-id-1 div.sk-estimator {\n",
       "  font-family: monospace;\n",
       "  border: 1px dotted var(--sklearn-color-border-box);\n",
       "  border-radius: 0.25em;\n",
       "  box-sizing: border-box;\n",
       "  margin-bottom: 0.5em;\n",
       "  /* unfitted */\n",
       "  background-color: var(--sklearn-color-unfitted-level-0);\n",
       "}\n",
       "\n",
       "#sk-container-id-1 div.sk-estimator.fitted {\n",
       "  /* fitted */\n",
       "  background-color: var(--sklearn-color-fitted-level-0);\n",
       "}\n",
       "\n",
       "/* on hover */\n",
       "#sk-container-id-1 div.sk-estimator:hover {\n",
       "  /* unfitted */\n",
       "  background-color: var(--sklearn-color-unfitted-level-2);\n",
       "}\n",
       "\n",
       "#sk-container-id-1 div.sk-estimator.fitted:hover {\n",
       "  /* fitted */\n",
       "  background-color: var(--sklearn-color-fitted-level-2);\n",
       "}\n",
       "\n",
       "/* Specification for estimator info (e.g. \"i\" and \"?\") */\n",
       "\n",
       "/* Common style for \"i\" and \"?\" */\n",
       "\n",
       ".sk-estimator-doc-link,\n",
       "a:link.sk-estimator-doc-link,\n",
       "a:visited.sk-estimator-doc-link {\n",
       "  float: right;\n",
       "  font-size: smaller;\n",
       "  line-height: 1em;\n",
       "  font-family: monospace;\n",
       "  background-color: var(--sklearn-color-background);\n",
       "  border-radius: 1em;\n",
       "  height: 1em;\n",
       "  width: 1em;\n",
       "  text-decoration: none !important;\n",
       "  margin-left: 1ex;\n",
       "  /* unfitted */\n",
       "  border: var(--sklearn-color-unfitted-level-1) 1pt solid;\n",
       "  color: var(--sklearn-color-unfitted-level-1);\n",
       "}\n",
       "\n",
       ".sk-estimator-doc-link.fitted,\n",
       "a:link.sk-estimator-doc-link.fitted,\n",
       "a:visited.sk-estimator-doc-link.fitted {\n",
       "  /* fitted */\n",
       "  border: var(--sklearn-color-fitted-level-1) 1pt solid;\n",
       "  color: var(--sklearn-color-fitted-level-1);\n",
       "}\n",
       "\n",
       "/* On hover */\n",
       "div.sk-estimator:hover .sk-estimator-doc-link:hover,\n",
       ".sk-estimator-doc-link:hover,\n",
       "div.sk-label-container:hover .sk-estimator-doc-link:hover,\n",
       ".sk-estimator-doc-link:hover {\n",
       "  /* unfitted */\n",
       "  background-color: var(--sklearn-color-unfitted-level-3);\n",
       "  color: var(--sklearn-color-background);\n",
       "  text-decoration: none;\n",
       "}\n",
       "\n",
       "div.sk-estimator.fitted:hover .sk-estimator-doc-link.fitted:hover,\n",
       ".sk-estimator-doc-link.fitted:hover,\n",
       "div.sk-label-container:hover .sk-estimator-doc-link.fitted:hover,\n",
       ".sk-estimator-doc-link.fitted:hover {\n",
       "  /* fitted */\n",
       "  background-color: var(--sklearn-color-fitted-level-3);\n",
       "  color: var(--sklearn-color-background);\n",
       "  text-decoration: none;\n",
       "}\n",
       "\n",
       "/* Span, style for the box shown on hovering the info icon */\n",
       ".sk-estimator-doc-link span {\n",
       "  display: none;\n",
       "  z-index: 9999;\n",
       "  position: relative;\n",
       "  font-weight: normal;\n",
       "  right: .2ex;\n",
       "  padding: .5ex;\n",
       "  margin: .5ex;\n",
       "  width: min-content;\n",
       "  min-width: 20ex;\n",
       "  max-width: 50ex;\n",
       "  color: var(--sklearn-color-text);\n",
       "  box-shadow: 2pt 2pt 4pt #999;\n",
       "  /* unfitted */\n",
       "  background: var(--sklearn-color-unfitted-level-0);\n",
       "  border: .5pt solid var(--sklearn-color-unfitted-level-3);\n",
       "}\n",
       "\n",
       ".sk-estimator-doc-link.fitted span {\n",
       "  /* fitted */\n",
       "  background: var(--sklearn-color-fitted-level-0);\n",
       "  border: var(--sklearn-color-fitted-level-3);\n",
       "}\n",
       "\n",
       ".sk-estimator-doc-link:hover span {\n",
       "  display: block;\n",
       "}\n",
       "\n",
       "/* \"?\"-specific style due to the `<a>` HTML tag */\n",
       "\n",
       "#sk-container-id-1 a.estimator_doc_link {\n",
       "  float: right;\n",
       "  font-size: 1rem;\n",
       "  line-height: 1em;\n",
       "  font-family: monospace;\n",
       "  background-color: var(--sklearn-color-background);\n",
       "  border-radius: 1rem;\n",
       "  height: 1rem;\n",
       "  width: 1rem;\n",
       "  text-decoration: none;\n",
       "  /* unfitted */\n",
       "  color: var(--sklearn-color-unfitted-level-1);\n",
       "  border: var(--sklearn-color-unfitted-level-1) 1pt solid;\n",
       "}\n",
       "\n",
       "#sk-container-id-1 a.estimator_doc_link.fitted {\n",
       "  /* fitted */\n",
       "  border: var(--sklearn-color-fitted-level-1) 1pt solid;\n",
       "  color: var(--sklearn-color-fitted-level-1);\n",
       "}\n",
       "\n",
       "/* On hover */\n",
       "#sk-container-id-1 a.estimator_doc_link:hover {\n",
       "  /* unfitted */\n",
       "  background-color: var(--sklearn-color-unfitted-level-3);\n",
       "  color: var(--sklearn-color-background);\n",
       "  text-decoration: none;\n",
       "}\n",
       "\n",
       "#sk-container-id-1 a.estimator_doc_link.fitted:hover {\n",
       "  /* fitted */\n",
       "  background-color: var(--sklearn-color-fitted-level-3);\n",
       "}\n",
       "</style><div id=\"sk-container-id-1\" class=\"sk-top-container\"><div class=\"sk-text-repr-fallback\"><pre>GridSearchCV(cv=5, estimator=RandomForestRegressor(random_state=42), n_jobs=-1,\n",
       "             param_grid={&#x27;max_depth&#x27;: [None, 5, 10], &#x27;min_samples_leaf&#x27;: [1, 2],\n",
       "                         &#x27;min_samples_split&#x27;: [2, 5],\n",
       "                         &#x27;n_estimators&#x27;: [100, 200, 500]},\n",
       "             scoring=&#x27;neg_mean_squared_error&#x27;)</pre><b>In a Jupyter environment, please rerun this cell to show the HTML representation or trust the notebook. <br />On GitHub, the HTML representation is unable to render, please try loading this page with nbviewer.org.</b></div><div class=\"sk-container\" hidden><div class=\"sk-item sk-dashed-wrapped\"><div class=\"sk-label-container\"><div class=\"sk-label fitted sk-toggleable\"><input class=\"sk-toggleable__control sk-hidden--visually\" id=\"sk-estimator-id-1\" type=\"checkbox\" ><label for=\"sk-estimator-id-1\" class=\"sk-toggleable__label fitted sk-toggleable__label-arrow fitted\">&nbsp;&nbsp;GridSearchCV<a class=\"sk-estimator-doc-link fitted\" rel=\"noreferrer\" target=\"_blank\" href=\"https://scikit-learn.org/1.5/modules/generated/sklearn.model_selection.GridSearchCV.html\">?<span>Documentation for GridSearchCV</span></a><span class=\"sk-estimator-doc-link fitted\">i<span>Fitted</span></span></label><div class=\"sk-toggleable__content fitted\"><pre>GridSearchCV(cv=5, estimator=RandomForestRegressor(random_state=42), n_jobs=-1,\n",
       "             param_grid={&#x27;max_depth&#x27;: [None, 5, 10], &#x27;min_samples_leaf&#x27;: [1, 2],\n",
       "                         &#x27;min_samples_split&#x27;: [2, 5],\n",
       "                         &#x27;n_estimators&#x27;: [100, 200, 500]},\n",
       "             scoring=&#x27;neg_mean_squared_error&#x27;)</pre></div> </div></div><div class=\"sk-parallel\"><div class=\"sk-parallel-item\"><div class=\"sk-item\"><div class=\"sk-label-container\"><div class=\"sk-label fitted sk-toggleable\"><input class=\"sk-toggleable__control sk-hidden--visually\" id=\"sk-estimator-id-2\" type=\"checkbox\" ><label for=\"sk-estimator-id-2\" class=\"sk-toggleable__label fitted sk-toggleable__label-arrow fitted\">best_estimator_: RandomForestRegressor</label><div class=\"sk-toggleable__content fitted\"><pre>RandomForestRegressor(max_depth=5, min_samples_split=5, n_estimators=500,\n",
       "                      random_state=42)</pre></div> </div></div><div class=\"sk-serial\"><div class=\"sk-item\"><div class=\"sk-estimator fitted sk-toggleable\"><input class=\"sk-toggleable__control sk-hidden--visually\" id=\"sk-estimator-id-3\" type=\"checkbox\" ><label for=\"sk-estimator-id-3\" class=\"sk-toggleable__label fitted sk-toggleable__label-arrow fitted\">&nbsp;RandomForestRegressor<a class=\"sk-estimator-doc-link fitted\" rel=\"noreferrer\" target=\"_blank\" href=\"https://scikit-learn.org/1.5/modules/generated/sklearn.ensemble.RandomForestRegressor.html\">?<span>Documentation for RandomForestRegressor</span></a></label><div class=\"sk-toggleable__content fitted\"><pre>RandomForestRegressor(max_depth=5, min_samples_split=5, n_estimators=500,\n",
       "                      random_state=42)</pre></div> </div></div></div></div></div></div></div></div></div>"
      ],
      "text/plain": [
       "GridSearchCV(cv=5, estimator=RandomForestRegressor(random_state=42), n_jobs=-1,\n",
       "             param_grid={'max_depth': [None, 5, 10], 'min_samples_leaf': [1, 2],\n",
       "                         'min_samples_split': [2, 5],\n",
       "                         'n_estimators': [100, 200, 500]},\n",
       "             scoring='neg_mean_squared_error')"
      ]
     },
     "execution_count": 56,
     "metadata": {},
     "output_type": "execute_result"
    }
   ],
   "source": [
    "# Ejecutar la búsqueda\n",
    "grid_search.fit(X_train, y_train)"
   ]
  },
  {
   "cell_type": "markdown",
   "id": "828aef29055346c0",
   "metadata": {},
   "source": [
    "#### 3.6.1.5. Mejor Modelo y Parámetros Óptimos"
   ]
  },
  {
   "cell_type": "code",
   "execution_count": 57,
   "id": "6e4b1894313421b6",
   "metadata": {
    "ExecuteTime": {
     "end_time": "2024-11-08T00:52:10.611721Z",
     "start_time": "2024-11-08T00:52:10.607631Z"
    }
   },
   "outputs": [
    {
     "name": "stdout",
     "output_type": "stream",
     "text": [
      "\n",
      "Mejores Parámetros Encontrados:\n",
      "{'max_depth': 5, 'min_samples_leaf': 1, 'min_samples_split': 5, 'n_estimators': 500}\n"
     ]
    }
   ],
   "source": [
    "# Mejor modelo\n",
    "best_rf = grid_search.best_estimator_\n",
    "\n",
    "# Parámetros óptimos\n",
    "print(\"\\nMejores Parámetros Encontrados:\")\n",
    "print(grid_search.best_params_)"
   ]
  },
  {
   "cell_type": "markdown",
   "id": "242073a9045568ff",
   "metadata": {},
   "source": [
    "#### 3.6.1.6. Evaluar el Modelo Optimizado"
   ]
  },
  {
   "cell_type": "code",
   "execution_count": 58,
   "id": "e3b0aa6307831817",
   "metadata": {
    "ExecuteTime": {
     "end_time": "2024-11-08T00:52:11.538218Z",
     "start_time": "2024-11-08T00:52:10.613023Z"
    }
   },
   "outputs": [
    {
     "name": "stdout",
     "output_type": "stream",
     "text": [
      "\n",
      "Resultados del Bosque Aleatorio Optimizado:\n",
      "MAE: 0.91\n",
      "MSE: 2.75\n",
      "RMSE: 1.66\n",
      "R^2: 0.82\n"
     ]
    }
   ],
   "source": [
    "# Entrenar y evaluar el mejor modelo\n",
    "print(\"\\nResultados del Bosque Aleatorio Optimizado:\")\n",
    "y_pred_best_rf = train_and_evaluate(best_rf, X_train, y_train, X_test, y_test)"
   ]
  },
  {
   "cell_type": "markdown",
   "id": "220cb6008bc27aa9",
   "metadata": {},
   "source": [
    "# 4. Implementación y Uso del Modelo para Predicción\n",
    "En este paso, nos enfocaremos en cómo utilizar este modelo para predecir la nota final G3 de los estudiantes, tanto en el conjunto de prueba como en nuevos datos.\n",
    "\n",
    "---\n",
    "## 4.1. Resumen del Modelo Seleccionado\n",
    "El modelo de Regresión Lineal fue entrenado utilizando las variables preprocesadas y mostró las mejores métricas de desempeño. Ahora, lo utilizaremos para realizar predicciones y analizar los resultados.\n",
    "\n",
    "## 4.2. Entrenar el Modelo con Todos los Datos Disponibles\n",
    "Para aprovechar toda la información disponible, es recomendable reentrenar el modelo utilizando tanto el conjunto de entrenamiento como el de prueba.\n",
    "### 4.2.1. Combinar Conjuntos de Datos"
   ]
  },
  {
   "cell_type": "code",
   "execution_count": 59,
   "id": "1c4aecda1ac0344b",
   "metadata": {
    "ExecuteTime": {
     "end_time": "2024-11-08T00:52:11.607455Z",
     "start_time": "2024-11-08T00:52:11.572180Z"
    }
   },
   "outputs": [],
   "source": [
    "# Combinar X_train y X_test\n",
    "X_full = pd.concat([X_train, X_test], axis=0)\n",
    "\n",
    "# Combinar y_train y y_test\n",
    "y_full = pd.concat([y_train, y_test], axis=0)"
   ]
  },
  {
   "cell_type": "markdown",
   "id": "d3bccd852bfc91c",
   "metadata": {},
   "source": [
    "### 4.2.2. Reentrenar el Modelo de Regresión Lineal"
   ]
  },
  {
   "cell_type": "code",
   "execution_count": 60,
   "id": "d43254ffc13fce3c",
   "metadata": {
    "ExecuteTime": {
     "end_time": "2024-11-08T00:52:11.674367Z",
     "start_time": "2024-11-08T00:52:11.662409Z"
    }
   },
   "outputs": [
    {
     "data": {
      "text/html": [
       "<style>#sk-container-id-2 {\n",
       "  /* Definition of color scheme common for light and dark mode */\n",
       "  --sklearn-color-text: black;\n",
       "  --sklearn-color-line: gray;\n",
       "  /* Definition of color scheme for unfitted estimators */\n",
       "  --sklearn-color-unfitted-level-0: #fff5e6;\n",
       "  --sklearn-color-unfitted-level-1: #f6e4d2;\n",
       "  --sklearn-color-unfitted-level-2: #ffe0b3;\n",
       "  --sklearn-color-unfitted-level-3: chocolate;\n",
       "  /* Definition of color scheme for fitted estimators */\n",
       "  --sklearn-color-fitted-level-0: #f0f8ff;\n",
       "  --sklearn-color-fitted-level-1: #d4ebff;\n",
       "  --sklearn-color-fitted-level-2: #b3dbfd;\n",
       "  --sklearn-color-fitted-level-3: cornflowerblue;\n",
       "\n",
       "  /* Specific color for light theme */\n",
       "  --sklearn-color-text-on-default-background: var(--sg-text-color, var(--theme-code-foreground, var(--jp-content-font-color1, black)));\n",
       "  --sklearn-color-background: var(--sg-background-color, var(--theme-background, var(--jp-layout-color0, white)));\n",
       "  --sklearn-color-border-box: var(--sg-text-color, var(--theme-code-foreground, var(--jp-content-font-color1, black)));\n",
       "  --sklearn-color-icon: #696969;\n",
       "\n",
       "  @media (prefers-color-scheme: dark) {\n",
       "    /* Redefinition of color scheme for dark theme */\n",
       "    --sklearn-color-text-on-default-background: var(--sg-text-color, var(--theme-code-foreground, var(--jp-content-font-color1, white)));\n",
       "    --sklearn-color-background: var(--sg-background-color, var(--theme-background, var(--jp-layout-color0, #111)));\n",
       "    --sklearn-color-border-box: var(--sg-text-color, var(--theme-code-foreground, var(--jp-content-font-color1, white)));\n",
       "    --sklearn-color-icon: #878787;\n",
       "  }\n",
       "}\n",
       "\n",
       "#sk-container-id-2 {\n",
       "  color: var(--sklearn-color-text);\n",
       "}\n",
       "\n",
       "#sk-container-id-2 pre {\n",
       "  padding: 0;\n",
       "}\n",
       "\n",
       "#sk-container-id-2 input.sk-hidden--visually {\n",
       "  border: 0;\n",
       "  clip: rect(1px 1px 1px 1px);\n",
       "  clip: rect(1px, 1px, 1px, 1px);\n",
       "  height: 1px;\n",
       "  margin: -1px;\n",
       "  overflow: hidden;\n",
       "  padding: 0;\n",
       "  position: absolute;\n",
       "  width: 1px;\n",
       "}\n",
       "\n",
       "#sk-container-id-2 div.sk-dashed-wrapped {\n",
       "  border: 1px dashed var(--sklearn-color-line);\n",
       "  margin: 0 0.4em 0.5em 0.4em;\n",
       "  box-sizing: border-box;\n",
       "  padding-bottom: 0.4em;\n",
       "  background-color: var(--sklearn-color-background);\n",
       "}\n",
       "\n",
       "#sk-container-id-2 div.sk-container {\n",
       "  /* jupyter's `normalize.less` sets `[hidden] { display: none; }`\n",
       "     but bootstrap.min.css set `[hidden] { display: none !important; }`\n",
       "     so we also need the `!important` here to be able to override the\n",
       "     default hidden behavior on the sphinx rendered scikit-learn.org.\n",
       "     See: https://github.com/scikit-learn/scikit-learn/issues/21755 */\n",
       "  display: inline-block !important;\n",
       "  position: relative;\n",
       "}\n",
       "\n",
       "#sk-container-id-2 div.sk-text-repr-fallback {\n",
       "  display: none;\n",
       "}\n",
       "\n",
       "div.sk-parallel-item,\n",
       "div.sk-serial,\n",
       "div.sk-item {\n",
       "  /* draw centered vertical line to link estimators */\n",
       "  background-image: linear-gradient(var(--sklearn-color-text-on-default-background), var(--sklearn-color-text-on-default-background));\n",
       "  background-size: 2px 100%;\n",
       "  background-repeat: no-repeat;\n",
       "  background-position: center center;\n",
       "}\n",
       "\n",
       "/* Parallel-specific style estimator block */\n",
       "\n",
       "#sk-container-id-2 div.sk-parallel-item::after {\n",
       "  content: \"\";\n",
       "  width: 100%;\n",
       "  border-bottom: 2px solid var(--sklearn-color-text-on-default-background);\n",
       "  flex-grow: 1;\n",
       "}\n",
       "\n",
       "#sk-container-id-2 div.sk-parallel {\n",
       "  display: flex;\n",
       "  align-items: stretch;\n",
       "  justify-content: center;\n",
       "  background-color: var(--sklearn-color-background);\n",
       "  position: relative;\n",
       "}\n",
       "\n",
       "#sk-container-id-2 div.sk-parallel-item {\n",
       "  display: flex;\n",
       "  flex-direction: column;\n",
       "}\n",
       "\n",
       "#sk-container-id-2 div.sk-parallel-item:first-child::after {\n",
       "  align-self: flex-end;\n",
       "  width: 50%;\n",
       "}\n",
       "\n",
       "#sk-container-id-2 div.sk-parallel-item:last-child::after {\n",
       "  align-self: flex-start;\n",
       "  width: 50%;\n",
       "}\n",
       "\n",
       "#sk-container-id-2 div.sk-parallel-item:only-child::after {\n",
       "  width: 0;\n",
       "}\n",
       "\n",
       "/* Serial-specific style estimator block */\n",
       "\n",
       "#sk-container-id-2 div.sk-serial {\n",
       "  display: flex;\n",
       "  flex-direction: column;\n",
       "  align-items: center;\n",
       "  background-color: var(--sklearn-color-background);\n",
       "  padding-right: 1em;\n",
       "  padding-left: 1em;\n",
       "}\n",
       "\n",
       "\n",
       "/* Toggleable style: style used for estimator/Pipeline/ColumnTransformer box that is\n",
       "clickable and can be expanded/collapsed.\n",
       "- Pipeline and ColumnTransformer use this feature and define the default style\n",
       "- Estimators will overwrite some part of the style using the `sk-estimator` class\n",
       "*/\n",
       "\n",
       "/* Pipeline and ColumnTransformer style (default) */\n",
       "\n",
       "#sk-container-id-2 div.sk-toggleable {\n",
       "  /* Default theme specific background. It is overwritten whether we have a\n",
       "  specific estimator or a Pipeline/ColumnTransformer */\n",
       "  background-color: var(--sklearn-color-background);\n",
       "}\n",
       "\n",
       "/* Toggleable label */\n",
       "#sk-container-id-2 label.sk-toggleable__label {\n",
       "  cursor: pointer;\n",
       "  display: block;\n",
       "  width: 100%;\n",
       "  margin-bottom: 0;\n",
       "  padding: 0.5em;\n",
       "  box-sizing: border-box;\n",
       "  text-align: center;\n",
       "}\n",
       "\n",
       "#sk-container-id-2 label.sk-toggleable__label-arrow:before {\n",
       "  /* Arrow on the left of the label */\n",
       "  content: \"▸\";\n",
       "  float: left;\n",
       "  margin-right: 0.25em;\n",
       "  color: var(--sklearn-color-icon);\n",
       "}\n",
       "\n",
       "#sk-container-id-2 label.sk-toggleable__label-arrow:hover:before {\n",
       "  color: var(--sklearn-color-text);\n",
       "}\n",
       "\n",
       "/* Toggleable content - dropdown */\n",
       "\n",
       "#sk-container-id-2 div.sk-toggleable__content {\n",
       "  max-height: 0;\n",
       "  max-width: 0;\n",
       "  overflow: hidden;\n",
       "  text-align: left;\n",
       "  /* unfitted */\n",
       "  background-color: var(--sklearn-color-unfitted-level-0);\n",
       "}\n",
       "\n",
       "#sk-container-id-2 div.sk-toggleable__content.fitted {\n",
       "  /* fitted */\n",
       "  background-color: var(--sklearn-color-fitted-level-0);\n",
       "}\n",
       "\n",
       "#sk-container-id-2 div.sk-toggleable__content pre {\n",
       "  margin: 0.2em;\n",
       "  border-radius: 0.25em;\n",
       "  color: var(--sklearn-color-text);\n",
       "  /* unfitted */\n",
       "  background-color: var(--sklearn-color-unfitted-level-0);\n",
       "}\n",
       "\n",
       "#sk-container-id-2 div.sk-toggleable__content.fitted pre {\n",
       "  /* unfitted */\n",
       "  background-color: var(--sklearn-color-fitted-level-0);\n",
       "}\n",
       "\n",
       "#sk-container-id-2 input.sk-toggleable__control:checked~div.sk-toggleable__content {\n",
       "  /* Expand drop-down */\n",
       "  max-height: 200px;\n",
       "  max-width: 100%;\n",
       "  overflow: auto;\n",
       "}\n",
       "\n",
       "#sk-container-id-2 input.sk-toggleable__control:checked~label.sk-toggleable__label-arrow:before {\n",
       "  content: \"▾\";\n",
       "}\n",
       "\n",
       "/* Pipeline/ColumnTransformer-specific style */\n",
       "\n",
       "#sk-container-id-2 div.sk-label input.sk-toggleable__control:checked~label.sk-toggleable__label {\n",
       "  color: var(--sklearn-color-text);\n",
       "  background-color: var(--sklearn-color-unfitted-level-2);\n",
       "}\n",
       "\n",
       "#sk-container-id-2 div.sk-label.fitted input.sk-toggleable__control:checked~label.sk-toggleable__label {\n",
       "  background-color: var(--sklearn-color-fitted-level-2);\n",
       "}\n",
       "\n",
       "/* Estimator-specific style */\n",
       "\n",
       "/* Colorize estimator box */\n",
       "#sk-container-id-2 div.sk-estimator input.sk-toggleable__control:checked~label.sk-toggleable__label {\n",
       "  /* unfitted */\n",
       "  background-color: var(--sklearn-color-unfitted-level-2);\n",
       "}\n",
       "\n",
       "#sk-container-id-2 div.sk-estimator.fitted input.sk-toggleable__control:checked~label.sk-toggleable__label {\n",
       "  /* fitted */\n",
       "  background-color: var(--sklearn-color-fitted-level-2);\n",
       "}\n",
       "\n",
       "#sk-container-id-2 div.sk-label label.sk-toggleable__label,\n",
       "#sk-container-id-2 div.sk-label label {\n",
       "  /* The background is the default theme color */\n",
       "  color: var(--sklearn-color-text-on-default-background);\n",
       "}\n",
       "\n",
       "/* On hover, darken the color of the background */\n",
       "#sk-container-id-2 div.sk-label:hover label.sk-toggleable__label {\n",
       "  color: var(--sklearn-color-text);\n",
       "  background-color: var(--sklearn-color-unfitted-level-2);\n",
       "}\n",
       "\n",
       "/* Label box, darken color on hover, fitted */\n",
       "#sk-container-id-2 div.sk-label.fitted:hover label.sk-toggleable__label.fitted {\n",
       "  color: var(--sklearn-color-text);\n",
       "  background-color: var(--sklearn-color-fitted-level-2);\n",
       "}\n",
       "\n",
       "/* Estimator label */\n",
       "\n",
       "#sk-container-id-2 div.sk-label label {\n",
       "  font-family: monospace;\n",
       "  font-weight: bold;\n",
       "  display: inline-block;\n",
       "  line-height: 1.2em;\n",
       "}\n",
       "\n",
       "#sk-container-id-2 div.sk-label-container {\n",
       "  text-align: center;\n",
       "}\n",
       "\n",
       "/* Estimator-specific */\n",
       "#sk-container-id-2 div.sk-estimator {\n",
       "  font-family: monospace;\n",
       "  border: 1px dotted var(--sklearn-color-border-box);\n",
       "  border-radius: 0.25em;\n",
       "  box-sizing: border-box;\n",
       "  margin-bottom: 0.5em;\n",
       "  /* unfitted */\n",
       "  background-color: var(--sklearn-color-unfitted-level-0);\n",
       "}\n",
       "\n",
       "#sk-container-id-2 div.sk-estimator.fitted {\n",
       "  /* fitted */\n",
       "  background-color: var(--sklearn-color-fitted-level-0);\n",
       "}\n",
       "\n",
       "/* on hover */\n",
       "#sk-container-id-2 div.sk-estimator:hover {\n",
       "  /* unfitted */\n",
       "  background-color: var(--sklearn-color-unfitted-level-2);\n",
       "}\n",
       "\n",
       "#sk-container-id-2 div.sk-estimator.fitted:hover {\n",
       "  /* fitted */\n",
       "  background-color: var(--sklearn-color-fitted-level-2);\n",
       "}\n",
       "\n",
       "/* Specification for estimator info (e.g. \"i\" and \"?\") */\n",
       "\n",
       "/* Common style for \"i\" and \"?\" */\n",
       "\n",
       ".sk-estimator-doc-link,\n",
       "a:link.sk-estimator-doc-link,\n",
       "a:visited.sk-estimator-doc-link {\n",
       "  float: right;\n",
       "  font-size: smaller;\n",
       "  line-height: 1em;\n",
       "  font-family: monospace;\n",
       "  background-color: var(--sklearn-color-background);\n",
       "  border-radius: 1em;\n",
       "  height: 1em;\n",
       "  width: 1em;\n",
       "  text-decoration: none !important;\n",
       "  margin-left: 1ex;\n",
       "  /* unfitted */\n",
       "  border: var(--sklearn-color-unfitted-level-1) 1pt solid;\n",
       "  color: var(--sklearn-color-unfitted-level-1);\n",
       "}\n",
       "\n",
       ".sk-estimator-doc-link.fitted,\n",
       "a:link.sk-estimator-doc-link.fitted,\n",
       "a:visited.sk-estimator-doc-link.fitted {\n",
       "  /* fitted */\n",
       "  border: var(--sklearn-color-fitted-level-1) 1pt solid;\n",
       "  color: var(--sklearn-color-fitted-level-1);\n",
       "}\n",
       "\n",
       "/* On hover */\n",
       "div.sk-estimator:hover .sk-estimator-doc-link:hover,\n",
       ".sk-estimator-doc-link:hover,\n",
       "div.sk-label-container:hover .sk-estimator-doc-link:hover,\n",
       ".sk-estimator-doc-link:hover {\n",
       "  /* unfitted */\n",
       "  background-color: var(--sklearn-color-unfitted-level-3);\n",
       "  color: var(--sklearn-color-background);\n",
       "  text-decoration: none;\n",
       "}\n",
       "\n",
       "div.sk-estimator.fitted:hover .sk-estimator-doc-link.fitted:hover,\n",
       ".sk-estimator-doc-link.fitted:hover,\n",
       "div.sk-label-container:hover .sk-estimator-doc-link.fitted:hover,\n",
       ".sk-estimator-doc-link.fitted:hover {\n",
       "  /* fitted */\n",
       "  background-color: var(--sklearn-color-fitted-level-3);\n",
       "  color: var(--sklearn-color-background);\n",
       "  text-decoration: none;\n",
       "}\n",
       "\n",
       "/* Span, style for the box shown on hovering the info icon */\n",
       ".sk-estimator-doc-link span {\n",
       "  display: none;\n",
       "  z-index: 9999;\n",
       "  position: relative;\n",
       "  font-weight: normal;\n",
       "  right: .2ex;\n",
       "  padding: .5ex;\n",
       "  margin: .5ex;\n",
       "  width: min-content;\n",
       "  min-width: 20ex;\n",
       "  max-width: 50ex;\n",
       "  color: var(--sklearn-color-text);\n",
       "  box-shadow: 2pt 2pt 4pt #999;\n",
       "  /* unfitted */\n",
       "  background: var(--sklearn-color-unfitted-level-0);\n",
       "  border: .5pt solid var(--sklearn-color-unfitted-level-3);\n",
       "}\n",
       "\n",
       ".sk-estimator-doc-link.fitted span {\n",
       "  /* fitted */\n",
       "  background: var(--sklearn-color-fitted-level-0);\n",
       "  border: var(--sklearn-color-fitted-level-3);\n",
       "}\n",
       "\n",
       ".sk-estimator-doc-link:hover span {\n",
       "  display: block;\n",
       "}\n",
       "\n",
       "/* \"?\"-specific style due to the `<a>` HTML tag */\n",
       "\n",
       "#sk-container-id-2 a.estimator_doc_link {\n",
       "  float: right;\n",
       "  font-size: 1rem;\n",
       "  line-height: 1em;\n",
       "  font-family: monospace;\n",
       "  background-color: var(--sklearn-color-background);\n",
       "  border-radius: 1rem;\n",
       "  height: 1rem;\n",
       "  width: 1rem;\n",
       "  text-decoration: none;\n",
       "  /* unfitted */\n",
       "  color: var(--sklearn-color-unfitted-level-1);\n",
       "  border: var(--sklearn-color-unfitted-level-1) 1pt solid;\n",
       "}\n",
       "\n",
       "#sk-container-id-2 a.estimator_doc_link.fitted {\n",
       "  /* fitted */\n",
       "  border: var(--sklearn-color-fitted-level-1) 1pt solid;\n",
       "  color: var(--sklearn-color-fitted-level-1);\n",
       "}\n",
       "\n",
       "/* On hover */\n",
       "#sk-container-id-2 a.estimator_doc_link:hover {\n",
       "  /* unfitted */\n",
       "  background-color: var(--sklearn-color-unfitted-level-3);\n",
       "  color: var(--sklearn-color-background);\n",
       "  text-decoration: none;\n",
       "}\n",
       "\n",
       "#sk-container-id-2 a.estimator_doc_link.fitted:hover {\n",
       "  /* fitted */\n",
       "  background-color: var(--sklearn-color-fitted-level-3);\n",
       "}\n",
       "</style><div id=\"sk-container-id-2\" class=\"sk-top-container\"><div class=\"sk-text-repr-fallback\"><pre>LinearRegression()</pre><b>In a Jupyter environment, please rerun this cell to show the HTML representation or trust the notebook. <br />On GitHub, the HTML representation is unable to render, please try loading this page with nbviewer.org.</b></div><div class=\"sk-container\" hidden><div class=\"sk-item\"><div class=\"sk-estimator fitted sk-toggleable\"><input class=\"sk-toggleable__control sk-hidden--visually\" id=\"sk-estimator-id-4\" type=\"checkbox\" checked><label for=\"sk-estimator-id-4\" class=\"sk-toggleable__label fitted sk-toggleable__label-arrow fitted\">&nbsp;&nbsp;LinearRegression<a class=\"sk-estimator-doc-link fitted\" rel=\"noreferrer\" target=\"_blank\" href=\"https://scikit-learn.org/1.5/modules/generated/sklearn.linear_model.LinearRegression.html\">?<span>Documentation for LinearRegression</span></a><span class=\"sk-estimator-doc-link fitted\">i<span>Fitted</span></span></label><div class=\"sk-toggleable__content fitted\"><pre>LinearRegression()</pre></div> </div></div></div></div>"
      ],
      "text/plain": [
       "LinearRegression()"
      ]
     },
     "execution_count": 60,
     "metadata": {},
     "output_type": "execute_result"
    }
   ],
   "source": [
    "# Crear una nueva instancia del modelo\n",
    "final_model = LinearRegression()\n",
    "\n",
    "# Entrenar el modelo con todos los datos\n",
    "final_model.fit(X_full, y_full)"
   ]
  },
  {
   "cell_type": "markdown",
   "id": "2f4b29fea518cecf",
   "metadata": {},
   "source": [
    "## 4.3. Uso del Modelo para Predicciones\n",
    "### 4.3.1. Predicción en Datos Existentes\n",
    "Podemos utilizar el modelo para predecir G3 en los datos que ya tenemos y analizar las predicciones."
   ]
  },
  {
   "cell_type": "code",
   "execution_count": 61,
   "id": "488fded1f93f68d1",
   "metadata": {
    "ExecuteTime": {
     "end_time": "2024-11-08T00:52:11.691427Z",
     "start_time": "2024-11-08T00:52:11.679135Z"
    }
   },
   "outputs": [
    {
     "name": "stdout",
     "output_type": "stream",
     "text": [
      "     G3_real  G3_predicho\n",
      "531       11     9.091388\n",
      "256       13    12.247785\n",
      "350        8     6.296219\n",
      "60        11    11.306490\n",
      "930       10    11.431176\n"
     ]
    }
   ],
   "source": [
    "# Realizar predicciones en X_full\n",
    "y_pred_full = final_model.predict(X_full)\n",
    "\n",
    "# Crear un DataFrame con los resultados\n",
    "results_df = X_full.copy()\n",
    "results_df['G3_real'] = y_full\n",
    "results_df['G3_predicho'] = y_pred_full\n",
    "\n",
    "# Mostrar las primeras filas\n",
    "print(results_df[['G3_real', 'G3_predicho']].head())"
   ]
  },
  {
   "cell_type": "markdown",
   "id": "14056e720674c9a9",
   "metadata": {},
   "source": [
    "***Análisis:***\n",
    "\n",
    "- Compara las notas reales con las predichas.\n",
    "- Calcula las métricas de desempeño nuevamente si es necesario."
   ]
  },
  {
   "cell_type": "markdown",
   "id": "d533b500dd33cdb1",
   "metadata": {},
   "source": [
    "### 4.3.2. Predicción en Nuevos Datos\n",
    "#### 4.3.2.1. Preparar Nuevos Datos\n",
    "Para utilizar el modelo de predicción, se debe preprocesar los nuevos datos de la misma manera que se hizo con los datos de entrenamiento.\n",
    "\n",
    "Pasos:\n",
    "\n",
    "1. Cargar los nuevos datos:"
   ]
  },
  {
   "cell_type": "code",
   "execution_count": 62,
   "id": "fdb751b45d261fdb",
   "metadata": {
    "ExecuteTime": {
     "end_time": "2024-11-08T00:52:12.743318Z",
     "start_time": "2024-11-08T00:52:11.696842Z"
    }
   },
   "outputs": [
    {
     "ename": "FileNotFoundError",
     "evalue": "[Errno 2] No such file or directory: 'ruta_a_nuevos_datos.csv'",
     "output_type": "error",
     "traceback": [
      "\u001b[0;31m---------------------------------------------------------------------------\u001b[0m",
      "\u001b[0;31mFileNotFoundError\u001b[0m                         Traceback (most recent call last)",
      "Cell \u001b[0;32mIn[62], line 2\u001b[0m\n\u001b[1;32m      1\u001b[0m \u001b[38;5;66;03m# Supongamos que los nuevos datos están en un archivo CSV\u001b[39;00m\n\u001b[0;32m----> 2\u001b[0m new_data \u001b[38;5;241m=\u001b[39m \u001b[43mpd\u001b[49m\u001b[38;5;241;43m.\u001b[39;49m\u001b[43mread_csv\u001b[49m\u001b[43m(\u001b[49m\u001b[38;5;124;43m'\u001b[39;49m\u001b[38;5;124;43mruta_a_nuevos_datos.csv\u001b[39;49m\u001b[38;5;124;43m'\u001b[39;49m\u001b[43m)\u001b[49m\n",
      "File \u001b[0;32m~/Library/Mobile Documents/com~apple~CloudDocs/Universidad/Inteligencia Artificial/Proyecto_Final/Prediccion_Rendimiento_Estudiantil/.venv/lib/python3.12/site-packages/pandas/io/parsers/readers.py:1026\u001b[0m, in \u001b[0;36mread_csv\u001b[0;34m(filepath_or_buffer, sep, delimiter, header, names, index_col, usecols, dtype, engine, converters, true_values, false_values, skipinitialspace, skiprows, skipfooter, nrows, na_values, keep_default_na, na_filter, verbose, skip_blank_lines, parse_dates, infer_datetime_format, keep_date_col, date_parser, date_format, dayfirst, cache_dates, iterator, chunksize, compression, thousands, decimal, lineterminator, quotechar, quoting, doublequote, escapechar, comment, encoding, encoding_errors, dialect, on_bad_lines, delim_whitespace, low_memory, memory_map, float_precision, storage_options, dtype_backend)\u001b[0m\n\u001b[1;32m   1013\u001b[0m kwds_defaults \u001b[38;5;241m=\u001b[39m _refine_defaults_read(\n\u001b[1;32m   1014\u001b[0m     dialect,\n\u001b[1;32m   1015\u001b[0m     delimiter,\n\u001b[0;32m   (...)\u001b[0m\n\u001b[1;32m   1022\u001b[0m     dtype_backend\u001b[38;5;241m=\u001b[39mdtype_backend,\n\u001b[1;32m   1023\u001b[0m )\n\u001b[1;32m   1024\u001b[0m kwds\u001b[38;5;241m.\u001b[39mupdate(kwds_defaults)\n\u001b[0;32m-> 1026\u001b[0m \u001b[38;5;28;01mreturn\u001b[39;00m \u001b[43m_read\u001b[49m\u001b[43m(\u001b[49m\u001b[43mfilepath_or_buffer\u001b[49m\u001b[43m,\u001b[49m\u001b[43m \u001b[49m\u001b[43mkwds\u001b[49m\u001b[43m)\u001b[49m\n",
      "File \u001b[0;32m~/Library/Mobile Documents/com~apple~CloudDocs/Universidad/Inteligencia Artificial/Proyecto_Final/Prediccion_Rendimiento_Estudiantil/.venv/lib/python3.12/site-packages/pandas/io/parsers/readers.py:620\u001b[0m, in \u001b[0;36m_read\u001b[0;34m(filepath_or_buffer, kwds)\u001b[0m\n\u001b[1;32m    617\u001b[0m _validate_names(kwds\u001b[38;5;241m.\u001b[39mget(\u001b[38;5;124m\"\u001b[39m\u001b[38;5;124mnames\u001b[39m\u001b[38;5;124m\"\u001b[39m, \u001b[38;5;28;01mNone\u001b[39;00m))\n\u001b[1;32m    619\u001b[0m \u001b[38;5;66;03m# Create the parser.\u001b[39;00m\n\u001b[0;32m--> 620\u001b[0m parser \u001b[38;5;241m=\u001b[39m \u001b[43mTextFileReader\u001b[49m\u001b[43m(\u001b[49m\u001b[43mfilepath_or_buffer\u001b[49m\u001b[43m,\u001b[49m\u001b[43m \u001b[49m\u001b[38;5;241;43m*\u001b[39;49m\u001b[38;5;241;43m*\u001b[39;49m\u001b[43mkwds\u001b[49m\u001b[43m)\u001b[49m\n\u001b[1;32m    622\u001b[0m \u001b[38;5;28;01mif\u001b[39;00m chunksize \u001b[38;5;129;01mor\u001b[39;00m iterator:\n\u001b[1;32m    623\u001b[0m     \u001b[38;5;28;01mreturn\u001b[39;00m parser\n",
      "File \u001b[0;32m~/Library/Mobile Documents/com~apple~CloudDocs/Universidad/Inteligencia Artificial/Proyecto_Final/Prediccion_Rendimiento_Estudiantil/.venv/lib/python3.12/site-packages/pandas/io/parsers/readers.py:1620\u001b[0m, in \u001b[0;36mTextFileReader.__init__\u001b[0;34m(self, f, engine, **kwds)\u001b[0m\n\u001b[1;32m   1617\u001b[0m     \u001b[38;5;28mself\u001b[39m\u001b[38;5;241m.\u001b[39moptions[\u001b[38;5;124m\"\u001b[39m\u001b[38;5;124mhas_index_names\u001b[39m\u001b[38;5;124m\"\u001b[39m] \u001b[38;5;241m=\u001b[39m kwds[\u001b[38;5;124m\"\u001b[39m\u001b[38;5;124mhas_index_names\u001b[39m\u001b[38;5;124m\"\u001b[39m]\n\u001b[1;32m   1619\u001b[0m \u001b[38;5;28mself\u001b[39m\u001b[38;5;241m.\u001b[39mhandles: IOHandles \u001b[38;5;241m|\u001b[39m \u001b[38;5;28;01mNone\u001b[39;00m \u001b[38;5;241m=\u001b[39m \u001b[38;5;28;01mNone\u001b[39;00m\n\u001b[0;32m-> 1620\u001b[0m \u001b[38;5;28mself\u001b[39m\u001b[38;5;241m.\u001b[39m_engine \u001b[38;5;241m=\u001b[39m \u001b[38;5;28;43mself\u001b[39;49m\u001b[38;5;241;43m.\u001b[39;49m\u001b[43m_make_engine\u001b[49m\u001b[43m(\u001b[49m\u001b[43mf\u001b[49m\u001b[43m,\u001b[49m\u001b[43m \u001b[49m\u001b[38;5;28;43mself\u001b[39;49m\u001b[38;5;241;43m.\u001b[39;49m\u001b[43mengine\u001b[49m\u001b[43m)\u001b[49m\n",
      "File \u001b[0;32m~/Library/Mobile Documents/com~apple~CloudDocs/Universidad/Inteligencia Artificial/Proyecto_Final/Prediccion_Rendimiento_Estudiantil/.venv/lib/python3.12/site-packages/pandas/io/parsers/readers.py:1880\u001b[0m, in \u001b[0;36mTextFileReader._make_engine\u001b[0;34m(self, f, engine)\u001b[0m\n\u001b[1;32m   1878\u001b[0m     \u001b[38;5;28;01mif\u001b[39;00m \u001b[38;5;124m\"\u001b[39m\u001b[38;5;124mb\u001b[39m\u001b[38;5;124m\"\u001b[39m \u001b[38;5;129;01mnot\u001b[39;00m \u001b[38;5;129;01min\u001b[39;00m mode:\n\u001b[1;32m   1879\u001b[0m         mode \u001b[38;5;241m+\u001b[39m\u001b[38;5;241m=\u001b[39m \u001b[38;5;124m\"\u001b[39m\u001b[38;5;124mb\u001b[39m\u001b[38;5;124m\"\u001b[39m\n\u001b[0;32m-> 1880\u001b[0m \u001b[38;5;28mself\u001b[39m\u001b[38;5;241m.\u001b[39mhandles \u001b[38;5;241m=\u001b[39m \u001b[43mget_handle\u001b[49m\u001b[43m(\u001b[49m\n\u001b[1;32m   1881\u001b[0m \u001b[43m    \u001b[49m\u001b[43mf\u001b[49m\u001b[43m,\u001b[49m\n\u001b[1;32m   1882\u001b[0m \u001b[43m    \u001b[49m\u001b[43mmode\u001b[49m\u001b[43m,\u001b[49m\n\u001b[1;32m   1883\u001b[0m \u001b[43m    \u001b[49m\u001b[43mencoding\u001b[49m\u001b[38;5;241;43m=\u001b[39;49m\u001b[38;5;28;43mself\u001b[39;49m\u001b[38;5;241;43m.\u001b[39;49m\u001b[43moptions\u001b[49m\u001b[38;5;241;43m.\u001b[39;49m\u001b[43mget\u001b[49m\u001b[43m(\u001b[49m\u001b[38;5;124;43m\"\u001b[39;49m\u001b[38;5;124;43mencoding\u001b[39;49m\u001b[38;5;124;43m\"\u001b[39;49m\u001b[43m,\u001b[49m\u001b[43m \u001b[49m\u001b[38;5;28;43;01mNone\u001b[39;49;00m\u001b[43m)\u001b[49m\u001b[43m,\u001b[49m\n\u001b[1;32m   1884\u001b[0m \u001b[43m    \u001b[49m\u001b[43mcompression\u001b[49m\u001b[38;5;241;43m=\u001b[39;49m\u001b[38;5;28;43mself\u001b[39;49m\u001b[38;5;241;43m.\u001b[39;49m\u001b[43moptions\u001b[49m\u001b[38;5;241;43m.\u001b[39;49m\u001b[43mget\u001b[49m\u001b[43m(\u001b[49m\u001b[38;5;124;43m\"\u001b[39;49m\u001b[38;5;124;43mcompression\u001b[39;49m\u001b[38;5;124;43m\"\u001b[39;49m\u001b[43m,\u001b[49m\u001b[43m \u001b[49m\u001b[38;5;28;43;01mNone\u001b[39;49;00m\u001b[43m)\u001b[49m\u001b[43m,\u001b[49m\n\u001b[1;32m   1885\u001b[0m \u001b[43m    \u001b[49m\u001b[43mmemory_map\u001b[49m\u001b[38;5;241;43m=\u001b[39;49m\u001b[38;5;28;43mself\u001b[39;49m\u001b[38;5;241;43m.\u001b[39;49m\u001b[43moptions\u001b[49m\u001b[38;5;241;43m.\u001b[39;49m\u001b[43mget\u001b[49m\u001b[43m(\u001b[49m\u001b[38;5;124;43m\"\u001b[39;49m\u001b[38;5;124;43mmemory_map\u001b[39;49m\u001b[38;5;124;43m\"\u001b[39;49m\u001b[43m,\u001b[49m\u001b[43m \u001b[49m\u001b[38;5;28;43;01mFalse\u001b[39;49;00m\u001b[43m)\u001b[49m\u001b[43m,\u001b[49m\n\u001b[1;32m   1886\u001b[0m \u001b[43m    \u001b[49m\u001b[43mis_text\u001b[49m\u001b[38;5;241;43m=\u001b[39;49m\u001b[43mis_text\u001b[49m\u001b[43m,\u001b[49m\n\u001b[1;32m   1887\u001b[0m \u001b[43m    \u001b[49m\u001b[43merrors\u001b[49m\u001b[38;5;241;43m=\u001b[39;49m\u001b[38;5;28;43mself\u001b[39;49m\u001b[38;5;241;43m.\u001b[39;49m\u001b[43moptions\u001b[49m\u001b[38;5;241;43m.\u001b[39;49m\u001b[43mget\u001b[49m\u001b[43m(\u001b[49m\u001b[38;5;124;43m\"\u001b[39;49m\u001b[38;5;124;43mencoding_errors\u001b[39;49m\u001b[38;5;124;43m\"\u001b[39;49m\u001b[43m,\u001b[49m\u001b[43m \u001b[49m\u001b[38;5;124;43m\"\u001b[39;49m\u001b[38;5;124;43mstrict\u001b[39;49m\u001b[38;5;124;43m\"\u001b[39;49m\u001b[43m)\u001b[49m\u001b[43m,\u001b[49m\n\u001b[1;32m   1888\u001b[0m \u001b[43m    \u001b[49m\u001b[43mstorage_options\u001b[49m\u001b[38;5;241;43m=\u001b[39;49m\u001b[38;5;28;43mself\u001b[39;49m\u001b[38;5;241;43m.\u001b[39;49m\u001b[43moptions\u001b[49m\u001b[38;5;241;43m.\u001b[39;49m\u001b[43mget\u001b[49m\u001b[43m(\u001b[49m\u001b[38;5;124;43m\"\u001b[39;49m\u001b[38;5;124;43mstorage_options\u001b[39;49m\u001b[38;5;124;43m\"\u001b[39;49m\u001b[43m,\u001b[49m\u001b[43m \u001b[49m\u001b[38;5;28;43;01mNone\u001b[39;49;00m\u001b[43m)\u001b[49m\u001b[43m,\u001b[49m\n\u001b[1;32m   1889\u001b[0m \u001b[43m\u001b[49m\u001b[43m)\u001b[49m\n\u001b[1;32m   1890\u001b[0m \u001b[38;5;28;01massert\u001b[39;00m \u001b[38;5;28mself\u001b[39m\u001b[38;5;241m.\u001b[39mhandles \u001b[38;5;129;01mis\u001b[39;00m \u001b[38;5;129;01mnot\u001b[39;00m \u001b[38;5;28;01mNone\u001b[39;00m\n\u001b[1;32m   1891\u001b[0m f \u001b[38;5;241m=\u001b[39m \u001b[38;5;28mself\u001b[39m\u001b[38;5;241m.\u001b[39mhandles\u001b[38;5;241m.\u001b[39mhandle\n",
      "File \u001b[0;32m~/Library/Mobile Documents/com~apple~CloudDocs/Universidad/Inteligencia Artificial/Proyecto_Final/Prediccion_Rendimiento_Estudiantil/.venv/lib/python3.12/site-packages/pandas/io/common.py:873\u001b[0m, in \u001b[0;36mget_handle\u001b[0;34m(path_or_buf, mode, encoding, compression, memory_map, is_text, errors, storage_options)\u001b[0m\n\u001b[1;32m    868\u001b[0m \u001b[38;5;28;01melif\u001b[39;00m \u001b[38;5;28misinstance\u001b[39m(handle, \u001b[38;5;28mstr\u001b[39m):\n\u001b[1;32m    869\u001b[0m     \u001b[38;5;66;03m# Check whether the filename is to be opened in binary mode.\u001b[39;00m\n\u001b[1;32m    870\u001b[0m     \u001b[38;5;66;03m# Binary mode does not support 'encoding' and 'newline'.\u001b[39;00m\n\u001b[1;32m    871\u001b[0m     \u001b[38;5;28;01mif\u001b[39;00m ioargs\u001b[38;5;241m.\u001b[39mencoding \u001b[38;5;129;01mand\u001b[39;00m \u001b[38;5;124m\"\u001b[39m\u001b[38;5;124mb\u001b[39m\u001b[38;5;124m\"\u001b[39m \u001b[38;5;129;01mnot\u001b[39;00m \u001b[38;5;129;01min\u001b[39;00m ioargs\u001b[38;5;241m.\u001b[39mmode:\n\u001b[1;32m    872\u001b[0m         \u001b[38;5;66;03m# Encoding\u001b[39;00m\n\u001b[0;32m--> 873\u001b[0m         handle \u001b[38;5;241m=\u001b[39m \u001b[38;5;28;43mopen\u001b[39;49m\u001b[43m(\u001b[49m\n\u001b[1;32m    874\u001b[0m \u001b[43m            \u001b[49m\u001b[43mhandle\u001b[49m\u001b[43m,\u001b[49m\n\u001b[1;32m    875\u001b[0m \u001b[43m            \u001b[49m\u001b[43mioargs\u001b[49m\u001b[38;5;241;43m.\u001b[39;49m\u001b[43mmode\u001b[49m\u001b[43m,\u001b[49m\n\u001b[1;32m    876\u001b[0m \u001b[43m            \u001b[49m\u001b[43mencoding\u001b[49m\u001b[38;5;241;43m=\u001b[39;49m\u001b[43mioargs\u001b[49m\u001b[38;5;241;43m.\u001b[39;49m\u001b[43mencoding\u001b[49m\u001b[43m,\u001b[49m\n\u001b[1;32m    877\u001b[0m \u001b[43m            \u001b[49m\u001b[43merrors\u001b[49m\u001b[38;5;241;43m=\u001b[39;49m\u001b[43merrors\u001b[49m\u001b[43m,\u001b[49m\n\u001b[1;32m    878\u001b[0m \u001b[43m            \u001b[49m\u001b[43mnewline\u001b[49m\u001b[38;5;241;43m=\u001b[39;49m\u001b[38;5;124;43m\"\u001b[39;49m\u001b[38;5;124;43m\"\u001b[39;49m\u001b[43m,\u001b[49m\n\u001b[1;32m    879\u001b[0m \u001b[43m        \u001b[49m\u001b[43m)\u001b[49m\n\u001b[1;32m    880\u001b[0m     \u001b[38;5;28;01melse\u001b[39;00m:\n\u001b[1;32m    881\u001b[0m         \u001b[38;5;66;03m# Binary mode\u001b[39;00m\n\u001b[1;32m    882\u001b[0m         handle \u001b[38;5;241m=\u001b[39m \u001b[38;5;28mopen\u001b[39m(handle, ioargs\u001b[38;5;241m.\u001b[39mmode)\n",
      "\u001b[0;31mFileNotFoundError\u001b[0m: [Errno 2] No such file or directory: 'ruta_a_nuevos_datos.csv'"
     ]
    }
   ],
   "source": [
    "# Supongamos que los nuevos datos están en un archivo CSV\n",
    "new_data = pd.read_csv('ruta_a_nuevos_datos.csv')"
   ]
  },
  {
   "cell_type": "markdown",
   "id": "e288c881f3ffa57e",
   "metadata": {},
   "source": [
    "2. Seleccionar las mismas características:"
   ]
  },
  {
   "cell_type": "code",
   "execution_count": null,
   "id": "84dede41abb398b8",
   "metadata": {},
   "outputs": [],
   "source": [
    "new_data_selected = new_data[selected_cols].copy()"
   ]
  },
  {
   "cell_type": "markdown",
   "id": "98bbbbd2c103e3c2",
   "metadata": {},
   "source": [
    "3. Manejar los valores atípicos en absences:"
   ]
  },
  {
   "cell_type": "code",
   "execution_count": null,
   "id": "ab2ed10d22439814",
   "metadata": {},
   "outputs": [],
   "source": [
    "# Limitar 'absences' al percentil 95 calculado anteriormente (16.0)\n",
    "new_data_selected.loc[new_data_selected['absences'] > absences_95, 'absences'] = absences_95"
   ]
  },
  {
   "cell_type": "markdown",
   "id": "627c719bffd77c28",
   "metadata": {},
   "source": [
    "4. Convertir variables categóricas a string y normalizar:"
   ]
  },
  {
   "cell_type": "code",
   "execution_count": null,
   "id": "9959bb33dfa5b3a8",
   "metadata": {},
   "outputs": [],
   "source": [
    "for var in categorical_vars:\n",
    "    new_data_selected[var] = new_data_selected[var].astype(str).str.strip().str.lower()"
   ]
  },
  {
   "cell_type": "markdown",
   "id": "27e7039a1e78a6ab",
   "metadata": {},
   "source": [
    "5. Mapear las variables categóricas:"
   ]
  },
  {
   "cell_type": "code",
   "execution_count": null,
   "id": "e8787e9a43b4316",
   "metadata": {},
   "outputs": [],
   "source": [
    "for var in categorical_vars:\n",
    "    new_data_selected[var] = new_data_selected[var].map(binary_mapping)"
   ]
  },
  {
   "cell_type": "markdown",
   "id": "4e64b018425110a7",
   "metadata": {},
   "source": [
    "6. Manejar valores nulos si los hay:"
   ]
  },
  {
   "cell_type": "code",
   "execution_count": null,
   "id": "48194fd6d60433c0",
   "metadata": {},
   "outputs": [],
   "source": [
    "# Imputar o eliminar filas con valores nulos\n",
    "new_data_selected = new_data_selected.dropna()"
   ]
  },
  {
   "cell_type": "markdown",
   "id": "f29d4efc1050d582",
   "metadata": {},
   "source": [
    "7. Convertir variables numéricas a float:"
   ]
  },
  {
   "cell_type": "code",
   "execution_count": null,
   "id": "f8b82c621eff77e9",
   "metadata": {},
   "outputs": [],
   "source": [
    "new_data_selected[numeric_vars] = new_data_selected[numeric_vars].astype(float)"
   ]
  },
  {
   "cell_type": "markdown",
   "id": "15841ae09c5616c",
   "metadata": {},
   "source": [
    "8. Escalar las variables numéricas:\n",
    "\n",
    "Importante: Se debe usar el mismo escalador (scaler) que utilizamos con los datos de entrenamiento."
   ]
  },
  {
   "cell_type": "code",
   "execution_count": null,
   "id": "f2dd645a2bd5d5f3",
   "metadata": {},
   "outputs": [],
   "source": [
    "# Escalar variables numéricas\n",
    "new_data_selected[numeric_vars] = scaler.transform(new_data_selected[numeric_vars])"
   ]
  },
  {
   "cell_type": "markdown",
   "id": "45e139cb28b0e0bd",
   "metadata": {},
   "source": [
    "### 4.3.2.2. Realizar Predicciones en los Nuevos Datos"
   ]
  },
  {
   "cell_type": "code",
   "execution_count": null,
   "id": "58f7871df9d2aa60",
   "metadata": {},
   "outputs": [],
   "source": [
    "# Realizar predicciones\n",
    "new_predictions = final_model.predict(new_data_selected)\n",
    "\n",
    "# Añadir las predicciones al DataFrame\n",
    "new_data_selected['G3_predicho'] = new_predictions\n",
    "\n",
    "# Mostrar las primeras filas\n",
    "print(new_data_selected[['G3_predicho']].head())"
   ]
  },
  {
   "cell_type": "markdown",
   "id": "d5e87c0afc0db54d",
   "metadata": {},
   "source": [
    "- Ahora se tienen las predicciones de G3 para los nuevos estudiantes.\n",
    "\n",
    "Se puede utilizar esta información para tomar decisiones o realizar análisis adicionales."
   ]
  },
  {
   "cell_type": "code",
   "execution_count": null,
   "id": "4f302647eee9258",
   "metadata": {},
   "outputs": [],
   "source": []
  },
  {
   "cell_type": "code",
   "execution_count": null,
   "id": "16b11b1e02d0c5ec",
   "metadata": {},
   "outputs": [],
   "source": []
  },
  {
   "cell_type": "code",
   "execution_count": null,
   "id": "6823d5a5de3acadd",
   "metadata": {},
   "outputs": [],
   "source": []
  },
  {
   "cell_type": "code",
   "execution_count": null,
   "id": "e07b399860889898",
   "metadata": {},
   "outputs": [],
   "source": []
  },
  {
   "cell_type": "code",
   "execution_count": null,
   "id": "5ca154add8d774d4",
   "metadata": {},
   "outputs": [],
   "source": []
  }
 ],
 "metadata": {
  "kernelspec": {
   "display_name": ".venv",
   "language": "python",
   "name": "python3"
  },
  "language_info": {
   "codemirror_mode": {
    "name": "ipython",
    "version": 3
   },
   "file_extension": ".py",
   "mimetype": "text/x-python",
   "name": "python",
   "nbconvert_exporter": "python",
   "pygments_lexer": "ipython3",
   "version": "3.12.5"
  }
 },
 "nbformat": 4,
 "nbformat_minor": 5
}
